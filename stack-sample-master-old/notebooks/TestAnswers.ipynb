{
  "cells": [
    {
      "metadata": {
        "trusted": true
      },
      "cell_type": "code",
      "source": "import time, threading\nimport ipywidgets as widgets",
      "execution_count": 1,
      "outputs": []
    },
    {
      "metadata": {
        "trusted": true
      },
      "cell_type": "code",
      "source": "timeLbl=widgets.Text(value='0',description='',disabled=True);timeLbl",
      "execution_count": 2,
      "outputs": [
        {
          "output_type": "display_data",
          "data": {
            "application/vnd.jupyter.widget-view+json": {
              "model_id": "65ca24269951422f9238901d8a6f5310",
              "version_minor": 0,
              "version_major": 2
            },
            "text/plain": "Text(value='0', disabled=True)"
          },
          "metadata": {}
        }
      ]
    },
    {
      "metadata": {
        "trusted": true
      },
      "cell_type": "code",
      "source": "strtClck1=widgets.ToggleButton(value=False,description='Activate',disabled=False,button_style='info',tooltip='',icon='',visibility = 'visible');strtClck1",
      "execution_count": 3,
      "outputs": [
        {
          "output_type": "display_data",
          "data": {
            "application/vnd.jupyter.widget-view+json": {
              "model_id": "a79b6e4e067c4789a9f753d42ae7b7a1",
              "version_minor": 0,
              "version_major": 2
            },
            "text/plain": "ToggleButton(value=False, button_style='info', description='Activate')"
          },
          "metadata": {}
        }
      ]
    },
    {
      "metadata": {
        "trusted": true
      },
      "cell_type": "code",
      "source": "q1 = widgets.RadioButtons(options=['January 1rst 2018', 'January 2nd 2018', 'January 3rd 2018'],value=None,description='Release:',disabled=True);q1",
      "execution_count": 4,
      "outputs": [
        {
          "output_type": "display_data",
          "data": {
            "application/vnd.jupyter.widget-view+json": {
              "model_id": "5d01d9c994da49a68ddd62e978cf292c",
              "version_minor": 0,
              "version_major": 2
            },
            "text/plain": "RadioButtons(description='Release:', disabled=True, options=('January 1rst 2018', 'January 2nd 2018', 'January…"
          },
          "metadata": {}
        }
      ]
    },
    {
      "metadata": {
        "trusted": true
      },
      "cell_type": "code",
      "source": "def timer(btn,lbl,q):        \n        \n    cnt =int(lbl.value)   \n    on=btn.value \n    desc=q.description\n\n    if desc!='Submitted':\n        if on==True:      \n            threading.Timer(1, timer, [btn,lbl,q]).start()\n            cnt = cnt+1                        \n            lbl.value = str(cnt)\n            btn.description='Submit answer'\n            q.disabled=False\n\n        elif on==False:\n            threading.Timer(1, timer, [btn,lbl,q]).start()\n            btn.description='Activate'\n            q.disabled=True\n\n        else:\n            None\n    \n    if cnt!=0 and btn.description=='Activate':\n        threading.Timer(1, timer, [btn,lbl,q]).start()\n        q.description='Submitted'\n        btn.visibility='hidden'\n        btn.description='--'\n        btn.disbled=True    ",
      "execution_count": 5,
      "outputs": []
    },
    {
      "metadata": {
        "trusted": true
      },
      "cell_type": "code",
      "source": "timer(strtClck1,timeLbl,q1)",
      "execution_count": 6,
      "outputs": []
    },
    {
      "metadata": {
        "trusted": true
      },
      "cell_type": "code",
      "source": "timeLbl.value",
      "execution_count": 7,
      "outputs": [
        {
          "output_type": "execute_result",
          "execution_count": 7,
          "data": {
            "text/plain": "'0'"
          },
          "metadata": {}
        }
      ]
    },
    {
      "metadata": {
        "trusted": true
      },
      "cell_type": "code",
      "source": "q1.value",
      "execution_count": 8,
      "outputs": []
    }
  ],
  "metadata": {
    "kernelspec": {
      "name": "python3",
      "display_name": "Python 3",
      "language": "python"
    },
    "language_info": {
      "mimetype": "text/x-python",
      "nbconvert_exporter": "python",
      "name": "python",
      "file_extension": ".py",
      "version": "3.5.4",
      "pygments_lexer": "ipython3",
      "codemirror_mode": {
        "version": 3,
        "name": "ipython"
      }
    }
  },
  "nbformat": 4,
  "nbformat_minor": 1
}