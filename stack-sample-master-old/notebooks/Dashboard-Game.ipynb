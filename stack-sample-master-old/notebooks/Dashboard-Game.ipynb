{
 "cells": [
  {
   "cell_type": "code",
   "execution_count": 3,
   "metadata": {},
   "outputs": [
    {
     "name": "stdout",
     "output_type": "stream",
     "text": [
      "Requirement already satisfied: plotly in /Users/Ge/anaconda2/envs/py36/lib/python3.6/site-packages (3.6.0)\n",
      "Requirement already satisfied: retrying>=1.3.3 in /Users/Ge/anaconda2/envs/py36/lib/python3.6/site-packages (from plotly) (1.3.3)\n",
      "Requirement already satisfied: pytz in /Users/Ge/anaconda2/envs/py36/lib/python3.6/site-packages (from plotly) (2018.4)\n",
      "Requirement already satisfied: nbformat>=4.2 in /Users/Ge/anaconda2/envs/py36/lib/python3.6/site-packages (from plotly) (4.4.0)\n",
      "Requirement already satisfied: decorator>=4.0.6 in /Users/Ge/anaconda2/envs/py36/lib/python3.6/site-packages (from plotly) (4.3.0)\n",
      "Requirement already satisfied: requests in /Users/Ge/anaconda2/envs/py36/lib/python3.6/site-packages (from plotly) (2.18.4)\n",
      "Requirement already satisfied: six in /Users/Ge/anaconda2/envs/py36/lib/python3.6/site-packages (from plotly) (1.11.0)\n",
      "Requirement already satisfied: ipython_genutils in /Users/Ge/anaconda2/envs/py36/lib/python3.6/site-packages (from nbformat>=4.2->plotly) (0.2.0)\n",
      "Requirement already satisfied: traitlets>=4.1 in /Users/Ge/anaconda2/envs/py36/lib/python3.6/site-packages (from nbformat>=4.2->plotly) (4.3.2)\n",
      "Requirement already satisfied: jsonschema!=2.5.0,>=2.4 in /Users/Ge/anaconda2/envs/py36/lib/python3.6/site-packages (from nbformat>=4.2->plotly) (2.6.0)\n",
      "Requirement already satisfied: jupyter_core in /Users/Ge/anaconda2/envs/py36/lib/python3.6/site-packages (from nbformat>=4.2->plotly) (4.4.0)\n",
      "Requirement already satisfied: chardet<3.1.0,>=3.0.2 in /Users/Ge/anaconda2/envs/py36/lib/python3.6/site-packages (from requests->plotly) (3.0.4)\n",
      "Requirement already satisfied: idna<2.7,>=2.5 in /Users/Ge/anaconda2/envs/py36/lib/python3.6/site-packages (from requests->plotly) (2.6)\n",
      "Requirement already satisfied: urllib3<1.23,>=1.21.1 in /Users/Ge/anaconda2/envs/py36/lib/python3.6/site-packages (from requests->plotly) (1.22)\n",
      "Requirement already satisfied: certifi>=2017.4.17 in /Users/Ge/anaconda2/envs/py36/lib/python3.6/site-packages (from requests->plotly) (2018.4.16)\n"
     ]
    }
   ],
   "source": [
    "%%sh\n",
    "pip install plotly"
   ]
  },
  {
   "cell_type": "code",
   "execution_count": 4,
   "metadata": {},
   "outputs": [
    {
     "data": {
      "text/plain": [
       "'3.6.0'"
      ]
     },
     "execution_count": 4,
     "metadata": {},
     "output_type": "execute_result"
    }
   ],
   "source": [
    "import pandas as pd\n",
    "import plotly\n",
    "plotly.__version__"
   ]
  },
  {
   "cell_type": "code",
   "execution_count": 5,
   "metadata": {},
   "outputs": [],
   "source": [
    "plotly.tools.set_credentials_file(username='irvinghg', api_key='1B3oHF0vwgLpowDqVAa7')"
   ]
  },
  {
   "cell_type": "code",
   "execution_count": 6,
   "metadata": {},
   "outputs": [
    {
     "data": {
      "text/html": [
       "<div>\n",
       "<style scoped>\n",
       "    .dataframe tbody tr th:only-of-type {\n",
       "        vertical-align: middle;\n",
       "    }\n",
       "\n",
       "    .dataframe tbody tr th {\n",
       "        vertical-align: top;\n",
       "    }\n",
       "\n",
       "    .dataframe thead th {\n",
       "        text-align: right;\n",
       "    }\n",
       "</style>\n",
       "<table border=\"1\" class=\"dataframe\">\n",
       "  <thead>\n",
       "    <tr style=\"text-align: right;\">\n",
       "      <th></th>\n",
       "      <th>qid</th>\n",
       "      <th>score</th>\n",
       "      <th>time</th>\n",
       "      <th>user_effort</th>\n",
       "      <th>calculated_effort</th>\n",
       "      <th>execution_time</th>\n",
       "    </tr>\n",
       "  </thead>\n",
       "  <tbody>\n",
       "    <tr>\n",
       "      <th>0</th>\n",
       "      <td>q1</td>\n",
       "      <td>1.0</td>\n",
       "      <td>45</td>\n",
       "      <td>Low</td>\n",
       "      <td>2.500000</td>\n",
       "      <td>7.663465</td>\n",
       "    </tr>\n",
       "    <tr>\n",
       "      <th>1</th>\n",
       "      <td>q2</td>\n",
       "      <td>0.0</td>\n",
       "      <td>34</td>\n",
       "      <td>Low</td>\n",
       "      <td>100.000000</td>\n",
       "      <td>7.663465</td>\n",
       "    </tr>\n",
       "    <tr>\n",
       "      <th>2</th>\n",
       "      <td>q3</td>\n",
       "      <td>1.0</td>\n",
       "      <td>70</td>\n",
       "      <td>Regular</td>\n",
       "      <td>3.888889</td>\n",
       "      <td>7.663465</td>\n",
       "    </tr>\n",
       "    <tr>\n",
       "      <th>3</th>\n",
       "      <td>q4</td>\n",
       "      <td>0.0</td>\n",
       "      <td>122</td>\n",
       "      <td>Regular</td>\n",
       "      <td>100.000000</td>\n",
       "      <td>7.663465</td>\n",
       "    </tr>\n",
       "    <tr>\n",
       "      <th>4</th>\n",
       "      <td>q5</td>\n",
       "      <td>0.4</td>\n",
       "      <td>24</td>\n",
       "      <td>High</td>\n",
       "      <td>3.333333</td>\n",
       "      <td>7.663465</td>\n",
       "    </tr>\n",
       "    <tr>\n",
       "      <th>5</th>\n",
       "      <td>q6</td>\n",
       "      <td>1.0</td>\n",
       "      <td>55</td>\n",
       "      <td>Low</td>\n",
       "      <td>3.055556</td>\n",
       "      <td>7.663465</td>\n",
       "    </tr>\n",
       "    <tr>\n",
       "      <th>6</th>\n",
       "      <td>q7</td>\n",
       "      <td>0.2</td>\n",
       "      <td>11</td>\n",
       "      <td>High</td>\n",
       "      <td>3.055556</td>\n",
       "      <td>7.663465</td>\n",
       "    </tr>\n",
       "  </tbody>\n",
       "</table>\n",
       "</div>"
      ],
      "text/plain": [
       "  qid  score  time user_effort  calculated_effort  execution_time\n",
       "0  q1    1.0    45         Low           2.500000        7.663465\n",
       "1  q2    0.0    34         Low         100.000000        7.663465\n",
       "2  q3    1.0    70     Regular           3.888889        7.663465\n",
       "3  q4    0.0   122     Regular         100.000000        7.663465\n",
       "4  q5    0.4    24        High           3.333333        7.663465\n",
       "5  q6    1.0    55         Low           3.055556        7.663465\n",
       "6  q7    0.2    11        High           3.055556        7.663465"
      ]
     },
     "execution_count": 6,
     "metadata": {},
     "output_type": "execute_result"
    }
   ],
   "source": [
    "# Read CSV\n",
    "results_m1 = pd.read_csv('../results/match1.csv')#,\n",
    "                         #na_values=':', usecols=['qid', 'score', 'time', 'user_effort', 'calculated_effort', 'execution_time'])\n",
    "results_m1"
   ]
  },
  {
   "cell_type": "code",
   "execution_count": 7,
   "metadata": {},
   "outputs": [
    {
     "data": {
      "text/html": [
       "<div>\n",
       "<style scoped>\n",
       "    .dataframe tbody tr th:only-of-type {\n",
       "        vertical-align: middle;\n",
       "    }\n",
       "\n",
       "    .dataframe tbody tr th {\n",
       "        vertical-align: top;\n",
       "    }\n",
       "\n",
       "    .dataframe thead th {\n",
       "        text-align: right;\n",
       "    }\n",
       "</style>\n",
       "<table border=\"1\" class=\"dataframe\">\n",
       "  <thead>\n",
       "    <tr style=\"text-align: right;\">\n",
       "      <th></th>\n",
       "      <th>qid</th>\n",
       "      <th>score</th>\n",
       "      <th>time</th>\n",
       "      <th>user_effort</th>\n",
       "      <th>calculated_effort</th>\n",
       "      <th>execution_time</th>\n",
       "    </tr>\n",
       "  </thead>\n",
       "  <tbody>\n",
       "    <tr>\n",
       "      <th>0</th>\n",
       "      <td>1</td>\n",
       "      <td>0.0</td>\n",
       "      <td>5</td>\n",
       "      <td>Regular</td>\n",
       "      <td>100.000000</td>\n",
       "      <td>3.617214</td>\n",
       "    </tr>\n",
       "    <tr>\n",
       "      <th>1</th>\n",
       "      <td>2</td>\n",
       "      <td>0.0</td>\n",
       "      <td>5</td>\n",
       "      <td>Regular</td>\n",
       "      <td>100.000000</td>\n",
       "      <td>3.617214</td>\n",
       "    </tr>\n",
       "    <tr>\n",
       "      <th>2</th>\n",
       "      <td>3</td>\n",
       "      <td>1.0</td>\n",
       "      <td>7</td>\n",
       "      <td>High</td>\n",
       "      <td>0.388889</td>\n",
       "      <td>3.617214</td>\n",
       "    </tr>\n",
       "    <tr>\n",
       "      <th>3</th>\n",
       "      <td>4</td>\n",
       "      <td>0.0</td>\n",
       "      <td>5</td>\n",
       "      <td>NaN</td>\n",
       "      <td>100.000000</td>\n",
       "      <td>3.617214</td>\n",
       "    </tr>\n",
       "    <tr>\n",
       "      <th>4</th>\n",
       "      <td>5</td>\n",
       "      <td>0.0</td>\n",
       "      <td>17</td>\n",
       "      <td>High</td>\n",
       "      <td>100.000000</td>\n",
       "      <td>3.617214</td>\n",
       "    </tr>\n",
       "    <tr>\n",
       "      <th>5</th>\n",
       "      <td>6</td>\n",
       "      <td>0.0</td>\n",
       "      <td>3</td>\n",
       "      <td>Low</td>\n",
       "      <td>100.000000</td>\n",
       "      <td>3.617214</td>\n",
       "    </tr>\n",
       "    <tr>\n",
       "      <th>6</th>\n",
       "      <td>7</td>\n",
       "      <td>0.0</td>\n",
       "      <td>19</td>\n",
       "      <td>Regular</td>\n",
       "      <td>100.000000</td>\n",
       "      <td>3.617214</td>\n",
       "    </tr>\n",
       "  </tbody>\n",
       "</table>\n",
       "</div>"
      ],
      "text/plain": [
       "   qid  score  time user_effort  calculated_effort  execution_time\n",
       "0    1    0.0     5     Regular         100.000000        3.617214\n",
       "1    2    0.0     5     Regular         100.000000        3.617214\n",
       "2    3    1.0     7        High           0.388889        3.617214\n",
       "3    4    0.0     5         NaN         100.000000        3.617214\n",
       "4    5    0.0    17        High         100.000000        3.617214\n",
       "5    6    0.0     3         Low         100.000000        3.617214\n",
       "6    7    0.0    19     Regular         100.000000        3.617214"
      ]
     },
     "execution_count": 7,
     "metadata": {},
     "output_type": "execute_result"
    }
   ],
   "source": [
    "results_m2 = pd.read_csv('../results/match2.csv')#,\n",
    "                         #na_values=':', usecols=['qid', 'score', 'time', 'user_effort', 'calculated_effort', 'execution_time'])\n",
    "results_m2"
   ]
  },
  {
   "cell_type": "code",
   "execution_count": 8,
   "metadata": {},
   "outputs": [
    {
     "data": {
      "text/html": [
       "<iframe id=\"igraph\" scrolling=\"no\" style=\"border:none;\" seamless=\"seamless\" src=\"https://plot.ly/~irvinghg/69.embed\" height=\"525px\" width=\"100%\"></iframe>"
      ],
      "text/plain": [
       "<plotly.tools.PlotlyDisplay object>"
      ]
     },
     "execution_count": 8,
     "metadata": {},
     "output_type": "execute_result"
    }
   ],
   "source": [
    "import plotly.plotly as py\n",
    "import plotly.graph_objs as go\n",
    "\n",
    "r = list(results_m1['score'])\n",
    "rmax=max(r)\n",
    "deltar=rmax+(rmax*0.1)\n",
    "\n",
    "r2 = list(results_m2['score'])\n",
    "rmax2=max(r2)\n",
    "deltar2=rmax2+(rmax2*0.1)\n",
    "\n",
    "data = [go.Scatterpolar(\n",
    "  r = r,\n",
    "    theta = results_m1['qid'],\n",
    "  fill = 'toself',\n",
    "    name = 'Score Match 1'\n",
    "),\n",
    "    go.Scatterpolar(\n",
    "      r = r2,\n",
    "      theta = results_m2['qid'],\n",
    "      fill = 'toself',\n",
    "      name = 'Score Match 2'\n",
    "    )\n",
    "]\n",
    "\n",
    "layout = go.Layout(\n",
    "  polar = dict(\n",
    "    radialaxis = dict(\n",
    "      visible = True,\n",
    "      range = [0, max(deltar,deltar2)]\n",
    "    )\n",
    "  ),\n",
    "  showlegend = True\n",
    ")\n",
    "\n",
    "fig = go.Figure(data=data, layout=layout)\n",
    "py.iplot(fig, filename = \"score-multiple\")"
   ]
  },
  {
   "cell_type": "code",
   "execution_count": 9,
   "metadata": {},
   "outputs": [
    {
     "data": {
      "text/plain": [
       "'https://plot.ly/~irvinghg/101'"
      ]
     },
     "execution_count": 9,
     "metadata": {},
     "output_type": "execute_result"
    }
   ],
   "source": [
    "plot_url_mult = py.plot(fig);plot_url_mult"
   ]
  },
  {
   "cell_type": "code",
   "execution_count": 10,
   "metadata": {},
   "outputs": [
    {
     "data": {
      "text/html": [
       "<iframe id=\"igraph\" scrolling=\"no\" style=\"border:none;\" seamless=\"seamless\" src=\"https://plot.ly/~irvinghg/75.embed\" height=\"525px\" width=\"100%\"></iframe>"
      ],
      "text/plain": [
       "<plotly.tools.PlotlyDisplay object>"
      ]
     },
     "execution_count": 10,
     "metadata": {},
     "output_type": "execute_result"
    }
   ],
   "source": [
    "import plotly.plotly as py\n",
    "import plotly.graph_objs as go\n",
    "\n",
    "data = [go.Scatterpolar(\n",
    "  r = r,\n",
    "    theta = results_m1['qid'],\n",
    "  fill = 'toself',\n",
    "    name = 'Time Match 1'\n",
    "),\n",
    "    go.Scatterpolar(\n",
    "      r = r2,\n",
    "      theta = results_m2['qid'],\n",
    "      fill = 'toself',\n",
    "      name = 'Time Match 2'\n",
    "    )\n",
    "]\n",
    "\n",
    "trace1 = go.Bar(\n",
    "    x = results_m1['qid'],\n",
    "    y=results_m1['time'],\n",
    "    name='Using raw data',\n",
    "    marker=dict(\n",
    "        color='rgb(55, 83, 109)'\n",
    "    )\n",
    ")\n",
    "trace2 = go.Bar(\n",
    "    x = results_m2['qid'],\n",
    "    y = results_m2['time'],\n",
    "    name='Using views',\n",
    "    marker=dict(\n",
    "        color='rgb(26, 118, 255)'\n",
    "    )\n",
    ")\n",
    "data = [trace1, trace2]\n",
    "layout = go.Layout(\n",
    "    title='Time to answer challenge queries',\n",
    "    xaxis=dict(\n",
    "        tickfont=dict(\n",
    "            size=14,\n",
    "            color='rgb(107, 107, 107)'\n",
    "        )\n",
    "    ),\n",
    "    yaxis=dict(\n",
    "        title='Time (seconds)',\n",
    "        titlefont=dict(\n",
    "            size=16,\n",
    "            color='rgb(107, 107, 107)'\n",
    "        ),\n",
    "        tickfont=dict(\n",
    "            size=14,\n",
    "            color='rgb(107, 107, 107)'\n",
    "        )\n",
    "    ),\n",
    "    legend=dict(\n",
    "        x=0,\n",
    "        y=1.0,\n",
    "        bgcolor='rgba(255, 255, 255, 0)',\n",
    "        bordercolor='rgba(255, 255, 255, 0)'\n",
    "    ),\n",
    "    barmode='group',\n",
    "    bargap=0.15,\n",
    "    bargroupgap=0.1\n",
    ")\n",
    "\n",
    "fig = go.Figure(data=data, layout=layout)\n",
    "py.iplot(fig, filename='question-time-bar')"
   ]
  },
  {
   "cell_type": "code",
   "execution_count": 11,
   "metadata": {},
   "outputs": [
    {
     "data": {
      "text/plain": [
       "'https://plot.ly/~irvinghg/103'"
      ]
     },
     "execution_count": 11,
     "metadata": {},
     "output_type": "execute_result"
    }
   ],
   "source": [
    "plot_url_bar = py.plot(fig);plot_url_bar"
   ]
  },
  {
   "cell_type": "code",
   "execution_count": 12,
   "metadata": {},
   "outputs": [
    {
     "data": {
      "text/plain": [
       "user_effort\n",
       "High       2\n",
       "Low        3\n",
       "Regular    2\n",
       "Name: qid, dtype: int64"
      ]
     },
     "execution_count": 12,
     "metadata": {},
     "output_type": "execute_result"
    }
   ],
   "source": [
    "effort_groups1 = results_m1.groupby('user_effort').count().qid;effort_groups1"
   ]
  },
  {
   "cell_type": "code",
   "execution_count": 13,
   "metadata": {},
   "outputs": [
    {
     "data": {
      "text/plain": [
       "user_effort\n",
       "High       2\n",
       "Low        1\n",
       "Regular    3\n",
       "Name: qid, dtype: int64"
      ]
     },
     "execution_count": 13,
     "metadata": {},
     "output_type": "execute_result"
    }
   ],
   "source": [
    "effort_groups2 = results_m2.groupby('user_effort').count().qid;effort_groups2"
   ]
  },
  {
   "cell_type": "code",
   "execution_count": 14,
   "metadata": {},
   "outputs": [
    {
     "data": {
      "text/html": [
       "<iframe id=\"igraph\" scrolling=\"no\" style=\"border:none;\" seamless=\"seamless\" src=\"https://plot.ly/~irvinghg/79.embed\" height=\"525px\" width=\"100%\"></iframe>"
      ],
      "text/plain": [
       "<plotly.tools.PlotlyDisplay object>"
      ]
     },
     "execution_count": 14,
     "metadata": {},
     "output_type": "execute_result"
    }
   ],
   "source": [
    "# User effor --pie chart--\n",
    "import plotly.plotly as py\n",
    "import plotly.graph_objs as go\n",
    "\n",
    "fig = {\n",
    "    \"data\": [\n",
    "        {\n",
    "            \"values\": effort_groups1,\n",
    "            \"labels\": ['Low','Regular','High'],\n",
    "            \"marker\": {\n",
    "                \"line\": {\n",
    "                    \"color\": \"#FFFFFF\",\n",
    "                    \"width\": 2\n",
    "                    },\n",
    "                \"colors\": [\n",
    "                    \"rgb(178, 62, 39)\",\n",
    "                    \"rgb(119, 123, 132)\",\n",
    "                    \"rgb(21, 52, 140)\"\n",
    "                    ]\n",
    "                    },\n",
    "            \"insidetextfont\": {\n",
    "                \"color\": \"#FFFFFF\"\n",
    "                },\n",
    "            #\"domain\": {\"x\": [0, .48]},\n",
    "            \"name\": \"User Effort Group\",\n",
    "            \"hoverinfo\":\"label+percent+name\",\n",
    "            \"hole\": .4,\n",
    "            \"type\": \"pie\"\n",
    "        }],\n",
    "    \"layout\": {\n",
    "            \"title\":\"User effort perception exploring raw data\",\n",
    "            \"annotations\": [\n",
    "                {\n",
    "                    \"font\": {\n",
    "                        \"size\": 20\n",
    "                    },\n",
    "                    \"showarrow\": False,\n",
    "                    \"text\": \"Match 1\",\n",
    "                    \"x\": 0.5,\n",
    "                    \"y\": 0.5\n",
    "                }\n",
    "            ]\n",
    "        }\n",
    "     \n",
    "}\n",
    "\n",
    "py.iplot(fig, filename='userEffort_donut_m1')"
   ]
  },
  {
   "cell_type": "code",
   "execution_count": 15,
   "metadata": {},
   "outputs": [
    {
     "data": {
      "text/plain": [
       "'https://plot.ly/~irvinghg/105'"
      ]
     },
     "execution_count": 15,
     "metadata": {},
     "output_type": "execute_result"
    }
   ],
   "source": [
    "plot_url_donut1 = py.plot(fig);plot_url_donut1"
   ]
  },
  {
   "cell_type": "code",
   "execution_count": 16,
   "metadata": {},
   "outputs": [
    {
     "data": {
      "text/html": [
       "<iframe id=\"igraph\" scrolling=\"no\" style=\"border:none;\" seamless=\"seamless\" src=\"https://plot.ly/~irvinghg/83.embed\" height=\"525px\" width=\"100%\"></iframe>"
      ],
      "text/plain": [
       "<plotly.tools.PlotlyDisplay object>"
      ]
     },
     "execution_count": 16,
     "metadata": {},
     "output_type": "execute_result"
    }
   ],
   "source": [
    "# User effor --pie chart--\n",
    "import plotly.plotly as py\n",
    "import plotly.graph_objs as go\n",
    "\n",
    "fig = {\n",
    "    \"data\": [\n",
    "        {\n",
    "            \"values\": effort_groups2,\n",
    "            \"labels\": ['Low','Regular','High'],\n",
    "            \"marker\": {\n",
    "                \"line\": {\n",
    "                    \"color\": \"#FFFFFF\",\n",
    "                    \"width\": 2\n",
    "                    },\n",
    "                \"colors\": [\n",
    "                    \"rgb(178, 62, 39)\",\n",
    "                    \"rgb(119, 123, 132)\",\n",
    "                    \"rgb(21, 52, 140)\"\n",
    "                    ]\n",
    "                    },\n",
    "            \"insidetextfont\": {\n",
    "                \"color\": \"#FFFFFF\"\n",
    "                },\n",
    "            #\"domain\": {\"x\": [0, .48]},\n",
    "            \"name\": \"User Effort Group\",\n",
    "            \"hoverinfo\":\"label+percent+name\",\n",
    "            \"hole\": .4,\n",
    "            \"type\": \"pie\"\n",
    "        }],\n",
    "    \"layout\": {\n",
    "            \"title\":\"User effort perception exploring views\",\n",
    "            \"annotations\": [\n",
    "                {\n",
    "                    \"font\": {\n",
    "                        \"size\": 20\n",
    "                    },\n",
    "                    \"showarrow\": False,\n",
    "                    \"text\": \"Match 2\",\n",
    "                    \"x\": 0.5,\n",
    "                    \"y\": 0.5\n",
    "                }\n",
    "            ]\n",
    "        }\n",
    "     \n",
    "}\n",
    "\n",
    "py.iplot(fig, filename='userEffort_donut_m2')"
   ]
  },
  {
   "cell_type": "code",
   "execution_count": 17,
   "metadata": {},
   "outputs": [
    {
     "data": {
      "text/plain": [
       "'https://plot.ly/~irvinghg/107'"
      ]
     },
     "execution_count": 17,
     "metadata": {},
     "output_type": "execute_result"
    }
   ],
   "source": [
    "plot_url_donut2 = py.plot(fig);plot_url_donut2"
   ]
  },
  {
   "cell_type": "code",
   "execution_count": 18,
   "metadata": {},
   "outputs": [
    {
     "data": {
      "text/html": [
       "<iframe id=\"igraph\" scrolling=\"no\" style=\"border:none;\" seamless=\"seamless\" src=\"https://plot.ly/~irvinghg/87.embed\" height=\"525px\" width=\"100%\"></iframe>"
      ],
      "text/plain": [
       "<plotly.tools.PlotlyDisplay object>"
      ]
     },
     "execution_count": 18,
     "metadata": {},
     "output_type": "execute_result"
    }
   ],
   "source": [
    "# Line and Scatter Plots\n",
    "import plotly.plotly as py\n",
    "import plotly.graph_objs as go\n",
    "\n",
    "plotly.tools.set_credentials_file(username='irvinghg', api_key='1B3oHF0vwgLpowDqVAa7')\n",
    "\n",
    "# Create traces\n",
    "trace0 = go.Scatter(\n",
    "    x = results_m1['qid'],\n",
    "    y = results_m1['calculated_effort'],\n",
    "    mode = 'lines+markers',\n",
    "    name = 'Exploring raw data'\n",
    ")\n",
    "trace1 = go.Scatter(\n",
    "    x = results_m2['qid'],\n",
    "    y = results_m2['calculated_effort'],\n",
    "    mode = 'lines+markers',\n",
    "    name = 'Exploring views'\n",
    ")\n",
    "\n",
    "layout = dict(title = 'Calculated effort (time/core ratio)',\n",
    "              yaxis = dict(zeroline = False),\n",
    "              xaxis = dict(zeroline = False)\n",
    "             )\n",
    "\n",
    "data = [trace0, trace1]\n",
    "fig = dict(data=data, layout=layout)\n",
    "\n",
    "py.iplot(fig, filename='calculatedEffort_Scattered')"
   ]
  },
  {
   "cell_type": "code",
   "execution_count": 19,
   "metadata": {},
   "outputs": [
    {
     "data": {
      "text/plain": [
       "'https://plot.ly/~irvinghg/109'"
      ]
     },
     "execution_count": 19,
     "metadata": {},
     "output_type": "execute_result"
    }
   ],
   "source": [
    "plot_url_calc = py.plot(fig);plot_url_calc"
   ]
  },
  {
   "cell_type": "code",
   "execution_count": 20,
   "metadata": {},
   "outputs": [
    {
     "name": "stdout",
     "output_type": "stream",
     "text": [
      "https://plot.ly/~irvinghg/103\n",
      "https://plot.ly/~irvinghg/109\n",
      "https://plot.ly/~irvinghg/101\n",
      "https://plot.ly/~irvinghg/105\n",
      "https://plot.ly/~irvinghg/107\n"
     ]
    }
   ],
   "source": [
    "print(plot_url_bar)\n",
    "print(plot_url_calc)\n",
    "print(plot_url_mult)\n",
    "print(plot_url_donut1)\n",
    "print(plot_url_donut2)"
   ]
  },
  {
   "cell_type": "code",
   "execution_count": 21,
   "metadata": {},
   "outputs": [
    {
     "data": {
      "text/plain": [
       "'https://plot.ly/~irvinghg/44/untitled-dashboard/'"
      ]
     },
     "execution_count": 21,
     "metadata": {},
     "output_type": "execute_result"
    }
   ],
   "source": [
    "import plotly.dashboard_objs as dashboard\n",
    "import IPython.display\n",
    "from IPython.display import Image\n",
    " \n",
    "my_dboard = dashboard.Dashboard()\n",
    "my_dboard.get_preview()\n",
    "\n",
    "box_1 = {\n",
    "    'type': 'box',\n",
    "    'boxType': 'plot',\n",
    "    'fileId': 'irvinghg:77',\n",
    "    'title': 'question-time-bar'\n",
    "}\n",
    "\n",
    "box_2 = {\n",
    "    'type': 'box',\n",
    "    'boxType': 'plot',\n",
    "    'fileId': 'irvinghg:89',\n",
    "    'title': 'calculatedEffort_Scattered'\n",
    "}\n",
    "\n",
    "box_3 = {\n",
    "    'type': 'box',\n",
    "    'boxType': 'plot',\n",
    "    'fileId': 'irvinghg:73',\n",
    "    'title': 'score-multiple'\n",
    "}\n",
    "\n",
    "box_4 = {\n",
    "    'type': 'box',\n",
    "    'boxType': 'plot',\n",
    "    'fileId': 'irvinghg:81',\n",
    "    'title': 'userEffort_donut_m1'\n",
    "}\n",
    " \n",
    "box_5 = {\n",
    "    'type': 'box',\n",
    "    'boxType': 'plot',\n",
    "    'fileId': 'irvinghg:85',\n",
    "    'title': 'userEffort_donut_m2'\n",
    "}\n",
    " \n",
    "\n",
    "my_dboard.insert(box_2)             # scattered\n",
    "my_dboard.insert(box_1, 'above', 1) # time bar\n",
    "my_dboard.insert(box_4, 'below', 2) # donut 1\n",
    "my_dboard.insert(box_5, 'right', 3) # donut 2\n",
    "my_dboard.insert(box_3, 'right', 2) # multiple\n",
    "\n",
    "\n",
    "import plotly.plotly as py\n",
    "py.dashboard_ops.upload(my_dboard, 'game-dash1000')"
   ]
  },
  {
   "cell_type": "code",
   "execution_count": 22,
   "metadata": {},
   "outputs": [
    {
     "name": "stdout",
     "output_type": "stream",
     "text": [
      "https://plot.ly/~irvinghg/44/untitled-dashboard/\n"
     ]
    }
   ],
   "source": [
    "print(py.dashboard_ops.upload(my_dboard, 'game-dash1000'))"
   ]
  }
 ],
 "metadata": {
  "kernelspec": {
   "display_name": "Python 3",
   "language": "python",
   "name": "python3"
  },
  "language_info": {
   "codemirror_mode": {
    "name": "ipython",
    "version": 3
   },
   "file_extension": ".py",
   "mimetype": "text/x-python",
   "name": "python",
   "nbconvert_exporter": "python",
   "pygments_lexer": "ipython3",
   "version": "3.6.5"
  }
 },
 "nbformat": 4,
 "nbformat_minor": 1
}
