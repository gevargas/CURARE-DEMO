{
  "cells": [
    {
      "metadata": {
        "trusted": true
      },
      "cell_type": "code",
      "source": "import pandas as pd\nimport plotly\nplotly.__version__",
      "execution_count": 1,
      "outputs": [
        {
          "output_type": "execute_result",
          "execution_count": 1,
          "data": {
            "text/plain": "'3.4.2'"
          },
          "metadata": {}
        }
      ]
    },
    {
      "metadata": {
        "trusted": true
      },
      "cell_type": "code",
      "source": "plotly.tools.set_credentials_file(username='irvinghg', api_key='1B3oHF0vwgLpowDqVAa7')",
      "execution_count": 2,
      "outputs": []
    },
    {
      "metadata": {
        "trusted": true
      },
      "cell_type": "code",
      "source": "# Read CSV\nresults_m1 = pd.read_csv('../results/match1.csv')#,\n                         #na_values=':', usecols=['qid', 'score', 'time', 'user_effort', 'calculated_effort', 'execution_time'])\nresults_m1",
      "execution_count": 3,
      "outputs": [
        {
          "output_type": "execute_result",
          "execution_count": 3,
          "data": {
            "text/plain": "  qid  score  time user_effort  calculated_effort  execution_time\n0  q1    1.0    45         Low           2.500000        7.663465\n1  q2    0.0    34         Low         100.000000        7.663465\n2  q3    1.0    70     Regular           3.888889        7.663465\n3  q4    0.0   122     Regular         100.000000        7.663465\n4  q5    0.4    24        High           3.333333        7.663465\n5  q6    1.0    55         Low           3.055556        7.663465\n6  q7    0.2    11        High           3.055556        7.663465",
            "text/html": "<div>\n<style scoped>\n    .dataframe tbody tr th:only-of-type {\n        vertical-align: middle;\n    }\n\n    .dataframe tbody tr th {\n        vertical-align: top;\n    }\n\n    .dataframe thead th {\n        text-align: right;\n    }\n</style>\n<table border=\"1\" class=\"dataframe\">\n  <thead>\n    <tr style=\"text-align: right;\">\n      <th></th>\n      <th>qid</th>\n      <th>score</th>\n      <th>time</th>\n      <th>user_effort</th>\n      <th>calculated_effort</th>\n      <th>execution_time</th>\n    </tr>\n  </thead>\n  <tbody>\n    <tr>\n      <th>0</th>\n      <td>q1</td>\n      <td>1.0</td>\n      <td>45</td>\n      <td>Low</td>\n      <td>2.500000</td>\n      <td>7.663465</td>\n    </tr>\n    <tr>\n      <th>1</th>\n      <td>q2</td>\n      <td>0.0</td>\n      <td>34</td>\n      <td>Low</td>\n      <td>100.000000</td>\n      <td>7.663465</td>\n    </tr>\n    <tr>\n      <th>2</th>\n      <td>q3</td>\n      <td>1.0</td>\n      <td>70</td>\n      <td>Regular</td>\n      <td>3.888889</td>\n      <td>7.663465</td>\n    </tr>\n    <tr>\n      <th>3</th>\n      <td>q4</td>\n      <td>0.0</td>\n      <td>122</td>\n      <td>Regular</td>\n      <td>100.000000</td>\n      <td>7.663465</td>\n    </tr>\n    <tr>\n      <th>4</th>\n      <td>q5</td>\n      <td>0.4</td>\n      <td>24</td>\n      <td>High</td>\n      <td>3.333333</td>\n      <td>7.663465</td>\n    </tr>\n    <tr>\n      <th>5</th>\n      <td>q6</td>\n      <td>1.0</td>\n      <td>55</td>\n      <td>Low</td>\n      <td>3.055556</td>\n      <td>7.663465</td>\n    </tr>\n    <tr>\n      <th>6</th>\n      <td>q7</td>\n      <td>0.2</td>\n      <td>11</td>\n      <td>High</td>\n      <td>3.055556</td>\n      <td>7.663465</td>\n    </tr>\n  </tbody>\n</table>\n</div>"
          },
          "metadata": {}
        }
      ]
    },
    {
      "metadata": {
        "trusted": true
      },
      "cell_type": "code",
      "source": "results_m2 = pd.read_csv('../results/match2.csv')#,\n                         #na_values=':', usecols=['qid', 'score', 'time', 'user_effort', 'calculated_effort', 'execution_time'])\nresults_m2",
      "execution_count": 4,
      "outputs": [
        {
          "output_type": "execute_result",
          "execution_count": 4,
          "data": {
            "text/plain": "  qid  score  time user_effort  calculated_effort  execution_time\n0  q1    1.0     4         Low           0.222222            1261\n1  q2    1.0     4     Regular           0.222222            1261\n2  q3    1.0     7        High           0.388889            1261\n3  q4    0.0    40     Regular         100.000000            1261\n4  q5    0.8    24        High           1.666667            1261\n5  q6    1.0     4     Regular           0.222222            1261\n6  q7    0.4    11        High           1.527778            1261",
            "text/html": "<div>\n<style scoped>\n    .dataframe tbody tr th:only-of-type {\n        vertical-align: middle;\n    }\n\n    .dataframe tbody tr th {\n        vertical-align: top;\n    }\n\n    .dataframe thead th {\n        text-align: right;\n    }\n</style>\n<table border=\"1\" class=\"dataframe\">\n  <thead>\n    <tr style=\"text-align: right;\">\n      <th></th>\n      <th>qid</th>\n      <th>score</th>\n      <th>time</th>\n      <th>user_effort</th>\n      <th>calculated_effort</th>\n      <th>execution_time</th>\n    </tr>\n  </thead>\n  <tbody>\n    <tr>\n      <th>0</th>\n      <td>q1</td>\n      <td>1.0</td>\n      <td>4</td>\n      <td>Low</td>\n      <td>0.222222</td>\n      <td>1261</td>\n    </tr>\n    <tr>\n      <th>1</th>\n      <td>q2</td>\n      <td>1.0</td>\n      <td>4</td>\n      <td>Regular</td>\n      <td>0.222222</td>\n      <td>1261</td>\n    </tr>\n    <tr>\n      <th>2</th>\n      <td>q3</td>\n      <td>1.0</td>\n      <td>7</td>\n      <td>High</td>\n      <td>0.388889</td>\n      <td>1261</td>\n    </tr>\n    <tr>\n      <th>3</th>\n      <td>q4</td>\n      <td>0.0</td>\n      <td>40</td>\n      <td>Regular</td>\n      <td>100.000000</td>\n      <td>1261</td>\n    </tr>\n    <tr>\n      <th>4</th>\n      <td>q5</td>\n      <td>0.8</td>\n      <td>24</td>\n      <td>High</td>\n      <td>1.666667</td>\n      <td>1261</td>\n    </tr>\n    <tr>\n      <th>5</th>\n      <td>q6</td>\n      <td>1.0</td>\n      <td>4</td>\n      <td>Regular</td>\n      <td>0.222222</td>\n      <td>1261</td>\n    </tr>\n    <tr>\n      <th>6</th>\n      <td>q7</td>\n      <td>0.4</td>\n      <td>11</td>\n      <td>High</td>\n      <td>1.527778</td>\n      <td>1261</td>\n    </tr>\n  </tbody>\n</table>\n</div>"
          },
          "metadata": {}
        }
      ]
    },
    {
      "metadata": {
        "trusted": true
      },
      "cell_type": "code",
      "source": "import plotly.plotly as py\nimport plotly.graph_objs as go\n\nr = list(results_m1['score'])\nrmax=max(r)\ndeltar=rmax+(rmax*0.1)\n\nr2 = list(results_m2['score'])\nrmax2=max(r2)\ndeltar2=rmax2+(rmax2*0.1)\n\ndata = [go.Scatterpolar(\n  r = r,\n    theta = results_m1['qid'],\n  fill = 'toself',\n    name = 'Score Match 1'\n),\n    go.Scatterpolar(\n      r = r2,\n      theta = results_m2['qid'],\n      fill = 'toself',\n      name = 'Score Match 2'\n    )\n]\n\nlayout = go.Layout(\n  polar = dict(\n    radialaxis = dict(\n      visible = True,\n      range = [0, max(deltar,deltar2)]\n    )\n  ),\n  showlegend = True\n)\n\nfig = go.Figure(data=data, layout=layout)\npy.iplot(fig, filename = \"score-multiple\")",
      "execution_count": 5,
      "outputs": [
        {
          "output_type": "execute_result",
          "execution_count": 5,
          "data": {
            "text/plain": "<plotly.tools.PlotlyDisplay object>",
            "text/html": "<iframe id=\"igraph\" scrolling=\"no\" style=\"border:none;\" seamless=\"seamless\" src=\"https://plot.ly/~irvinghg/69.embed\" height=\"525px\" width=\"100%\"></iframe>"
          },
          "metadata": {}
        }
      ]
    },
    {
      "metadata": {
        "trusted": true
      },
      "cell_type": "code",
      "source": "plot_url_mult = py.plot(fig);plot_url_mult",
      "execution_count": 6,
      "outputs": [
        {
          "output_type": "execute_result",
          "execution_count": 6,
          "data": {
            "text/plain": "u'https://plot.ly/~irvinghg/73'"
          },
          "metadata": {}
        }
      ]
    },
    {
      "metadata": {
        "trusted": true
      },
      "cell_type": "code",
      "source": "import plotly.plotly as py\nimport plotly.graph_objs as go\n\ndata = [go.Scatterpolar(\n  r = r,\n    theta = results_m1['qid'],\n  fill = 'toself',\n    name = 'Time Match 1'\n),\n    go.Scatterpolar(\n      r = r2,\n      theta = results_m2['qid'],\n      fill = 'toself',\n      name = 'Time Match 2'\n    )\n]\n\ntrace1 = go.Bar(\n    x = results_m1['qid'],\n    y=results_m1['time'],\n    name='Using raw data',\n    marker=dict(\n        color='rgb(55, 83, 109)'\n    )\n)\ntrace2 = go.Bar(\n    x = results_m2['qid'],\n    y = results_m2['time'],\n    name='Using views',\n    marker=dict(\n        color='rgb(26, 118, 255)'\n    )\n)\ndata = [trace1, trace2]\nlayout = go.Layout(\n    title='Time to answer challenge queries',\n    xaxis=dict(\n        tickfont=dict(\n            size=14,\n            color='rgb(107, 107, 107)'\n        )\n    ),\n    yaxis=dict(\n        title='Time (seconds)',\n        titlefont=dict(\n            size=16,\n            color='rgb(107, 107, 107)'\n        ),\n        tickfont=dict(\n            size=14,\n            color='rgb(107, 107, 107)'\n        )\n    ),\n    legend=dict(\n        x=0,\n        y=1.0,\n        bgcolor='rgba(255, 255, 255, 0)',\n        bordercolor='rgba(255, 255, 255, 0)'\n    ),\n    barmode='group',\n    bargap=0.15,\n    bargroupgap=0.1\n)\n\nfig = go.Figure(data=data, layout=layout)\npy.iplot(fig, filename='question-time-bar')",
      "execution_count": 7,
      "outputs": [
        {
          "output_type": "execute_result",
          "execution_count": 7,
          "data": {
            "text/plain": "<plotly.tools.PlotlyDisplay object>",
            "text/html": "<iframe id=\"igraph\" scrolling=\"no\" style=\"border:none;\" seamless=\"seamless\" src=\"https://plot.ly/~irvinghg/75.embed\" height=\"525px\" width=\"100%\"></iframe>"
          },
          "metadata": {}
        }
      ]
    },
    {
      "metadata": {
        "trusted": true
      },
      "cell_type": "code",
      "source": "plot_url_bar = py.plot(fig);plot_url_bar",
      "execution_count": 8,
      "outputs": [
        {
          "output_type": "execute_result",
          "execution_count": 8,
          "data": {
            "text/plain": "u'https://plot.ly/~irvinghg/77'"
          },
          "metadata": {}
        }
      ]
    },
    {
      "metadata": {
        "trusted": true
      },
      "cell_type": "code",
      "source": "effort_groups1 = results_m1.groupby('user_effort').count().qid;effort_groups1",
      "execution_count": 9,
      "outputs": [
        {
          "output_type": "execute_result",
          "execution_count": 9,
          "data": {
            "text/plain": "user_effort\nHigh       2\nLow        3\nRegular    2\nName: qid, dtype: int64"
          },
          "metadata": {}
        }
      ]
    },
    {
      "metadata": {
        "trusted": true
      },
      "cell_type": "code",
      "source": "effort_groups2 = results_m2.groupby('user_effort').count().qid;effort_groups2",
      "execution_count": 10,
      "outputs": [
        {
          "output_type": "execute_result",
          "execution_count": 10,
          "data": {
            "text/plain": "user_effort\nHigh       3\nLow        1\nRegular    3\nName: qid, dtype: int64"
          },
          "metadata": {}
        }
      ]
    },
    {
      "metadata": {
        "trusted": true
      },
      "cell_type": "code",
      "source": "# User effor --pie chart--\nimport plotly.plotly as py\nimport plotly.graph_objs as go\n\nfig = {\n    \"data\": [\n        {\n            \"values\": effort_groups1,\n            \"labels\": ['Low','Regular','High'],\n            \"marker\": {\n                \"line\": {\n                    \"color\": \"#FFFFFF\",\n                    \"width\": 2\n                    },\n                \"colors\": [\n                    \"rgb(178, 62, 39)\",\n                    \"rgb(119, 123, 132)\",\n                    \"rgb(21, 52, 140)\"\n                    ]\n                    },\n            \"insidetextfont\": {\n                \"color\": \"#FFFFFF\"\n                },\n            #\"domain\": {\"x\": [0, .48]},\n            \"name\": \"User Effort Group\",\n            \"hoverinfo\":\"label+percent+name\",\n            \"hole\": .4,\n            \"type\": \"pie\"\n        }],\n    \"layout\": {\n            \"title\":\"User effort perception exploring raw data\",\n            \"annotations\": [\n                {\n                    \"font\": {\n                        \"size\": 20\n                    },\n                    \"showarrow\": False,\n                    \"text\": \"Match 1\",\n                    \"x\": 0.5,\n                    \"y\": 0.5\n                }\n            ]\n        }\n     \n}\n\npy.iplot(fig, filename='userEffort_donut_m1')",
      "execution_count": 11,
      "outputs": [
        {
          "output_type": "execute_result",
          "execution_count": 11,
          "data": {
            "text/plain": "<plotly.tools.PlotlyDisplay object>",
            "text/html": "<iframe id=\"igraph\" scrolling=\"no\" style=\"border:none;\" seamless=\"seamless\" src=\"https://plot.ly/~irvinghg/79.embed\" height=\"525px\" width=\"100%\"></iframe>"
          },
          "metadata": {}
        }
      ]
    },
    {
      "metadata": {
        "trusted": true
      },
      "cell_type": "code",
      "source": "plot_url_donut1 = py.plot(fig);plot_url_donut1",
      "execution_count": 12,
      "outputs": [
        {
          "output_type": "execute_result",
          "execution_count": 12,
          "data": {
            "text/plain": "u'https://plot.ly/~irvinghg/81'"
          },
          "metadata": {}
        }
      ]
    },
    {
      "metadata": {
        "trusted": true
      },
      "cell_type": "code",
      "source": "# User effor --pie chart--\nimport plotly.plotly as py\nimport plotly.graph_objs as go\n\nfig = {\n    \"data\": [\n        {\n            \"values\": effort_groups2,\n            \"labels\": ['Low','Regular','High'],\n            \"marker\": {\n                \"line\": {\n                    \"color\": \"#FFFFFF\",\n                    \"width\": 2\n                    },\n                \"colors\": [\n                    \"rgb(178, 62, 39)\",\n                    \"rgb(119, 123, 132)\",\n                    \"rgb(21, 52, 140)\"\n                    ]\n                    },\n            \"insidetextfont\": {\n                \"color\": \"#FFFFFF\"\n                },\n            #\"domain\": {\"x\": [0, .48]},\n            \"name\": \"User Effort Group\",\n            \"hoverinfo\":\"label+percent+name\",\n            \"hole\": .4,\n            \"type\": \"pie\"\n        }],\n    \"layout\": {\n            \"title\":\"User effort perception exploring views\",\n            \"annotations\": [\n                {\n                    \"font\": {\n                        \"size\": 20\n                    },\n                    \"showarrow\": False,\n                    \"text\": \"Match 2\",\n                    \"x\": 0.5,\n                    \"y\": 0.5\n                }\n            ]\n        }\n     \n}\n\npy.iplot(fig, filename='userEffort_donut_m2')",
      "execution_count": 13,
      "outputs": [
        {
          "output_type": "execute_result",
          "execution_count": 13,
          "data": {
            "text/plain": "<plotly.tools.PlotlyDisplay object>",
            "text/html": "<iframe id=\"igraph\" scrolling=\"no\" style=\"border:none;\" seamless=\"seamless\" src=\"https://plot.ly/~irvinghg/83.embed\" height=\"525px\" width=\"100%\"></iframe>"
          },
          "metadata": {}
        }
      ]
    },
    {
      "metadata": {
        "trusted": true
      },
      "cell_type": "code",
      "source": "plot_url_donut2 = py.plot(fig);plot_url_donut2",
      "execution_count": 14,
      "outputs": [
        {
          "output_type": "execute_result",
          "execution_count": 14,
          "data": {
            "text/plain": "u'https://plot.ly/~irvinghg/85'"
          },
          "metadata": {}
        }
      ]
    },
    {
      "metadata": {
        "trusted": true
      },
      "cell_type": "code",
      "source": "# Line and Scatter Plots\nimport plotly.plotly as py\nimport plotly.graph_objs as go\n\nplotly.tools.set_credentials_file(username='irvinghg', api_key='1B3oHF0vwgLpowDqVAa7')\n\n# Create traces\ntrace0 = go.Scatter(\n    x = results_m1['qid'],\n    y = results_m1['calculated_effort'],\n    mode = 'lines+markers',\n    name = 'Exploring raw data'\n)\ntrace1 = go.Scatter(\n    x = results_m2['qid'],\n    y = results_m2['calculated_effort'],\n    mode = 'lines+markers',\n    name = 'Exploring views'\n)\n\nlayout = dict(title = 'Calculated effort (time/core ratio)',\n              yaxis = dict(zeroline = False),\n              xaxis = dict(zeroline = False)\n             )\n\ndata = [trace0, trace1]\nfig = dict(data=data, layout=layout)\n\npy.iplot(fig, filename='calculatedEffort_Scattered')",
      "execution_count": 15,
      "outputs": [
        {
          "output_type": "execute_result",
          "execution_count": 15,
          "data": {
            "text/plain": "<plotly.tools.PlotlyDisplay object>",
            "text/html": "<iframe id=\"igraph\" scrolling=\"no\" style=\"border:none;\" seamless=\"seamless\" src=\"https://plot.ly/~irvinghg/87.embed\" height=\"525px\" width=\"100%\"></iframe>"
          },
          "metadata": {}
        }
      ]
    },
    {
      "metadata": {
        "trusted": true
      },
      "cell_type": "code",
      "source": "plot_url_calc = py.plot(fig);plot_url_calc",
      "execution_count": 16,
      "outputs": [
        {
          "output_type": "execute_result",
          "execution_count": 16,
          "data": {
            "text/plain": "u'https://plot.ly/~irvinghg/89'"
          },
          "metadata": {}
        }
      ]
    },
    {
      "metadata": {
        "trusted": true
      },
      "cell_type": "code",
      "source": "print(plot_url_bar)\nprint(plot_url_calc)\nprint(plot_url_mult)\nprint(plot_url_donut1)\nprint(plot_url_donut2)",
      "execution_count": 18,
      "outputs": [
        {
          "output_type": "stream",
          "text": "https://plot.ly/~irvinghg/77\nhttps://plot.ly/~irvinghg/89\nhttps://plot.ly/~irvinghg/73\nhttps://plot.ly/~irvinghg/81\nhttps://plot.ly/~irvinghg/85\n",
          "name": "stdout"
        }
      ]
    },
    {
      "metadata": {
        "trusted": true
      },
      "cell_type": "code",
      "source": "import plotly.dashboard_objs as dashboard\nimport IPython.display\nfrom IPython.display import Image\n \nmy_dboard = dashboard.Dashboard()\nmy_dboard.get_preview()\n\nbox_1 = {\n    'type': 'box',\n    'boxType': 'plot',\n    'fileId': 'irvinghg:77',\n    'title': 'question-time-bar'\n}\n\nbox_2 = {\n    'type': 'box',\n    'boxType': 'plot',\n    'fileId': 'irvinghg:89',\n    'title': 'calculatedEffort_Scattered'\n}\n\nbox_3 = {\n    'type': 'box',\n    'boxType': 'plot',\n    'fileId': 'irvinghg:73',\n    'title': 'score-multiple'\n}\n\nbox_4 = {\n    'type': 'box',\n    'boxType': 'plot',\n    'fileId': 'irvinghg:81',\n    'title': 'userEffort_donut_m1'\n}\n \nbox_5 = {\n    'type': 'box',\n    'boxType': 'plot',\n    'fileId': 'irvinghg:85',\n    'title': 'userEffort_donut_m2'\n}\n \n\nmy_dboard.insert(box_2)             # scattered\nmy_dboard.insert(box_1, 'above', 1) # time bar\nmy_dboard.insert(box_4, 'below', 2) # donut 1\nmy_dboard.insert(box_5, 'right', 3) # donut 2\nmy_dboard.insert(box_3, 'right', 2) # multiple\n\n\nimport plotly.plotly as py\npy.dashboard_ops.upload(my_dboard, 'game-dash1000')",
      "execution_count": 19,
      "outputs": [
        {
          "output_type": "execute_result",
          "execution_count": 19,
          "data": {
            "text/plain": "u'https://plot.ly/~irvinghg/44/untitled-dashboard/'"
          },
          "metadata": {}
        }
      ]
    },
    {
      "metadata": {
        "trusted": true
      },
      "cell_type": "code",
      "source": "print(py.dashboard_ops.upload(my_dboard, 'game-dash1000'))",
      "execution_count": 20,
      "outputs": [
        {
          "output_type": "stream",
          "text": "https://plot.ly/~irvinghg/44/untitled-dashboard/\n",
          "name": "stdout"
        }
      ]
    }
  ],
  "metadata": {
    "kernelspec": {
      "name": "python2",
      "display_name": "Python 2",
      "language": "python"
    },
    "language_info": {
      "mimetype": "text/x-python",
      "nbconvert_exporter": "python",
      "name": "python",
      "pygments_lexer": "ipython2",
      "version": "2.7.15",
      "file_extension": ".py",
      "codemirror_mode": {
        "version": 2,
        "name": "ipython"
      }
    }
  },
  "nbformat": 4,
  "nbformat_minor": 1
}