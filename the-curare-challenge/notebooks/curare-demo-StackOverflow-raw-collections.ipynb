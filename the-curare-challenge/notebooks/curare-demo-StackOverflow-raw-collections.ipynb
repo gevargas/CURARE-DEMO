{
 "cells": [
  {
   "cell_type": "markdown",
   "metadata": {
    "collapsed": true
   },
   "source": [
    "# Stack Overflow raw data collections dump 1 - 4 January 2018"
   ]
  },
  {
   "cell_type": "markdown",
   "metadata": {},
   "source": [
    "![](figures/stack-overflow-schema.png)"
   ]
  },
  {
   "cell_type": "code",
   "execution_count": 41,
   "metadata": {},
   "outputs": [],
   "source": [
    "import pandas as pd\n",
    "from functools import reduce\n",
    "import timeit\n",
    "import warnings\n",
    "warnings.filterwarnings('ignore')\n",
    "import matplotlib.pyplot as plt"
   ]
  },
  {
   "cell_type": "markdown",
   "metadata": {},
   "source": [
    "# Raw Stack Overflow releases - data dumps\n",
    "\n",
    "## Release - January 1rst 2018"
   ]
  },
  {
   "cell_type": "code",
   "execution_count": 42,
   "metadata": {},
   "outputs": [],
   "source": [
    "badgesR1_df = pd.read_csv(\"../releases/jan-01-02_2018/BADGES_jan-01-02_2018.csv\")\n",
    "commentsR1_df = pd.read_csv(\"../releases/jan-01-02_2018/COMMENTS_jan-01-02_2018.csv\")\n",
    "postsR1_df = pd.read_csv(\"../releases/jan-01-02_2018/POSTS_jan-01-02_2018.csv\")\n",
    "usersR1_df = pd.read_csv(\"../releases/jan-01-02_2018/USERS_jan-01-02_2018.csv\")\n",
    "votesR1_df = pd.read_csv(\"../releases/jan-01-02_2018/VOTES_jan-01-02_2018.csv\")\n"
   ]
  },
  {
   "cell_type": "markdown",
   "metadata": {},
   "source": [
    "## Release - January 2nd 2018"
   ]
  },
  {
   "cell_type": "code",
   "execution_count": 43,
   "metadata": {},
   "outputs": [],
   "source": [
    "badgesR2_df = pd.read_csv(\"../releases/jan-02-03_2018/BADGES_jan-02-03_2018.csv\")\n",
    "commentsR2_df = pd.read_csv(\"../releases/jan-02-03_2018/COMMENTS_jan-02-03_2018.csv\")\n",
    "postsR2_df = pd.read_csv(\"../releases/jan-02-03_2018/POSTS_jan-02-03_2018.csv\")\n",
    "usersR2_df = pd.read_csv(\"../releases/jan-02-03_2018/USERS_jan-02-03_2018.csv\")\n",
    "votesR2_df = pd.read_csv(\"../releases/jan-02-03_2018/VOTES_jan-02-03_2018.csv\")"
   ]
  },
  {
   "cell_type": "markdown",
   "metadata": {},
   "source": [
    "## Release - January 3rd 2018"
   ]
  },
  {
   "cell_type": "code",
   "execution_count": 44,
   "metadata": {},
   "outputs": [
    {
     "name": "stderr",
     "output_type": "stream",
     "text": [
      "b'Skipping line 1562: expected 22 fields, saw 28\\n'\n"
     ]
    }
   ],
   "source": [
    "badgesR3_df = pd.read_csv(\"../releases/jan-03-04_2018/BADGES_jan-03-04_2018.csv\")\n",
    "commentsR3_df = pd.read_csv(\"../releases/jan-03-04_2018/COMMENTS_jan-03-04_2018.csv\")\n",
    "import csv\n",
    "postsR3_df = pd.read_csv(\"../releases/jan-03-04_2018/POSTS_jan-03-04_2018.csv\", quoting=csv.QUOTE_NONE, error_bad_lines=False)\n",
    "usersR3_df = pd.read_csv(\"../releases/jan-03-04_2018/USERS_jan-03-04_2018.csv\")\n",
    "votesR3_df = pd.read_csv(\"../releases/jan-03-04_2018/VOTES_jan-03-04_2018.csv\")"
   ]
  },
  {
   "cell_type": "markdown",
   "metadata": {},
   "source": [
    "# Exploring Stack Overflow data collections"
   ]
  },
  {
   "cell_type": "markdown",
   "metadata": {},
   "source": [
    "## Size given in number of records & Schema"
   ]
  },
  {
   "cell_type": "code",
   "execution_count": 45,
   "metadata": {},
   "outputs": [
    {
     "name": "stdout",
     "output_type": "stream",
     "text": [
      ". - . - . - . - . - . -  Stack Overflow Release January 1 2018 . - . - . - . - . - . - \n",
      "\n",
      "----- Badges ----- Index(['Id', 'UserId', 'Name', 'Date', 'Class', 'TagBased'], dtype='object')\n",
      "Number of records and columns in Badges: (200, 6)\n",
      "\n",
      "----- Comments ----- Index(['Id', 'PostId', 'Score', 'Text', 'CreationDate', 'UserDisplayName',\n",
      "       'UserId'],\n",
      "      dtype='object')\n",
      "Number of recods and columns in Comments: (988, 7)\n",
      "\n",
      "----- Posts ----- Index(['Id', 'PostTypeId', 'AcceptedAnswerId', 'ParentId', 'CreationDate',\n",
      "       'DeletionDate', 'Score', 'ViewCount', 'Body', 'OwnerUserId',\n",
      "       'OwnerDisplayName', 'LastEditorUserId', 'LastEditorDisplayName',\n",
      "       'LastEditDate', 'LastActivityDate', 'Title', 'Tags', 'AnswerCount',\n",
      "       'CommentCount', 'FavoriteCount', 'ClosedDate', 'CommunityOwnedDate'],\n",
      "      dtype='object')\n",
      "Number of records and columns in Posts: (47, 22)\n",
      "\n",
      "----- Users ----- Index(['Id', 'Reputation', 'CreationDate', 'DisplayName', 'LastAccessDate',\n",
      "       'WebsiteUrl', 'Location', 'AboutMe', 'Views', 'UpVotes', 'DownVotes',\n",
      "       'ProfileImageUrl', 'EmailHash', 'AccountId'],\n",
      "      dtype='object')\n",
      "Number of records and columns in Users: (921, 14)\n",
      "\n",
      "----- Votes ----- Index(['Id', 'PostId', 'VoteTypeId', 'UserId', 'CreationDate', 'BountyAmount'], dtype='object')\n",
      "Number of records and columns in Votes: (1023, 6)\n"
     ]
    }
   ],
   "source": [
    "print(\". - . - . - . - . - . -  Stack Overflow Release January 1 2018 . - . - . - . - . - . - \")\n",
    "print(\"\")\n",
    "print(\"----- Badges -----\", badgesR1_df.columns)\n",
    "print(\"Number of records and columns in Badges:\", badgesR1_df.shape)\n",
    "print(\"\")\n",
    "print(\"----- Comments -----\", commentsR1_df.columns)\n",
    "print(\"Number of recods and columns in Comments:\", commentsR1_df.shape)\n",
    "print(\"\")\n",
    "print(\"----- Posts -----\", postsR1_df.columns)\n",
    "print(\"Number of records and columns in Posts:\", postsR1_df.shape)\n",
    "print(\"\")\n",
    "print(\"----- Users -----\", usersR1_df.columns)\n",
    "print(\"Number of records and columns in Users:\", usersR1_df.shape)\n",
    "print(\"\")\n",
    "print(\"----- Votes -----\", votesR1_df.columns)\n",
    "print(\"Number of records and columns in Votes:\", votesR1_df.shape)"
   ]
  },
  {
   "cell_type": "code",
   "execution_count": 46,
   "metadata": {},
   "outputs": [
    {
     "name": "stdout",
     "output_type": "stream",
     "text": [
      ". - . - . - . - . - . -  Stack Overflow Release January 2 2018 . - . - . - . - . - . - \n",
      "\n",
      "----- Badges ----- Index(['Id', 'UserId', 'Name', 'Date', 'Class', 'TagBased'], dtype='object')\n",
      "Number of records and columns in Badges: (1080, 6)\n",
      "\n",
      "----- Comments ----- Index(['Id', 'PostId', 'Score', 'Text', 'CreationDate', 'UserDisplayName',\n",
      "       'UserId'],\n",
      "      dtype='object')\n",
      "Number of records and columns in Comments: (888, 7)\n",
      "\n",
      "----- Posts ----- Index(['Id', 'PostTypeId', 'AcceptedAnswerId', 'ParentId', 'CreationDate',\n",
      "       'DeletionDate', 'Score', 'ViewCount', 'Body', 'OwnerUserId',\n",
      "       'OwnerDisplayName', 'LastEditorUserId', 'LastEditorDisplayName',\n",
      "       'LastEditDate', 'LastActivityDate', 'Title', 'Tags', 'AnswerCount',\n",
      "       'CommentCount', 'FavoriteCount', 'ClosedDate', 'CommunityOwnedDate'],\n",
      "      dtype='object')\n",
      "Number of records and columns in Posts: (71, 22)\n",
      "\n",
      "----- Users ----- Index(['Id', 'Reputation', 'CreationDate', 'DisplayName', 'LastAccessDate',\n",
      "       'WebsiteUrl', 'Location', 'AboutMe', 'Views', 'UpVotes', 'DownVotes',\n",
      "       'ProfileImageUrl', 'EmailHash', 'AccountId'],\n",
      "      dtype='object')\n",
      "Number of records and columns in Users: (915, 14)\n",
      "\n",
      "----- Votes ----- Index(['Id', 'PostId', 'VoteTypeId', 'UserId', 'CreationDate', 'BountyAmount'], dtype='object')\n",
      "Number of records and columns in Votes: (1024, 6)\n"
     ]
    }
   ],
   "source": [
    "print(\". - . - . - . - . - . -  Stack Overflow Release January 2 2018 . - . - . - . - . - . - \")\n",
    "print(\"\")\n",
    "\n",
    "print(\"----- Badges -----\", badgesR2_df.columns)\n",
    "print(\"Number of records and columns in Badges:\", badgesR2_df.shape)\n",
    "print(\"\")\n",
    "\n",
    "print(\"----- Comments -----\", commentsR2_df.columns)\n",
    "print(\"Number of records and columns in Comments:\", commentsR2_df.shape)\n",
    "print(\"\")\n",
    "\n",
    "print(\"----- Posts -----\", postsR2_df.columns)\n",
    "print(\"Number of records and columns in Posts:\", postsR2_df.shape)\n",
    "print(\"\")\n",
    "\n",
    "print(\"----- Users -----\", usersR2_df.columns)\n",
    "print(\"Number of records and columns in Users:\",usersR2_df.shape)\n",
    "print(\"\")\n",
    "\n",
    "print(\"----- Votes -----\", votesR2_df.columns)\n",
    "print(\"Number of records and columns in Votes:\", votesR2_df.shape)"
   ]
  },
  {
   "cell_type": "code",
   "execution_count": 47,
   "metadata": {},
   "outputs": [
    {
     "name": "stdout",
     "output_type": "stream",
     "text": [
      ". - . - . - . - . - . -  Stack Overflow Release January 3 2018 . - . - . - . - . - . - \n",
      "\n",
      "----- Badges ----- Index(['Id', 'UserId', 'Name', 'Date', 'Class', 'TagBased'], dtype='object')\n",
      "Number of records and columns in Badges: (1188, 6)\n",
      "\n",
      "----- Comments ----- Index(['Id', 'PostId', 'Score', 'Text', 'CreationDate', 'UserDisplayName',\n",
      "       'UserId'],\n",
      "      dtype='object')\n",
      "Number of records and columns in Comments: (994, 7)\n",
      "\n",
      "----- Posts ----- Index(['Id', 'PostTypeId', 'AcceptedAnswerId', 'ParentId', 'CreationDate',\n",
      "       'DeletionDate', 'Score', 'ViewCount', 'Body', 'OwnerUserId',\n",
      "       'OwnerDisplayName', 'LastEditorUserId', 'LastEditorDisplayName',\n",
      "       'LastEditDate', 'LastActivityDate', 'Title', 'Tags', 'AnswerCount',\n",
      "       'CommentCount', 'FavoriteCount', 'ClosedDate', 'CommunityOwnedDate'],\n",
      "      dtype='object')\n",
      "Number of records and columns in Posts: (2470, 22)\n",
      "\n",
      "----- Users ----- Index(['Id', 'Reputation', 'CreationDate', 'DisplayName', 'LastAccessDate',\n",
      "       'WebsiteUrl', 'Location', 'AboutMe', 'Views', 'UpVotes', 'DownVotes',\n",
      "       'ProfileImageUrl', 'EmailHash', 'AccountId'],\n",
      "      dtype='object')\n",
      "Number of records and columns in Users: (1038, 14)\n",
      "\n",
      "----- Votes ----- Index(['Id', 'PostId', 'VoteTypeId', 'UserId', 'CreationDate', 'BountyAmount'], dtype='object')\n",
      "Number of records and columns in Votes: (1417, 6)\n"
     ]
    }
   ],
   "source": [
    "print(\". - . - . - . - . - . -  Stack Overflow Release January 3 2018 . - . - . - . - . - . - \")\n",
    "print(\"\")\n",
    "\n",
    "print(\"----- Badges -----\", badgesR3_df.columns)\n",
    "print(\"Number of records and columns in Badges:\", badgesR3_df.shape)\n",
    "print(\"\")\n",
    "\n",
    "print(\"----- Comments -----\", commentsR3_df.columns)\n",
    "print(\"Number of records and columns in Comments:\", commentsR3_df.shape)\n",
    "print(\"\")\n",
    "\n",
    "print(\"----- Posts -----\", postsR3_df.columns)\n",
    "print(\"Number of records and columns in Posts:\", postsR3_df.shape)\n",
    "print(\"\")\n",
    "\n",
    "print(\"----- Users -----\", usersR3_df.columns)\n",
    "print(\"Number of records and columns in Users:\", usersR3_df.shape)\n",
    "print(\"\")\n",
    "\n",
    "print(\"----- Votes -----\", votesR3_df.columns)\n",
    "print(\"Number of records and columns in Votes:\", votesR3_df.shape)"
   ]
  },
  {
   "cell_type": "code",
   "execution_count": 48,
   "metadata": {},
   "outputs": [
    {
     "name": "stdout",
     "output_type": "stream",
     "text": [
      "-------------- Summarizing the size of the Stack Overflow releases R1, R2, R3 (number of recors --------------------\n",
      "\n",
      "Total number of records R2 3179\n",
      "Total number of records R2 3978\n",
      "Total number of records R3 7107\n"
     ]
    }
   ],
   "source": [
    "total_recordsR1 = badgesR1_df.shape[0] + commentsR1_df.shape[0] + postsR1_df.shape[0] + usersR1_df.shape[0] + votesR1_df.shape[0]\n",
    "total_recordsR2 = badgesR2_df.shape[0] + commentsR2_df.shape[0] + postsR2_df.shape[0] + usersR2_df.shape[0] + votesR2_df.shape[0]\n",
    "total_recordsR3 = badgesR3_df.shape[0] + commentsR3_df.shape[0] + postsR3_df.shape[0] + usersR3_df.shape[0] + votesR3_df.shape[0]\n",
    "\n",
    "print(\"-------------- Summarizing the size of the Stack Overflow releases R1, R2, R3 (number of recors --------------------\")\n",
    "print(\"\")\n",
    "print(\"Total number of records R2\", total_recordsR1)\n",
    "print(\"Total number of records R2\", total_recordsR2)\n",
    "print(\"Total number of records R3\", total_recordsR3)"
   ]
  },
  {
   "cell_type": "markdown",
   "metadata": {},
   "source": [
    "## Analytics using the schema information"
   ]
  },
  {
   "cell_type": "markdown",
   "metadata": {},
   "source": [
    "### Authors reputation: 10 top reputated authors in Stack Overflows' releases R1, R2 & R3"
   ]
  },
  {
   "cell_type": "code",
   "execution_count": 49,
   "metadata": {},
   "outputs": [
    {
     "data": {
      "text/html": [
       "<div>\n",
       "<style scoped>\n",
       "    .dataframe tbody tr th:only-of-type {\n",
       "        vertical-align: middle;\n",
       "    }\n",
       "\n",
       "    .dataframe tbody tr th {\n",
       "        vertical-align: top;\n",
       "    }\n",
       "\n",
       "    .dataframe thead th {\n",
       "        text-align: right;\n",
       "    }\n",
       "</style>\n",
       "<table border=\"1\" class=\"dataframe\">\n",
       "  <thead>\n",
       "    <tr style=\"text-align: right;\">\n",
       "      <th></th>\n",
       "      <th>Id</th>\n",
       "      <th>Reputation</th>\n",
       "      <th>Views</th>\n",
       "      <th>UpVotes</th>\n",
       "      <th>DownVotes</th>\n",
       "      <th>DisplayName</th>\n",
       "      <th>Release</th>\n",
       "    </tr>\n",
       "  </thead>\n",
       "  <tbody>\n",
       "    <tr>\n",
       "      <th>1200</th>\n",
       "      <td>9162025</td>\n",
       "      <td>309</td>\n",
       "      <td>23</td>\n",
       "      <td>0</td>\n",
       "      <td>0</td>\n",
       "      <td>PianoLontano23</td>\n",
       "      <td>R2</td>\n",
       "    </tr>\n",
       "    <tr>\n",
       "      <th>2739</th>\n",
       "      <td>9168101</td>\n",
       "      <td>216</td>\n",
       "      <td>20</td>\n",
       "      <td>0</td>\n",
       "      <td>0</td>\n",
       "      <td>user9168101</td>\n",
       "      <td>R3</td>\n",
       "    </tr>\n",
       "    <tr>\n",
       "      <th>1740</th>\n",
       "      <td>9162193</td>\n",
       "      <td>180</td>\n",
       "      <td>10</td>\n",
       "      <td>21</td>\n",
       "      <td>0</td>\n",
       "      <td>yl_low</td>\n",
       "      <td>R2</td>\n",
       "    </tr>\n",
       "    <tr>\n",
       "      <th>807</th>\n",
       "      <td>9160440</td>\n",
       "      <td>178</td>\n",
       "      <td>100</td>\n",
       "      <td>51</td>\n",
       "      <td>0</td>\n",
       "      <td>Herasimenak</td>\n",
       "      <td>R1</td>\n",
       "    </tr>\n",
       "    <tr>\n",
       "      <th>44</th>\n",
       "      <td>9160022</td>\n",
       "      <td>173</td>\n",
       "      <td>2</td>\n",
       "      <td>28</td>\n",
       "      <td>0</td>\n",
       "      <td>menfon</td>\n",
       "      <td>R1</td>\n",
       "    </tr>\n",
       "    <tr>\n",
       "      <th>60</th>\n",
       "      <td>9160038</td>\n",
       "      <td>169</td>\n",
       "      <td>121</td>\n",
       "      <td>1</td>\n",
       "      <td>0</td>\n",
       "      <td>shriyash Lakhe</td>\n",
       "      <td>R1</td>\n",
       "    </tr>\n",
       "    <tr>\n",
       "      <th>670</th>\n",
       "      <td>9160375</td>\n",
       "      <td>150</td>\n",
       "      <td>26</td>\n",
       "      <td>0</td>\n",
       "      <td>0</td>\n",
       "      <td>Kurniawan Alcantara</td>\n",
       "      <td>R1</td>\n",
       "    </tr>\n",
       "    <tr>\n",
       "      <th>679</th>\n",
       "      <td>9160384</td>\n",
       "      <td>141</td>\n",
       "      <td>27</td>\n",
       "      <td>4</td>\n",
       "      <td>0</td>\n",
       "      <td>fstep</td>\n",
       "      <td>R1</td>\n",
       "    </tr>\n",
       "    <tr>\n",
       "      <th>1404</th>\n",
       "      <td>9163370</td>\n",
       "      <td>133</td>\n",
       "      <td>31</td>\n",
       "      <td>18</td>\n",
       "      <td>1</td>\n",
       "      <td>JsonDork</td>\n",
       "      <td>R2</td>\n",
       "    </tr>\n",
       "    <tr>\n",
       "      <th>1135</th>\n",
       "      <td>9161983</td>\n",
       "      <td>121</td>\n",
       "      <td>7</td>\n",
       "      <td>2</td>\n",
       "      <td>0</td>\n",
       "      <td>bluewind03</td>\n",
       "      <td>R2</td>\n",
       "    </tr>\n",
       "  </tbody>\n",
       "</table>\n",
       "</div>"
      ],
      "text/plain": [
       "           Id  Reputation  Views  UpVotes  DownVotes          DisplayName  \\\n",
       "1200  9162025         309     23        0          0       PianoLontano23   \n",
       "2739  9168101         216     20        0          0          user9168101   \n",
       "1740  9162193         180     10       21          0               yl_low   \n",
       "807   9160440         178    100       51          0          Herasimenak   \n",
       "44    9160022         173      2       28          0               menfon   \n",
       "60    9160038         169    121        1          0       shriyash Lakhe   \n",
       "670   9160375         150     26        0          0  Kurniawan Alcantara   \n",
       "679   9160384         141     27        4          0                fstep   \n",
       "1404  9163370         133     31       18          1             JsonDork   \n",
       "1135  9161983         121      7        2          0           bluewind03   \n",
       "\n",
       "     Release  \n",
       "1200      R2  \n",
       "2739      R3  \n",
       "1740      R2  \n",
       "807       R1  \n",
       "44        R1  \n",
       "60        R1  \n",
       "670       R1  \n",
       "679       R1  \n",
       "1404      R2  \n",
       "1135      R2  "
      ]
     },
     "execution_count": 49,
     "metadata": {},
     "output_type": "execute_result"
    }
   ],
   "source": [
    "reputationR1_df =usersR1_df.loc[1:921,['Id','Reputation','Views','UpVotes','DownVotes','DisplayName']]\n",
    "reputationR1_df['Release'] = \"R1\"\n",
    "\n",
    "\n",
    "reputationR2_df =usersR2_df.loc[1:921,['Id','Reputation','Views','UpVotes','DownVotes','DisplayName']]\n",
    "reputationR2_df['Release'] = \"R2\"\n",
    "\n",
    "\n",
    "reputationR3_df =usersR3_df.loc[1:921,['Id','Reputation','Views','UpVotes','DownVotes','DisplayName']]\n",
    "reputationR3_df['Release'] = \"R3\"\n",
    "\n",
    "topAuthors_byReputation = pd.concat([reputationR1_df,reputationR2_df,reputationR3_df],ignore_index=True)\n",
    "topAuthors_byReputation.sort_values(by='Reputation', ascending=False, inplace=True)\n",
    "topAuthors_byReputation[0:10]"
   ]
  },
  {
   "cell_type": "markdown",
   "metadata": {},
   "source": [
    "### Answers popularity"
   ]
  },
  {
   "cell_type": "code",
   "execution_count": 50,
   "metadata": {},
   "outputs": [
    {
     "data": {
      "text/plain": [
       "PostId\n",
       "7059050     1\n",
       "8898627     2\n",
       "9710141     2\n",
       "10294756    1\n",
       "11260683    1\n",
       "19689048    2\n",
       "24586587    1\n",
       "27745354    1\n",
       "32007969    1\n",
       "36742687    2\n",
       "40366369    1\n",
       "40608363    1\n",
       "42741136    1\n",
       "44402272    2\n",
       "47372014    4\n",
       "48027565    1\n",
       "48035002    1\n",
       "48039375    1\n",
       "48042166    2\n",
       "48043092    1\n",
       "dtype: int64"
      ]
     },
     "execution_count": 50,
     "metadata": {},
     "output_type": "execute_result"
    }
   ],
   "source": [
    "popularity =reduce(lambda x, y: pd.merge(x, y, on = ['PostId']), [votesR1_df, commentsR1_df])\n",
    "\n",
    "answersPopularity = popularity.loc[1:1000, ['PostId','VoteTypeId','Score','UserId_x']]\n",
    "answersPopularity.sort_values(by='Score', ascending=False, inplace=True)\n",
    "answersPopularity.groupby('PostId')\n",
    "answersPopularity.sort_values(by='PostId', ascending=False, inplace=True)\n",
    "topAnswers = answersPopularity.groupby('PostId').size()\n",
    "topAnswers[0:20]"
   ]
  },
  {
   "cell_type": "markdown",
   "metadata": {},
   "source": [
    "## Attributes used for looking for trendy topics in releases"
   ]
  },
  {
   "cell_type": "markdown",
   "metadata": {},
   "source": [
    "### First we get a sample of one of the releases"
   ]
  },
  {
   "cell_type": "code",
   "execution_count": 51,
   "metadata": {},
   "outputs": [],
   "source": [
    "postsR1_df.sort_values(by='Tags', ascending=False, inplace=True)\n",
    "#postsR1_df.head()"
   ]
  },
  {
   "cell_type": "markdown",
   "metadata": {},
   "source": [
    "### For every tag count the number of views (people having a look at a post on a given topic)"
   ]
  },
  {
   "cell_type": "code",
   "execution_count": 52,
   "metadata": {},
   "outputs": [
    {
     "name": "stdout",
     "output_type": "stream",
     "text": [
      "----------------------   Trendy topics in release 1 January 2018 --------------------------\n"
     ]
    },
    {
     "data": {
      "text/html": [
       "<div>\n",
       "<style scoped>\n",
       "    .dataframe tbody tr th:only-of-type {\n",
       "        vertical-align: middle;\n",
       "    }\n",
       "\n",
       "    .dataframe tbody tr th {\n",
       "        vertical-align: top;\n",
       "    }\n",
       "\n",
       "    .dataframe thead th {\n",
       "        text-align: right;\n",
       "    }\n",
       "</style>\n",
       "<table border=\"1\" class=\"dataframe\">\n",
       "  <thead>\n",
       "    <tr style=\"text-align: right;\">\n",
       "      <th></th>\n",
       "      <th>ViewCount</th>\n",
       "    </tr>\n",
       "    <tr>\n",
       "      <th>Tags</th>\n",
       "      <th></th>\n",
       "    </tr>\n",
       "  </thead>\n",
       "  <tbody>\n",
       "    <tr>\n",
       "      <th>&lt;javascript&gt;&lt;angular&gt;</th>\n",
       "      <td>3883.0</td>\n",
       "    </tr>\n",
       "    <tr>\n",
       "      <th>&lt;python&gt;&lt;django&gt;&lt;nginx&gt;</th>\n",
       "      <td>2162.0</td>\n",
       "    </tr>\n",
       "    <tr>\n",
       "      <th>&lt;jekyll&gt;&lt;liquid&gt;</th>\n",
       "      <td>905.0</td>\n",
       "    </tr>\n",
       "    <tr>\n",
       "      <th>&lt;reactjs&gt;&lt;react-router&gt;&lt;react-redux&gt;&lt;react-router-redux&gt;</th>\n",
       "      <td>727.0</td>\n",
       "    </tr>\n",
       "    <tr>\n",
       "      <th>&lt;powershell&gt;</th>\n",
       "      <td>231.0</td>\n",
       "    </tr>\n",
       "    <tr>\n",
       "      <th>&lt;karate&gt;</th>\n",
       "      <td>199.0</td>\n",
       "    </tr>\n",
       "    <tr>\n",
       "      <th>&lt;python&gt;&lt;events&gt;&lt;python-decorators&gt;&lt;discord.py&gt;</th>\n",
       "      <td>189.0</td>\n",
       "    </tr>\n",
       "    <tr>\n",
       "      <th>&lt;javascript&gt;&lt;angularjs&gt;&lt;facebook&gt;&lt;facebook-graph-api&gt;</th>\n",
       "      <td>134.0</td>\n",
       "    </tr>\n",
       "    <tr>\n",
       "      <th>&lt;bash&gt;&lt;shell&gt;&lt;formatting&gt;</th>\n",
       "      <td>114.0</td>\n",
       "    </tr>\n",
       "    <tr>\n",
       "      <th>&lt;python&gt;&lt;ctypes&gt;</th>\n",
       "      <td>112.0</td>\n",
       "    </tr>\n",
       "    <tr>\n",
       "      <th>&lt;c#&gt;&lt;windows&gt;&lt;winforms&gt;&lt;publish&gt;&lt;cefsharp&gt;</th>\n",
       "      <td>109.0</td>\n",
       "    </tr>\n",
       "    <tr>\n",
       "      <th>&lt;javascript&gt;&lt;reactjs&gt;&lt;firebase&gt;</th>\n",
       "      <td>106.0</td>\n",
       "    </tr>\n",
       "    <tr>\n",
       "      <th>&lt;java&gt;&lt;oop&gt;&lt;solid-principles&gt;&lt;method-overriding&gt;</th>\n",
       "      <td>104.0</td>\n",
       "    </tr>\n",
       "    <tr>\n",
       "      <th>&lt;apache&gt;&lt;.htaccess&gt;&lt;redirect&gt;&lt;mod-rewrite&gt;</th>\n",
       "      <td>86.0</td>\n",
       "    </tr>\n",
       "    <tr>\n",
       "      <th>&lt;c#&gt;&lt;sqlite&gt;&lt;xamarin&gt;</th>\n",
       "      <td>78.0</td>\n",
       "    </tr>\n",
       "    <tr>\n",
       "      <th>&lt;ios&gt;&lt;swift&gt;&lt;protocols&gt;</th>\n",
       "      <td>75.0</td>\n",
       "    </tr>\n",
       "    <tr>\n",
       "      <th>&lt;python&gt;&lt;csv&gt;&lt;web-scraping&gt;&lt;scrapy&gt;</th>\n",
       "      <td>64.0</td>\n",
       "    </tr>\n",
       "    <tr>\n",
       "      <th>&lt;python&gt;&lt;object&gt;&lt;import&gt;&lt;scripting&gt;&lt;maya&gt;</th>\n",
       "      <td>64.0</td>\n",
       "    </tr>\n",
       "    <tr>\n",
       "      <th>&lt;c++&gt;&lt;opencv&gt;&lt;3d&gt;&lt;computer-vision&gt;&lt;arkit&gt;</th>\n",
       "      <td>55.0</td>\n",
       "    </tr>\n",
       "    <tr>\n",
       "      <th>&lt;angular&gt;&lt;ionic-framework&gt;&lt;angular-promise&gt;</th>\n",
       "      <td>34.0</td>\n",
       "    </tr>\n",
       "    <tr>\n",
       "      <th>&lt;python-3.x&gt;&lt;twitter&gt;&lt;streaming&gt;</th>\n",
       "      <td>17.0</td>\n",
       "    </tr>\n",
       "  </tbody>\n",
       "</table>\n",
       "</div>"
      ],
      "text/plain": [
       "                                                    ViewCount\n",
       "Tags                                                         \n",
       "<javascript><angular>                                  3883.0\n",
       "<python><django><nginx>                                2162.0\n",
       "<jekyll><liquid>                                        905.0\n",
       "<reactjs><react-router><react-redux><react-rout...      727.0\n",
       "<powershell>                                            231.0\n",
       "<karate>                                                199.0\n",
       "<python><events><python-decorators><discord.py>         189.0\n",
       "<javascript><angularjs><facebook><facebook-grap...      134.0\n",
       "<bash><shell><formatting>                               114.0\n",
       "<python><ctypes>                                        112.0\n",
       "<c#><windows><winforms><publish><cefsharp>              109.0\n",
       "<javascript><reactjs><firebase>                         106.0\n",
       "<java><oop><solid-principles><method-overriding>        104.0\n",
       "<apache><.htaccess><redirect><mod-rewrite>               86.0\n",
       "<c#><sqlite><xamarin>                                    78.0\n",
       "<ios><swift><protocols>                                  75.0\n",
       "<python><csv><web-scraping><scrapy>                      64.0\n",
       "<python><object><import><scripting><maya>                64.0\n",
       "<c++><opencv><3d><computer-vision><arkit>                55.0\n",
       "<angular><ionic-framework><angular-promise>              34.0\n",
       "<python-3.x><twitter><streaming>                         17.0"
      ]
     },
     "execution_count": 52,
     "metadata": {},
     "output_type": "execute_result"
    }
   ],
   "source": [
    "print(\"----------------------   Trendy topics in release 1 January 2018 --------------------------\")\n",
    "trendyTopicR1 = postsR1_df[['Tags', 'ViewCount']].groupby('Tags').sum()\n",
    "trendyTopicR1.sort_values(by='ViewCount', ascending=False, inplace=False)"
   ]
  },
  {
   "cell_type": "code",
   "execution_count": 53,
   "metadata": {},
   "outputs": [
    {
     "data": {
      "image/png": "[encoded data removed]",
      "text/plain": [
       "<Figure size 864x432 with 1 Axes>"
      ]
     },
     "metadata": {},
     "output_type": "display_data"
    }
   ],
   "source": [
    "my_colors = ['b', 'r', 'g', 'y', 'm', 'c']\n",
    "ax = trendyTopicR1.plot(kind='barh', stacked=True, color=my_colors, figsize=(12, 6))\n",
    "ax.legend(loc='center left', bbox_to_anchor=(1, 0.5))\n",
    "plt.savefig('Trendy_TopicsR1.png', dpi=300, bbox_inches='tight')\n",
    "plt.show()"
   ]
  },
  {
   "cell_type": "code",
   "execution_count": 54,
   "metadata": {},
   "outputs": [
    {
     "name": "stdout",
     "output_type": "stream",
     "text": [
      "----------------------   Trendy topics in release 2 January 2018 --------------------------\n"
     ]
    },
    {
     "data": {
      "text/html": [
       "<div>\n",
       "<style scoped>\n",
       "    .dataframe tbody tr th:only-of-type {\n",
       "        vertical-align: middle;\n",
       "    }\n",
       "\n",
       "    .dataframe tbody tr th {\n",
       "        vertical-align: top;\n",
       "    }\n",
       "\n",
       "    .dataframe thead th {\n",
       "        text-align: right;\n",
       "    }\n",
       "</style>\n",
       "<table border=\"1\" class=\"dataframe\">\n",
       "  <thead>\n",
       "    <tr style=\"text-align: right;\">\n",
       "      <th></th>\n",
       "      <th>ViewCount</th>\n",
       "    </tr>\n",
       "    <tr>\n",
       "      <th>Tags</th>\n",
       "      <th></th>\n",
       "    </tr>\n",
       "  </thead>\n",
       "  <tbody>\n",
       "    <tr>\n",
       "      <th>&lt;firebase&gt;&lt;firebase-realtime-database&gt;&lt;release&gt;&lt;flutter&gt;</th>\n",
       "      <td>2140.0</td>\n",
       "    </tr>\n",
       "    <tr>\n",
       "      <th>&lt;angular&gt;&lt;ionic-framework&gt;&lt;ionic3&gt;</th>\n",
       "      <td>1891.0</td>\n",
       "    </tr>\n",
       "    <tr>\n",
       "      <th>&lt;angular&gt;&lt;rxjs&gt;&lt;observable&gt;&lt;angular2-observables&gt;&lt;data-stream&gt;</th>\n",
       "      <td>563.0</td>\n",
       "    </tr>\n",
       "    <tr>\n",
       "      <th>&lt;tomcat&gt;&lt;spring-boot&gt;&lt;cdi&gt;&lt;weld&gt;</th>\n",
       "      <td>468.0</td>\n",
       "    </tr>\n",
       "    <tr>\n",
       "      <th>&lt;c&gt;&lt;interrupt&gt;&lt;stm32&gt;&lt;stm32f4discovery&gt;</th>\n",
       "      <td>438.0</td>\n",
       "    </tr>\n",
       "    <tr>\n",
       "      <th>&lt;vagrant&gt;&lt;vagrantfile&gt;&lt;vagrant-plugin&gt;</th>\n",
       "      <td>373.0</td>\n",
       "    </tr>\n",
       "    <tr>\n",
       "      <th>&lt;mysql&gt;&lt;python-3.x&gt;&lt;pyspark&gt;&lt;apache-spark-sql&gt;</th>\n",
       "      <td>326.0</td>\n",
       "    </tr>\n",
       "    <tr>\n",
       "      <th>&lt;reactjs&gt;&lt;redux&gt;</th>\n",
       "      <td>316.0</td>\n",
       "    </tr>\n",
       "    <tr>\n",
       "      <th>&lt;sql-server&gt;&lt;stored-procedures&gt;&lt;common-table-expression&gt;</th>\n",
       "      <td>298.0</td>\n",
       "    </tr>\n",
       "    <tr>\n",
       "      <th>&lt;java&gt;&lt;multithreading&gt;&lt;scala&gt;&lt;akka&gt;&lt;reactive-programming&gt;</th>\n",
       "      <td>236.0</td>\n",
       "    </tr>\n",
       "    <tr>\n",
       "      <th>&lt;python&gt;&lt;google-app-engine&gt;&lt;google-cloud-datastore&gt;</th>\n",
       "      <td>195.0</td>\n",
       "    </tr>\n",
       "    <tr>\n",
       "      <th>&lt;google-chrome-extension&gt;</th>\n",
       "      <td>190.0</td>\n",
       "    </tr>\n",
       "    <tr>\n",
       "      <th>&lt;python&gt;&lt;simulation&gt;</th>\n",
       "      <td>175.0</td>\n",
       "    </tr>\n",
       "    <tr>\n",
       "      <th>&lt;c#&gt;&lt;selenium-webdriver&gt;&lt;try-catch&gt;</th>\n",
       "      <td>173.0</td>\n",
       "    </tr>\n",
       "    <tr>\n",
       "      <th>&lt;google-sheets&gt;</th>\n",
       "      <td>160.0</td>\n",
       "    </tr>\n",
       "    <tr>\n",
       "      <th>&lt;javascript&gt;&lt;webpack&gt;&lt;webpack-2&gt;&lt;dexie&gt;</th>\n",
       "      <td>138.0</td>\n",
       "    </tr>\n",
       "    <tr>\n",
       "      <th>&lt;r&gt;&lt;dataframe&gt;&lt;ggplot2&gt;&lt;shiny&gt;</th>\n",
       "      <td>106.0</td>\n",
       "    </tr>\n",
       "    <tr>\n",
       "      <th>&lt;bash&gt;&lt;shell&gt;</th>\n",
       "      <td>101.0</td>\n",
       "    </tr>\n",
       "    <tr>\n",
       "      <th>&lt;vsto&gt;&lt;outlook-addin&gt;&lt;outlook-2016&gt;</th>\n",
       "      <td>94.0</td>\n",
       "    </tr>\n",
       "    <tr>\n",
       "      <th>&lt;scala&gt;</th>\n",
       "      <td>71.0</td>\n",
       "    </tr>\n",
       "    <tr>\n",
       "      <th>&lt;google-cloud-spanner&gt;</th>\n",
       "      <td>60.0</td>\n",
       "    </tr>\n",
       "    <tr>\n",
       "      <th>&lt;python&gt;</th>\n",
       "      <td>46.0</td>\n",
       "    </tr>\n",
       "    <tr>\n",
       "      <th>&lt;r&gt;&lt;database&gt;&lt;rollapply&gt;</th>\n",
       "      <td>44.0</td>\n",
       "    </tr>\n",
       "    <tr>\n",
       "      <th>&lt;sql&gt;&lt;date&gt;&lt;count&gt;&lt;range&gt;</th>\n",
       "      <td>43.0</td>\n",
       "    </tr>\n",
       "    <tr>\n",
       "      <th>&lt;python&gt;&lt;pandas&gt;&lt;time-series&gt;</th>\n",
       "      <td>35.0</td>\n",
       "    </tr>\n",
       "    <tr>\n",
       "      <th>&lt;html&gt;&lt;css&gt;</th>\n",
       "      <td>32.0</td>\n",
       "    </tr>\n",
       "    <tr>\n",
       "      <th>&lt;jquery&gt;</th>\n",
       "      <td>20.0</td>\n",
       "    </tr>\n",
       "  </tbody>\n",
       "</table>\n",
       "</div>"
      ],
      "text/plain": [
       "                                                    ViewCount\n",
       "Tags                                                         \n",
       "<firebase><firebase-realtime-database><release>...     2140.0\n",
       "<angular><ionic-framework><ionic3>                     1891.0\n",
       "<angular><rxjs><observable><angular2-observable...      563.0\n",
       "<tomcat><spring-boot><cdi><weld>                        468.0\n",
       "<c><interrupt><stm32><stm32f4discovery>                 438.0\n",
       "<vagrant><vagrantfile><vagrant-plugin>                  373.0\n",
       "<mysql><python-3.x><pyspark><apache-spark-sql>          326.0\n",
       "<reactjs><redux>                                        316.0\n",
       "<sql-server><stored-procedures><common-table-ex...      298.0\n",
       "<java><multithreading><scala><akka><reactive-pr...      236.0\n",
       "<python><google-app-engine><google-cloud-datast...      195.0\n",
       "<google-chrome-extension>                               190.0\n",
       "<python><simulation>                                    175.0\n",
       "<c#><selenium-webdriver><try-catch>                     173.0\n",
       "<google-sheets>                                         160.0\n",
       "<javascript><webpack><webpack-2><dexie>                 138.0\n",
       "<r><dataframe><ggplot2><shiny>                          106.0\n",
       "<bash><shell>                                           101.0\n",
       "<vsto><outlook-addin><outlook-2016>                      94.0\n",
       "<scala>                                                  71.0\n",
       "<google-cloud-spanner>                                   60.0\n",
       "<python>                                                 46.0\n",
       "<r><database><rollapply>                                 44.0\n",
       "<sql><date><count><range>                                43.0\n",
       "<python><pandas><time-series>                            35.0\n",
       "<html><css>                                              32.0\n",
       "<jquery>                                                 20.0"
      ]
     },
     "execution_count": 54,
     "metadata": {},
     "output_type": "execute_result"
    }
   ],
   "source": [
    "print(\"----------------------   Trendy topics in release 2 January 2018 --------------------------\")\n",
    "trendyTopicR2 = postsR2_df[['Tags', 'ViewCount']].groupby('Tags').sum()\n",
    "trendyTopicR2.sort_values(by='ViewCount', ascending=False, inplace=False)"
   ]
  },
  {
   "cell_type": "code",
   "execution_count": 55,
   "metadata": {},
   "outputs": [
    {
     "data": {
      "image/png": "[encoded data removed]",
      "text/plain": [
       "<Figure size 864x432 with 1 Axes>"
      ]
     },
     "metadata": {},
     "output_type": "display_data"
    }
   ],
   "source": [
    "my_colors = ['b', 'r', 'g', 'y', 'm', 'c']\n",
    "ax = trendyTopicR2.plot(kind='barh', stacked=True, color=my_colors, figsize=(12, 6))\n",
    "ax.legend(loc='center left', bbox_to_anchor=(1, 0.5))\n",
    "plt.savefig('Trendy_TopicsR2.png', dpi=300, bbox_inches='tight')\n",
    "plt.show()"
   ]
  },
  {
   "cell_type": "code",
   "execution_count": 56,
   "metadata": {},
   "outputs": [
    {
     "name": "stdout",
     "output_type": "stream",
     "text": [
      "----------------------   Trendy topics in release 3 January 2018 --------------------------\n"
     ]
    },
    {
     "data": {
      "text/html": [
       "<div>\n",
       "<style scoped>\n",
       "    .dataframe tbody tr th:only-of-type {\n",
       "        vertical-align: middle;\n",
       "    }\n",
       "\n",
       "    .dataframe tbody tr th {\n",
       "        vertical-align: top;\n",
       "    }\n",
       "\n",
       "    .dataframe thead th {\n",
       "        text-align: right;\n",
       "    }\n",
       "</style>\n",
       "<table border=\"1\" class=\"dataframe\">\n",
       "  <thead>\n",
       "    <tr style=\"text-align: right;\">\n",
       "      <th></th>\n",
       "      <th>ViewCount</th>\n",
       "    </tr>\n",
       "    <tr>\n",
       "      <th>Tags</th>\n",
       "      <th></th>\n",
       "    </tr>\n",
       "  </thead>\n",
       "  <tbody>\n",
       "    <tr>\n",
       "      <th>\"\"</th>\n",
       "      <td>\"\"</td>\n",
       "    </tr>\n",
       "  </tbody>\n",
       "</table>\n",
       "</div>"
      ],
      "text/plain": [
       "     ViewCount\n",
       "Tags          \n",
       "\"\"          \"\""
      ]
     },
     "execution_count": 56,
     "metadata": {},
     "output_type": "execute_result"
    }
   ],
   "source": [
    "print(\"----------------------   Trendy topics in release 3 January 2018 --------------------------\")\n",
    "trendyTopicR3 = postsR3_df[['Tags', 'ViewCount']].groupby('Tags').sum()\n",
    "trendyTopicR3.sort_values(by='ViewCount', ascending=False, inplace=False)"
   ]
  },
  {
   "cell_type": "markdown",
   "metadata": {},
   "source": [
    "## Releases quality: percentage of null values in collections' releases"
   ]
  },
  {
   "cell_type": "markdown",
   "metadata": {},
   "source": [
    "### Badges R1, R2, R3"
   ]
  },
  {
   "cell_type": "code",
   "execution_count": 57,
   "metadata": {},
   "outputs": [],
   "source": [
    "#Index([u'Id', u'UserId', u'Name', u'Date', u'Class', u'TagBased']\n",
    "null_IdbadgesR1= badgesR1_df[badgesR1_df['Id'].isnull()]\n",
    "null_UserIdbadgesR1= badgesR1_df[badgesR1_df['UserId'].isnull()]\n",
    "null_NamebadgesR1= badgesR1_df[badgesR1_df['Name'].isnull()]\n",
    "null_DatebadgesR1=  badgesR1_df[badgesR1_df['Date'].isnull()]\n",
    "null_ClassbadgesR1 = badgesR1_df[badgesR1_df['Class'].isnull()]\n",
    "null_TagBasedbadgesR1= badgesR1_df[badgesR1_df['TagBased'].isnull()]\n",
    "\n",
    "null_badgesR1= pd.concat([null_IdbadgesR1, null_UserIdbadgesR1, null_NamebadgesR1, null_DatebadgesR1,  null_ClassbadgesR1,  null_TagBasedbadgesR1], ignore_index=False)\n",
    "#null_badgesR1"
   ]
  },
  {
   "cell_type": "code",
   "execution_count": 58,
   "metadata": {},
   "outputs": [],
   "source": [
    "null_IdbadgesR2= badgesR2_df[badgesR2_df['Id'].isnull()]\n",
    "null_UserIdbadgesR2= badgesR2_df[badgesR2_df['UserId'].isnull()]\n",
    "null_NamebadgesR2= badgesR2_df[badgesR2_df['Name'].isnull()]\n",
    "null_DatebadgesR2=  badgesR2_df[badgesR2_df['Date'].isnull()]\n",
    "null_ClassbadgesR2 = badgesR2_df[badgesR2_df['Class'].isnull()]\n",
    "null_TagBasedbadgesR2= badgesR2_df[badgesR2_df['TagBased'].isnull()]\n",
    "\n",
    "null_badgesR2= pd.concat([null_IdbadgesR2, null_UserIdbadgesR2, null_NamebadgesR2, null_DatebadgesR2,  null_ClassbadgesR2,  null_TagBasedbadgesR2], ignore_index=False)\n",
    "#null_badgesR2"
   ]
  },
  {
   "cell_type": "code",
   "execution_count": 59,
   "metadata": {},
   "outputs": [],
   "source": [
    "null_IdbadgesR3= badgesR3_df[badgesR3_df['Id'].isnull()]\n",
    "null_UserIdbadgesR3= badgesR3_df[badgesR3_df['UserId'].isnull()]\n",
    "null_NamebadgesR3 = badgesR3_df[badgesR3_df['Name'].isnull()]\n",
    "null_DatebadgesR3 =  badgesR3_df[badgesR3_df['Date'].isnull()]\n",
    "null_ClassbadgesR3 = badgesR3_df[badgesR3_df['Class'].isnull()]\n",
    "null_TagBasedbadgesR3 = badgesR3_df[badgesR3_df['TagBased'].isnull()]\n",
    "\n",
    "null_badgesR3= pd.concat([null_IdbadgesR3, null_UserIdbadgesR3, null_NamebadgesR3, null_DatebadgesR3,  null_ClassbadgesR3,  null_TagBasedbadgesR3], ignore_index=False)\n",
    "#null_badgesR3"
   ]
  },
  {
   "cell_type": "code",
   "execution_count": 60,
   "metadata": {},
   "outputs": [
    {
     "name": "stdout",
     "output_type": "stream",
     "text": [
      "------------------------ Data Quality in Badges from releases R1, R2, R3 ---------------------\n",
      "\n",
      "Proportion of null values in Id in R1 0.0 %\n",
      "Proportion of null values in UserId in R1 0.0 %\n",
      "Proportion of null values in Name in R1 0.0 %\n",
      "Proportion of null values in Date in R1 0.0 %\n",
      "Proportion of null values in Class in R1 0.0 %\n",
      "Proportion of null values in TagBased in R1 0.0 %\n",
      "\n",
      "Proportion of null values in Id in R2 0.0 %\n",
      "Proportion of null values in UserId in R2 0.0 %\n",
      "Proportion of null values in Name in R2 0.0 %\n",
      "Proportion of null values in Date in R2 0.0 %\n",
      "Proportion of null values in Class in R2 0.0 %\n",
      "Proportion of null values in TagBased in R2 0.0 %\n",
      "\n",
      "Proportion of null values in Id in R3 0.0 %\n",
      "Proportion of null values in UserId in R3 0.0 %\n",
      "Proportion of null values in Name in R3 0.0 %\n",
      "Proportion of null values in Date in R3 0.0 %\n",
      "Proportion of null values in Class in R3 0.0 %\n",
      "Proportion of null values in TagBased in R3 0.0 %\n"
     ]
    }
   ],
   "source": [
    "badges_rawsR1 = badgesR1_df.shape\n",
    "badges_rawsR2 = badgesR2_df.shape\n",
    "badges_rawsR3 = badgesR3_df.shape\n",
    "\n",
    "badges_nullvalues_rawsUserDiplayNameR1 = null_IdbadgesR1['Id'].shape\n",
    "badges_nullvalues_rawsUserIdR1 = null_UserIdbadgesR1['UserId'].shape\n",
    "badges_nullvalues_rawsNameR1 = null_NamebadgesR1['Name'].shape\n",
    "badges_nullvalues_rawsDateR1 = null_DatebadgesR1['Date'].shape\n",
    "badges_nullvalues_rawsClassR1 = null_ClassbadgesR1['Class'].shape\n",
    "badges_nullvalues_rawsTagBasedR1 = null_TagBasedbadgesR1['TagBased'].shape\n",
    "\n",
    "badges_nullvalues_rawsUserDiplayNameR2 = null_IdbadgesR2['Id'].shape\n",
    "badges_nullvalues_rawsUserIdR2 = null_UserIdbadgesR2['UserId'].shape\n",
    "badges_nullvalues_rawsNameR2 = null_NamebadgesR2['Name'].shape\n",
    "badges_nullvalues_rawsDateR2 = null_DatebadgesR2['Date'].shape\n",
    "badges_nullvalues_rawsClassR2 = null_ClassbadgesR2['Class'].shape\n",
    "badges_nullvalues_rawsTagBasedR2 = null_TagBasedbadgesR2['TagBased'].shape\n",
    "\n",
    "badges_nullvalues_rawsUserDiplayNameR3 = null_IdbadgesR3['Id'].shape\n",
    "badges_nullvalues_rawsUserIdR3 = null_UserIdbadgesR3['UserId'].shape\n",
    "badges_nullvalues_rawsNameR3 = null_NamebadgesR3['Name'].shape\n",
    "badges_nullvalues_rawsDateR3 = null_DatebadgesR3['Date'].shape\n",
    "badges_nullvalues_rawsClassR3 = null_ClassbadgesR3['Class'].shape\n",
    "badges_nullvalues_rawsTagBasedR3 = null_TagBasedbadgesR3['TagBased'].shape\n",
    "\n",
    "print(\"------------------------ Data Quality in Badges from releases R1, R2, R3 ---------------------\")\n",
    "print(\"\")\n",
    "print(\"Proportion of null values in Id in R1\",((badges_nullvalues_rawsUserDiplayNameR1[0]*100)/badges_rawsR1[0]),\"%\")\n",
    "print(\"Proportion of null values in UserId in R1\",((badges_nullvalues_rawsUserIdR1[0]*100)/badges_rawsR1[0]),\"%\")\n",
    "print(\"Proportion of null values in Name in R1\",((badges_nullvalues_rawsNameR1[0]*100)/badges_rawsR1[0]),\"%\")\n",
    "print(\"Proportion of null values in Date in R1\",((badges_nullvalues_rawsDateR1[0]*100)/badges_rawsR1[0]),\"%\")\n",
    "print(\"Proportion of null values in Class in R1\",((badges_nullvalues_rawsClassR1[0]*100)/badges_rawsR1[0]),\"%\")\n",
    "print(\"Proportion of null values in TagBased in R1\",((badges_nullvalues_rawsTagBasedR1[0]*100)/badges_rawsR1[0]),\"%\")\n",
    "print(\"\")\n",
    "\n",
    "print(\"Proportion of null values in Id in R2\",((badges_nullvalues_rawsUserDiplayNameR2[0]*100)/badges_rawsR2[0]),\"%\")\n",
    "print(\"Proportion of null values in UserId in R2\",((badges_nullvalues_rawsUserIdR2[0]*100)/badges_rawsR2[0]),\"%\")\n",
    "print(\"Proportion of null values in Name in R2\",((badges_nullvalues_rawsNameR2[0]*100)/badges_rawsR2[0]),\"%\")\n",
    "print(\"Proportion of null values in Date in R2\",((badges_nullvalues_rawsDateR2[0]*100)/badges_rawsR2[0]),\"%\")\n",
    "print(\"Proportion of null values in Class in R2\",((badges_nullvalues_rawsClassR2[0]*100)/badges_rawsR2[0]),\"%\")\n",
    "print(\"Proportion of null values in TagBased in R2\",((badges_nullvalues_rawsTagBasedR2[0]*100)/badges_rawsR2[0]),\"%\")\n",
    "\n",
    "print(\"\")\n",
    "print(\"Proportion of null values in Id in R3\",((badges_nullvalues_rawsUserDiplayNameR3[0]*100)/badges_rawsR3[0]),\"%\")\n",
    "print(\"Proportion of null values in UserId in R3\",((badges_nullvalues_rawsUserIdR3[0]*100)/badges_rawsR3[0]),\"%\")\n",
    "print(\"Proportion of null values in Name in R3\",((badges_nullvalues_rawsNameR3[0]*100)/badges_rawsR3[0]),\"%\")\n",
    "print(\"Proportion of null values in Date in R3\",((badges_nullvalues_rawsDateR3[0]*100)/badges_rawsR3[0]),\"%\")\n",
    "print(\"Proportion of null values in Class in R3\",((badges_nullvalues_rawsClassR3[0]*100)/badges_rawsR3[0]),\"%\")\n",
    "print(\"Proportion of null values in TagBased in R3\",((badges_nullvalues_rawsTagBasedR3[0]*100)/badges_rawsR3[0]),\"%\")\n"
   ]
  },
  {
   "cell_type": "markdown",
   "metadata": {},
   "source": [
    "### Comments R1, R2, R3"
   ]
  },
  {
   "cell_type": "code",
   "execution_count": 61,
   "metadata": {},
   "outputs": [],
   "source": [
    "null_IdcommentsR1= commentsR1_df[commentsR1_df['Id'].isnull()]\n",
    "null_PostIdcommentsR1= commentsR1_df[commentsR1_df['PostId'].isnull()]\n",
    "null_ScorecommentsR1=  commentsR1_df[commentsR1_df['Score'].isnull()]\n",
    "null_TextcommentsR1 = commentsR1_df[commentsR1_df['Text'].isnull()]\n",
    "null_CreationDatecommentsR1=  commentsR1_df[commentsR1_df['CreationDate'].isnull()]\n",
    "null_UserDisplayNamecommentsR1= commentsR1_df[commentsR1_df['UserDisplayName'].isnull()]\n",
    "null_UserIdcommentsR1=  commentsR1_df[commentsR1_df['UserId'].isnull()]\n",
    "\n",
    "null_commentsR1= pd.concat([null_IdcommentsR1, null_PostIdcommentsR1, null_ScorecommentsR1, null_TextcommentsR1, null_CreationDatecommentsR1, null_UserDisplayNamecommentsR1,null_UserIdcommentsR1], ignore_index=False)\n",
    "#null_commentsR1"
   ]
  },
  {
   "cell_type": "code",
   "execution_count": 62,
   "metadata": {},
   "outputs": [],
   "source": [
    "null_IdcommentsR2= commentsR2_df[commentsR2_df['Id'].isnull()]\n",
    "null_PostIdcommentsR2= commentsR2_df[commentsR2_df['PostId'].isnull()]\n",
    "null_ScorecommentsR2=  commentsR2_df[commentsR2_df['Score'].isnull()]\n",
    "null_TextcommentsR2 = commentsR2_df[commentsR2_df['Text'].isnull()]\n",
    "null_CreationDatecommentsR2=  commentsR2_df[commentsR2_df['CreationDate'].isnull()]\n",
    "null_UserDisplayNamecommentsR2= commentsR2_df[commentsR2_df['UserDisplayName'].isnull()]\n",
    "null_UserIdcommentsR2=  commentsR2_df[commentsR2_df['UserId'].isnull()]\n",
    "\n",
    "null_commentsR2= pd.concat([null_IdcommentsR2, null_PostIdcommentsR2, null_ScorecommentsR2, null_TextcommentsR2, null_CreationDatecommentsR2, null_UserDisplayNamecommentsR2,null_UserIdcommentsR2], ignore_index=False)\n",
    "#null_commentsR2\n"
   ]
  },
  {
   "cell_type": "code",
   "execution_count": 63,
   "metadata": {},
   "outputs": [],
   "source": [
    "null_IdcommentsR3= commentsR3_df[commentsR3_df['Id'].isnull()]\n",
    "null_PostIdcommentsR3= commentsR3_df[commentsR3_df['PostId'].isnull()]\n",
    "null_ScorecommentsR3=  commentsR3_df[commentsR3_df['Score'].isnull()]\n",
    "null_TextcommentsR3 = commentsR3_df[commentsR3_df['Text'].isnull()]\n",
    "null_CreationDatecommentsR3=  commentsR3_df[commentsR3_df['CreationDate'].isnull()]\n",
    "null_UserDisplayNamecommentsR3= commentsR3_df[commentsR3_df['UserDisplayName'].isnull()]\n",
    "null_UserIdcommentsR3=  commentsR3_df[commentsR3_df['UserId'].isnull()]\n",
    "\n",
    "null_commentsR3= pd.concat([null_IdcommentsR3, null_PostIdcommentsR3, null_ScorecommentsR3, \n",
    "                            null_TextcommentsR3, null_CreationDatecommentsR3, \n",
    "                            null_UserDisplayNamecommentsR3,null_UserIdcommentsR3], ignore_index=False)\n",
    "#null_commentsR3"
   ]
  },
  {
   "cell_type": "code",
   "execution_count": 64,
   "metadata": {},
   "outputs": [
    {
     "name": "stdout",
     "output_type": "stream",
     "text": [
      "------------------------ Data Quality in Comments from releases R1, R2, R3 ---------------------\n",
      "\n",
      "Proportion of null values in UserDisplayName in R1 97.8744939271255 %\n",
      "Proportion of null values in UserId in R1 2.125506072874494 %\n",
      "Proportion of null values in UserDisplayName in R2 98.42342342342343 %\n",
      "Proportion of null values in UserId in R2 1.5765765765765767 %\n",
      "Proportion of null values in UserDisplayName in R3 98.49094567404427 %\n",
      "Proportion of null values in UserId in R3 1.5090543259557343 %\n"
     ]
    }
   ],
   "source": [
    "comments_rawsR1 = commentsR1_df.shape\n",
    "comments_rawsR2 = commentsR2_df.shape\n",
    "comments_rawsR3 = commentsR3_df.shape\n",
    "\n",
    "comments_nullvalues_rawsUserDiplayNameR1 = null_UserDisplayNamecommentsR1['UserDisplayName'].shape\n",
    "comments_nullvalues_rawsUserIdR1 = null_UserIdcommentsR1['UserId'].shape\n",
    "\n",
    "\n",
    "comments_nullvalues_rawsUserDiplayNameR2 = null_UserDisplayNamecommentsR2['UserDisplayName'].shape\n",
    "comments_nullvalues_rawsUserIdR2 = null_UserIdcommentsR2['UserId'].shape\n",
    "\n",
    "comments_nullvalues_rawsUserDiplayNameR3 = null_UserDisplayNamecommentsR3['UserDisplayName'].shape\n",
    "comments_nullvalues_rawsUserIdR3 = null_UserIdcommentsR3['UserId'].shape\n",
    "\n",
    "print(\"------------------------ Data Quality in Comments from releases R1, R2, R3 ---------------------\")\n",
    "print(\"\")\n",
    "print(\"Proportion of null values in UserDisplayName in R1\",((comments_nullvalues_rawsUserDiplayNameR1[0]*100)/comments_rawsR1[0]),\"%\")\n",
    "print(\"Proportion of null values in UserId in R1\",((comments_nullvalues_rawsUserIdR1[0]*100)/comments_rawsR1[0]),\"%\")\n",
    "\n",
    "\n",
    "print(\"Proportion of null values in UserDisplayName in R2\",((comments_nullvalues_rawsUserDiplayNameR2[0]*100)/comments_rawsR2[0]),\"%\")\n",
    "print(\"Proportion of null values in UserId in R2\",((comments_nullvalues_rawsUserIdR2[0]*100)/comments_rawsR2[0]),\"%\")\n",
    "\n",
    "print(\"Proportion of null values in UserDisplayName in R3\",((comments_nullvalues_rawsUserDiplayNameR3[0]*100)/comments_rawsR3[0]),\"%\")\n",
    "print(\"Proportion of null values in UserId in R3\",((comments_nullvalues_rawsUserIdR3[0]*100)/comments_rawsR3[0]),\"%\")"
   ]
  },
  {
   "cell_type": "markdown",
   "metadata": {},
   "source": [
    "### Posts R1, R2, R3"
   ]
  },
  {
   "cell_type": "code",
   "execution_count": 65,
   "metadata": {},
   "outputs": [],
   "source": [
    "null_IdpostsR1= postsR1_df[postsR1_df['Id'].isnull()]\n",
    "null_PostTypeIdpostsR1= postsR1_df[postsR1_df['PostTypeId'].isnull()]\n",
    "null_AcceptedAnswerIdpostsR1=  postsR1_df[postsR1_df['AcceptedAnswerId'].isnull()]\n",
    "null_ParentIdpostsR1 = postsR1_df[postsR1_df['ParentId'].isnull()]\n",
    "null_CreationDatepostsR1=  postsR1_df[postsR1_df['CreationDate'].isnull()]\n",
    "null_DeletionDatepostsR1= postsR1_df[postsR1_df['DeletionDate'].isnull()]\n",
    "null_ScorepostsR1= postsR1_df[postsR1_df['Score'].isnull()]\n",
    "null_ViewCountpostsR1= postsR1_df[postsR1_df['ViewCount'].isnull()]\n",
    "null_BodypostsR1= postsR1_df[postsR1_df['Body'].isnull()]\n",
    "null_OwnerUserIdpostsR1= postsR1_df[postsR1_df['OwnerUserId'].isnull()]\n",
    "null_OwnerDiplayNamepostsR1= postsR1_df[postsR1_df['OwnerDisplayName'].isnull()]\n",
    "null_LastEditorUserIdpostsR1= postsR1_df[postsR1_df['LastEditorUserId'].isnull()]\n",
    "null_LastEditorDisplayNamepostsR1= postsR1_df[postsR1_df['LastEditorDisplayName'].isnull()]\n",
    "\n",
    "\n",
    "null_LastEditDatepostsR1= postsR1_df[postsR1_df['LastEditDate'].isnull()]\n",
    "null_LastActivityDatepostsR1= postsR1_df[postsR1_df['LastActivityDate'].isnull()]\n",
    "null_TitlepostsR1= postsR1_df[postsR1_df['Title'].isnull()]\n",
    "null_TagspostsR1= postsR1_df[postsR1_df['Tags'].isnull()]\n",
    "null_AnswerCountpostsR1= postsR1_df[postsR1_df['AnswerCount'].isnull()]\n",
    "null_CommentCountpostsR1= postsR1_df[postsR1_df['CommentCount'].isnull()]\n",
    "null_FavoriteCountpostsR1= postsR1_df[postsR1_df['FavoriteCount'].isnull()]\n",
    "null_ClosedDatepostsR1= postsR1_df[postsR1_df['ClosedDate'].isnull()]\n",
    "null_CommunityOwnedDatepostsR1= postsR1_df[postsR1_df['CommunityOwnedDate'].isnull()]\n",
    "\n",
    "null_postsR1= pd.concat([null_IdpostsR1, null_PostTypeIdpostsR1, null_AcceptedAnswerIdpostsR1,\n",
    "                        null_ParentIdpostsR1, null_CreationDatepostsR1, null_DeletionDatepostsR1,\n",
    "                        null_ScorepostsR1, null_ViewCountpostsR1, null_BodypostsR1,\n",
    "                        null_OwnerUserIdpostsR1, null_OwnerDiplayNamepostsR1, null_LastEditorUserIdpostsR1,\n",
    "                        null_LastEditorDisplayNamepostsR1, null_LastEditDatepostsR1, null_LastActivityDatepostsR1,\n",
    "                        null_TitlepostsR1, null_TagspostsR1, null_AnswerCountpostsR1, null_CommentCountpostsR1,\n",
    "                        null_FavoriteCountpostsR1, null_ClosedDatepostsR1, null_CommunityOwnedDatepostsR1], ignore_index=False)\n",
    "\n",
    "#null_postsR1"
   ]
  },
  {
   "cell_type": "code",
   "execution_count": 66,
   "metadata": {},
   "outputs": [],
   "source": [
    "null_IdpostsR2= postsR2_df[postsR2_df['Id'].isnull()]\n",
    "null_PostTypeIdpostsR2= postsR2_df[postsR2_df['PostTypeId'].isnull()]\n",
    "null_AcceptedAnswerIdpostsR2=  postsR2_df[postsR2_df['AcceptedAnswerId'].isnull()]\n",
    "null_ParentIdpostsR2 = postsR2_df[postsR2_df['ParentId'].isnull()]\n",
    "null_CreationDatepostsR2=  postsR2_df[postsR2_df['CreationDate'].isnull()]\n",
    "null_DeletionDatepostsR2= postsR2_df[postsR2_df['DeletionDate'].isnull()]\n",
    "null_ScorepostsR2= postsR2_df[postsR2_df['Score'].isnull()]\n",
    "null_ViewCountpostsR2= postsR2_df[postsR2_df['ViewCount'].isnull()]\n",
    "null_BodypostsR2= postsR2_df[postsR2_df['Body'].isnull()]\n",
    "null_OwnerUserIdpostsR2= postsR2_df[postsR2_df['OwnerUserId'].isnull()]\n",
    "null_OwnerDiplayNamepostsR2= postsR2_df[postsR2_df['OwnerDisplayName'].isnull()]\n",
    "null_LastEditorUserIdpostsR2= postsR2_df[postsR2_df['LastEditorUserId'].isnull()]\n",
    "null_LastEditorDisplayNamepostsR2= postsR2_df[postsR2_df['LastEditorDisplayName'].isnull()]\n",
    "\n",
    "null_LastEditDatepostsR2= postsR2_df[postsR2_df['LastEditDate'].isnull()]\n",
    "null_LastActivityDatepostsR2= postsR2_df[postsR2_df['LastActivityDate'].isnull()]\n",
    "null_TitlepostsR2= postsR2_df[postsR2_df['Title'].isnull()]\n",
    "null_TagspostsR2= postsR2_df[postsR2_df['Tags'].isnull()]\n",
    "null_AnswerCountpostsR2= postsR2_df[postsR2_df['AnswerCount'].isnull()]\n",
    "null_CommentCountpostsR2= postsR2_df[postsR2_df['CommentCount'].isnull()]\n",
    "null_FavoriteCountpostsR2= postsR2_df[postsR2_df['FavoriteCount'].isnull()]\n",
    "null_ClosedDatepostsR2= postsR2_df[postsR2_df['ClosedDate'].isnull()]\n",
    "null_CommunityOwnedDatepostsR2= postsR2_df[postsR2_df['CommunityOwnedDate'].isnull()]\n",
    "\n",
    "null_postsR2= pd.concat([null_IdpostsR2, null_PostTypeIdpostsR2, null_AcceptedAnswerIdpostsR2,\n",
    "                        null_ParentIdpostsR2, null_CreationDatepostsR2, null_DeletionDatepostsR2,\n",
    "                        null_ScorepostsR2, null_ViewCountpostsR2, null_BodypostsR2,\n",
    "                        null_OwnerUserIdpostsR2, null_OwnerDiplayNamepostsR2, null_LastEditorUserIdpostsR2,\n",
    "                        null_LastEditorDisplayNamepostsR2, null_LastEditDatepostsR2, null_LastActivityDatepostsR2,\n",
    "                        null_TitlepostsR2, null_TagspostsR2, null_AnswerCountpostsR2, null_CommentCountpostsR2,\n",
    "                        null_FavoriteCountpostsR2, null_ClosedDatepostsR2, null_CommunityOwnedDatepostsR2], ignore_index=False)\n",
    "\n",
    "#null_postsR2"
   ]
  },
  {
   "cell_type": "code",
   "execution_count": 67,
   "metadata": {},
   "outputs": [],
   "source": [
    "null_IdpostsR3= postsR3_df[postsR3_df['Id'].isnull()]\n",
    "null_PostTypeIdpostsR3 = postsR3_df[postsR3_df['PostTypeId'].isnull()]\n",
    "null_AcceptedAnswerIdpostsR3 =  postsR3_df[postsR3_df['AcceptedAnswerId'].isnull()]\n",
    "null_ParentIdpostsR3 = postsR3_df[postsR3_df['ParentId'].isnull()]\n",
    "null_CreationDatepostsR3=  postsR3_df[postsR3_df['CreationDate'].isnull()]\n",
    "null_DeletionDatepostsR3= postsR3_df[postsR3_df['DeletionDate'].isnull()]\n",
    "null_ScorepostsR3= postsR3_df[postsR3_df['Score'].isnull()]\n",
    "null_ViewCountpostsR3= postsR3_df[postsR3_df['ViewCount'].isnull()]\n",
    "null_BodypostsR3= postsR3_df[postsR3_df['Body'].isnull()]\n",
    "null_OwnerUserIdpostsR3= postsR3_df[postsR3_df['OwnerUserId'].isnull()]\n",
    "null_OwnerDiplayNamepostsR3= postsR3_df[postsR3_df['OwnerDisplayName'].isnull()]\n",
    "null_LastEditorUserIdpostsR3= postsR3_df[postsR3_df['LastEditorUserId'].isnull()]\n",
    "\n",
    "\n",
    "null_LastEditorDisplayNamepostsR3= postsR3_df[postsR3_df['LastEditorDisplayName'].isnull()]\n",
    "\n",
    "null_LastEditDatepostsR3= postsR3_df[postsR3_df['LastEditDate'].isnull()]\n",
    "null_LastActivityDatepostsR3= postsR3_df[postsR3_df['LastActivityDate'].isnull()]\n",
    "null_TitlepostsR3= postsR3_df[postsR3_df['Title'].isnull()]\n",
    "null_TagspostsR3= postsR3_df[postsR3_df['Tags'].isnull()]\n",
    "null_AnswerCountpostsR3= postsR3_df[postsR3_df['AnswerCount'].isnull()]\n",
    "null_CommentCountpostsR3= postsR3_df[postsR3_df['CommentCount'].isnull()]\n",
    "null_FavoriteCountpostsR3= postsR3_df[postsR3_df['FavoriteCount'].isnull()]\n",
    "null_ClosedDatepostsR3= postsR3_df[postsR3_df['ClosedDate'].isnull()]\n",
    "null_CommunityOwnedDatepostsR3= postsR3_df[postsR3_df['CommunityOwnedDate'].isnull()]\n",
    "\n",
    "null_postsR3= pd.concat([null_IdpostsR3, null_PostTypeIdpostsR3, null_AcceptedAnswerIdpostsR3,\n",
    "                        null_ParentIdpostsR3, null_CreationDatepostsR3, null_DeletionDatepostsR3,\n",
    "                        null_ScorepostsR3, null_ViewCountpostsR3, null_BodypostsR3,\n",
    "                        null_OwnerUserIdpostsR3, null_OwnerDiplayNamepostsR3, null_LastEditorUserIdpostsR3,\n",
    "                        null_LastEditorDisplayNamepostsR3, null_LastEditDatepostsR3, null_LastActivityDatepostsR3,\n",
    "                        null_TitlepostsR3, null_TagspostsR3, null_AnswerCountpostsR3, null_CommentCountpostsR3,\n",
    "                        null_FavoriteCountpostsR3, null_ClosedDatepostsR3, null_CommunityOwnedDatepostsR3], ignore_index=False)\n",
    "\n",
    "#null_postsR3"
   ]
  },
  {
   "cell_type": "code",
   "execution_count": 68,
   "metadata": {},
   "outputs": [
    {
     "name": "stdout",
     "output_type": "stream",
     "text": [
      "------------------------ Data Quality in Posts from releases R1, R2, R3 ---------------------\n",
      "\n",
      "Proportion of null values in Id in R1 0.0 %\n",
      "Proportion of null values in PostTypeId in R1 2.127659574468085 %\n",
      "Proportion of null values in ParentId in R1 46.808510638297875 %\n",
      "Proportion of null values in AcceptedAnswerId in R1 82.97872340425532 %\n",
      "Proportion of null values in CreationDate in R1 2.127659574468085 %\n",
      "Proportion of null values in DeletionDate in R1 97.87234042553192 %\n",
      "Proportion of null values in Score in R1 2.127659574468085 %\n",
      "Proportion of null values in ViewCount in R1 55.319148936170215 %\n",
      "Proportion of null values in Body in R1 2.127659574468085 %\n",
      "Proportion of null values in OwnerUserId in R1 2.127659574468085 %\n",
      "Proportion of null values in OwnerDisplayName in R1 97.87234042553192 %\n",
      "Proportion of null values in LastEditorUserId in R1 51.06382978723404 %\n",
      "Proportion of null values in LastEditorDisplayName in R1 100.0 %\n",
      "Proportion of null values in LastEditDate in R1 51.06382978723404 %\n",
      "Proportion of null values in LastActivityDate in R1 2.127659574468085 %\n",
      "Proportion of null values in Title in R1 55.319148936170215 %\n",
      "Proportion of null values in Tags in R1 55.319148936170215 %\n",
      "Proportion of null values in AnswerCount in R1 55.319148936170215 %\n",
      "Proportion of null values in CommentCount in R1 2.127659574468085 %\n",
      "Proportion of null values in FavoriteCount in R1 93.61702127659575 %\n",
      "Proportion of null values in ClosedDate in R1 100.0 %\n",
      "Proportion of null values in CommunityOwnedDate in R1 100.0 %\n",
      "\n",
      "Proportion of null values in Id in R2 0.0 %\n",
      "Proportion of null values in PostTypeId in R2 0.0 %\n",
      "Proportion of null values in ParentId in R2 38.028169014084504 %\n",
      "Proportion of null values in AcceptedAnswerId in R2 81.69014084507042 %\n",
      "Proportion of null values in CreationDate in R2 0.0 %\n",
      "Proportion of null values in DeletionDate in R2 100.0 %\n",
      "Proportion of null values in Score in R2 0.0 %\n",
      "Proportion of null values in ViewCount in R2 61.971830985915496 %\n",
      "Proportion of null values in Body in R2 0.0 %\n",
      "Proportion of null values in OwnerUserId in R2 0.0 %\n",
      "Proportion of null values in OwnerDisplayName in R2 98.59154929577464 %\n",
      "Proportion of null values in LastEditorUserId in R2 69.01408450704226 %\n",
      "Proportion of null values in LastEditorDisplayName in R2 98.59154929577464 %\n",
      "Proportion of null values in LastEditDate in R2 67.6056338028169 %\n",
      "Proportion of null values in LastActivityDate in R2 0.0 %\n",
      "Proportion of null values in Title in R2 61.971830985915496 %\n",
      "Proportion of null values in Tags in R2 61.971830985915496 %\n",
      "Proportion of null values in AnswerCount in R2 61.971830985915496 %\n",
      "Proportion of null values in CommentCount in R2 0.0 %\n",
      "Proportion of null values in FavoriteCount in R2 94.36619718309859 %\n",
      "Proportion of null values in ClosedDate in R2 98.59154929577464 %\n",
      "Proportion of null values in CommunityOwnedDate in R2 100.0 %\n",
      "\n",
      "Proportion of null values in Id in R3 0.0 %\n",
      "Proportion of null values in PostTypeId in R3 78.78542510121457 %\n",
      "Proportion of null values in ParentId in R3 88.42105263157895 %\n",
      "Proportion of null values in AcceptedAnswerId in R3 85.82995951417004 %\n",
      "Proportion of null values in CreationDate in R3 88.82591093117409 %\n",
      "Proportion of null values in DeletionDate in R3 89.35222672064778 %\n",
      "Proportion of null values in Score in R3 89.83805668016194 %\n",
      "Proportion of null values in ViewCount in R3 89.91902834008097 %\n",
      "Proportion of null values in Body in R3 89.95951417004049 %\n",
      "Proportion of null values in OwnerUserId in R3 93.07692307692308 %\n",
      "Proportion of null values in OwnerDisplayName in R3 94.33198380566802 %\n",
      "Proportion of null values in LastEditorUserId in R3 94.69635627530364 %\n",
      "Proportion of null values in LastEditorDisplayName in R3 94.81781376518218 %\n",
      "Proportion of null values in LastEditDate in R3 94.97975708502024 %\n",
      "Proportion of null values in LastActivityDate in R3 99.79757085020243 %\n",
      "Proportion of null values in Title in R3 99.91902834008097 %\n",
      "Proportion of null values in Tags in R3 99.95951417004049 %\n",
      "Proportion of null values in AnswerCount in R3 99.95951417004049 %\n",
      "Proportion of null values in CommentCount in R3 99.95951417004049 %\n",
      "Proportion of null values in FavoriteCount in R3 99.95951417004049 %\n",
      "Proportion of null values in ClosedDate in R3 99.95951417004049 %\n",
      "Proportion of null values in CommunityOwnedDate in R3 99.95951417004049 %\n",
      "\n"
     ]
    }
   ],
   "source": [
    "#Index([u'Id', u'PostTypeId', u'AcceptedAnswerId', u'ParentId', u'CreationDate',\n",
    "#       u'DeletionDate', u'Score', u'ViewCount', u'Body', u'OwnerUserId',\n",
    "#       u'OwnerDisplayName', u'LastEditorUserId', u'LastEditorDisplayName',\n",
    "#       u'LastEditDate', u'LastActivityDate', u'Title', u'Tags', u'AnswerCount',\n",
    "#       u'CommentCount', u'FavoriteCount', u'ClosedDate',\n",
    "#       u'CommunityOwnedDate']\n",
    "\n",
    "posts_rawsR1 = postsR1_df.shape\n",
    "posts_rawsR2 = postsR2_df.shape\n",
    "posts_rawsR3 = postsR3_df.shape\n",
    "\n",
    "posts_nullvalues_rawsIdR1 = null_IdpostsR1['Id'].shape\n",
    "posts_nullvalues_rawsPostTypeIdR1 = null_PostTypeIdpostsR1['PostTypeId'].shape\n",
    "posts_nullvalues_rawsAcceptedAnswerIdR1 = null_AcceptedAnswerIdpostsR1['AcceptedAnswerId'].shape\n",
    "posts_nullvalues_rawsParentIdR1 = null_ParentIdpostsR1['ParentId'].shape\n",
    "posts_nullvalues_rawsCreationDateR1 = null_CreationDatepostsR1['CreationDate'].shape\n",
    "posts_nullvalues_rawsDeletionDateR1 = null_DeletionDatepostsR1['DeletionDate'].shape\n",
    "posts_nullvalues_rawsScoreR1 = null_ScorepostsR1['Score'].shape\n",
    "posts_nullvalues_rawsViewCountR1 = null_ViewCountpostsR1['ViewCount'].shape\n",
    "posts_nullvalues_rawsBodyR1 = null_BodypostsR1['Body'].shape\n",
    "posts_nullvalues_rawsOwnerUserIdR1 = null_OwnerUserIdpostsR1['OwnerUserId'].shape\n",
    "posts_nullvalues_rawsOwnerDisplayNameR1 = null_OwnerDiplayNamepostsR1['OwnerDisplayName'].shape\n",
    "posts_nullvalues_rawsLastEditorUserIdR1 = null_LastEditorUserIdpostsR1['LastEditorUserId'].shape\n",
    "posts_nullvalues_rawsLastEditorDisplayNameR1 = null_LastEditorDisplayNamepostsR1['LastEditorDisplayName'].shape\n",
    "posts_nullvalues_rawsLastEditDateR1 = null_LastEditDatepostsR1['LastEditDate'].shape\n",
    "posts_nullvalues_rawsLastActivityDateR1 = null_LastActivityDatepostsR1['LastActivityDate'].shape\n",
    "posts_nullvalues_rawsTitleR1 = null_TitlepostsR1['Title'].shape\n",
    "posts_nullvalues_rawsTagsR1 = null_TagspostsR1['Tags'].shape\n",
    "posts_nullvalues_rawsAnswerCountR1 = null_AnswerCountpostsR1['AnswerCount'].shape\n",
    "posts_nullvalues_rawsCommentCountR1 = null_CommentCountpostsR1['CommentCount'].shape\n",
    "posts_nullvalues_rawsFavoriteCountR1 = null_FavoriteCountpostsR1['FavoriteCount'].shape\n",
    "posts_nullvalues_rawsClosedDateR1 = null_ClosedDatepostsR1['ClosedDate'].shape\n",
    "posts_nullvalues_rawsCommunityOwnedDateR1 = null_CommunityOwnedDatepostsR1['CommunityOwnedDate'].shape\n",
    "\n",
    "\n",
    "posts_nullvalues_rawsIdR2 = null_IdpostsR2['Id'].shape\n",
    "posts_nullvalues_rawsPostTypeIdR2 = null_PostTypeIdpostsR2['PostTypeId'].shape\n",
    "posts_nullvalues_rawsAcceptedAnswerIdR2 = null_AcceptedAnswerIdpostsR2['AcceptedAnswerId'].shape\n",
    "posts_nullvalues_rawsParentIdR2 = null_ParentIdpostsR2['ParentId'].shape\n",
    "posts_nullvalues_rawsCreationDateR2 = null_CreationDatepostsR2['CreationDate'].shape\n",
    "posts_nullvalues_rawsDeletionDateR2 = null_DeletionDatepostsR2['DeletionDate'].shape\n",
    "posts_nullvalues_rawsScoreR2 = null_ScorepostsR2['Score'].shape\n",
    "posts_nullvalues_rawsViewCountR2 = null_ViewCountpostsR2['ViewCount'].shape\n",
    "posts_nullvalues_rawsBodyR2 = null_BodypostsR2['Body'].shape\n",
    "posts_nullvalues_rawsOwnerUserIdR2 = null_OwnerUserIdpostsR2['OwnerUserId'].shape\n",
    "posts_nullvalues_rawsOwnerDisplayNameR2 = null_OwnerDiplayNamepostsR2['OwnerDisplayName'].shape\n",
    "posts_nullvalues_rawsLastEditorUserIdR2 = null_LastEditorUserIdpostsR2['LastEditorUserId'].shape\n",
    "posts_nullvalues_rawsLastEditorDisplayNameR2 = null_LastEditorDisplayNamepostsR2['LastEditorDisplayName'].shape\n",
    "posts_nullvalues_rawsLastEditDateR2 = null_LastEditDatepostsR2['LastEditDate'].shape\n",
    "posts_nullvalues_rawsLastActivityDateR2 = null_LastActivityDatepostsR2['LastActivityDate'].shape\n",
    "posts_nullvalues_rawsTitleR2 = null_TitlepostsR2['Title'].shape\n",
    "posts_nullvalues_rawsTagsR2 = null_TagspostsR2['Tags'].shape\n",
    "posts_nullvalues_rawsAnswerCountR2 = null_AnswerCountpostsR2['AnswerCount'].shape\n",
    "posts_nullvalues_rawsCommentCountR2 = null_CommentCountpostsR2['CommentCount'].shape\n",
    "posts_nullvalues_rawsFavoriteCountR2 = null_FavoriteCountpostsR2['FavoriteCount'].shape\n",
    "posts_nullvalues_rawsClosedDateR2 = null_ClosedDatepostsR2['ClosedDate'].shape\n",
    "posts_nullvalues_rawsCommunityOwnedDateR2 = null_CommunityOwnedDatepostsR2['CommunityOwnedDate'].shape\n",
    "\n",
    "\n",
    "posts_nullvalues_rawsIdR3 = null_IdpostsR3['Id'].shape\n",
    "posts_nullvalues_rawsPostTypeIdR3 = null_PostTypeIdpostsR3['PostTypeId'].shape\n",
    "posts_nullvalues_rawsAcceptedAnswerIdR3 = null_AcceptedAnswerIdpostsR3['AcceptedAnswerId'].shape\n",
    "posts_nullvalues_rawsParentIdR3 = null_ParentIdpostsR3['ParentId'].shape\n",
    "posts_nullvalues_rawsCreationDateR3 = null_CreationDatepostsR3['CreationDate'].shape\n",
    "posts_nullvalues_rawsDeletionDateR3 = null_DeletionDatepostsR3['DeletionDate'].shape\n",
    "posts_nullvalues_rawsScoreR3 = null_ScorepostsR3['Score'].shape\n",
    "posts_nullvalues_rawsViewCountR3 = null_ViewCountpostsR3['ViewCount'].shape\n",
    "posts_nullvalues_rawsBodyR3 = null_BodypostsR3['Body'].shape\n",
    "posts_nullvalues_rawsOwnerUserIdR3 = null_OwnerUserIdpostsR3['OwnerUserId'].shape\n",
    "posts_nullvalues_rawsOwnerDisplayNameR3 = null_OwnerDiplayNamepostsR3['OwnerDisplayName'].shape\n",
    "posts_nullvalues_rawsLastEditorUserIdR3 = null_LastEditorUserIdpostsR3['LastEditorUserId'].shape\n",
    "posts_nullvalues_rawsLastEditorDisplayNameR3 = null_LastEditorDisplayNamepostsR3['LastEditorDisplayName'].shape\n",
    "posts_nullvalues_rawsLastEditDateR3 = null_LastEditDatepostsR3['LastEditDate'].shape\n",
    "posts_nullvalues_rawsLastActivityDateR3 = null_LastActivityDatepostsR3['LastActivityDate'].shape\n",
    "posts_nullvalues_rawsTitleR3 = null_TitlepostsR3['Title'].shape\n",
    "posts_nullvalues_rawsTagsR3 = null_TagspostsR3['Tags'].shape\n",
    "posts_nullvalues_rawsAnswerCountR3 = null_AnswerCountpostsR3['AnswerCount'].shape\n",
    "posts_nullvalues_rawsCommentCountR3 = null_CommentCountpostsR3['CommentCount'].shape\n",
    "posts_nullvalues_rawsFavoriteCountR3 = null_FavoriteCountpostsR3['FavoriteCount'].shape\n",
    "posts_nullvalues_rawsClosedDateR3 = null_ClosedDatepostsR3['ClosedDate'].shape\n",
    "posts_nullvalues_rawsCommunityOwnedDateR3 = null_CommunityOwnedDatepostsR3['CommunityOwnedDate'].shape\n",
    "\n",
    "\n",
    "print(\"------------------------ Data Quality in Posts from releases R1, R2, R3 ---------------------\")\n",
    "print(\"\")\n",
    "\n",
    "print(\"Proportion of null values in Id in R1\",((posts_nullvalues_rawsIdR1[0]*100)/posts_rawsR1[0]),\"%\")\n",
    "print(\"Proportion of null values in PostTypeId in R1\",((posts_nullvalues_rawsPostTypeIdR1[0]*100)/posts_rawsR1[0]),\"%\")\n",
    "print(\"Proportion of null values in ParentId in R1\",((posts_nullvalues_rawsParentIdR1[0]*100)/posts_rawsR1[0]),\"%\")\n",
    "print(\"Proportion of null values in AcceptedAnswerId in R1\",((posts_nullvalues_rawsAcceptedAnswerIdR1[0]*100)/posts_rawsR1[0]),\"%\")\n",
    "print(\"Proportion of null values in CreationDate in R1\",((posts_nullvalues_rawsCreationDateR1[0]*100)/posts_rawsR1[0]),\"%\")\n",
    "print(\"Proportion of null values in DeletionDate in R1\",((posts_nullvalues_rawsDeletionDateR1[0]*100)/posts_rawsR1[0]),\"%\")\n",
    "print(\"Proportion of null values in Score in R1\",((posts_nullvalues_rawsScoreR1[0]*100)/posts_rawsR1[0]),\"%\")\n",
    "print(\"Proportion of null values in ViewCount in R1\",((posts_nullvalues_rawsViewCountR1[0]*100)/posts_rawsR1[0]),\"%\")\n",
    "print(\"Proportion of null values in Body in R1\",((posts_nullvalues_rawsBodyR1[0]*100)/posts_rawsR1[0]),\"%\")\n",
    "print(\"Proportion of null values in OwnerUserId in R1\",((posts_nullvalues_rawsOwnerUserIdR1[0]*100)/posts_rawsR1[0]),\"%\")\n",
    "print(\"Proportion of null values in OwnerDisplayName in R1\",((posts_nullvalues_rawsOwnerDisplayNameR1[0]*100)/posts_rawsR1[0]),\"%\")\n",
    "print(\"Proportion of null values in LastEditorUserId in R1\",((posts_nullvalues_rawsLastEditorUserIdR1[0]*100)/posts_rawsR1[0]),\"%\")\n",
    "print(\"Proportion of null values in LastEditorDisplayName in R1\",((posts_nullvalues_rawsLastEditorDisplayNameR1[0]*100)/posts_rawsR1[0]),\"%\")\n",
    "print(\"Proportion of null values in LastEditDate in R1\",((posts_nullvalues_rawsLastEditDateR1[0]*100)/posts_rawsR1[0]),\"%\")\n",
    "print(\"Proportion of null values in LastActivityDate in R1\",((posts_nullvalues_rawsLastActivityDateR1[0]*100)/posts_rawsR1[0]),\"%\")\n",
    "print(\"Proportion of null values in Title in R1\",((posts_nullvalues_rawsTitleR1[0]*100)/posts_rawsR1[0]),\"%\")\n",
    "print(\"Proportion of null values in Tags in R1\",((posts_nullvalues_rawsTagsR1[0]*100)/posts_rawsR1[0]),\"%\")\n",
    "print(\"Proportion of null values in AnswerCount in R1\",((posts_nullvalues_rawsAnswerCountR1[0]*100)/posts_rawsR1[0]),\"%\")\n",
    "print(\"Proportion of null values in CommentCount in R1\",((posts_nullvalues_rawsCommentCountR1[0]*100)/posts_rawsR1[0]),\"%\")\n",
    "print(\"Proportion of null values in FavoriteCount in R1\",((posts_nullvalues_rawsFavoriteCountR1[0]*100)/posts_rawsR1[0]),\"%\")\n",
    "print(\"Proportion of null values in ClosedDate in R1\",((posts_nullvalues_rawsClosedDateR1[0]*100)/posts_rawsR1[0]),\"%\")\n",
    "print(\"Proportion of null values in CommunityOwnedDate in R1\",((posts_nullvalues_rawsCommunityOwnedDateR1[0]*100)/posts_rawsR1[0]),\"%\")\n",
    "print(\"\")\n",
    "\n",
    "\n",
    "print(\"Proportion of null values in Id in R2\",((posts_nullvalues_rawsIdR2[0]*100)/posts_rawsR2[0]),\"%\")\n",
    "print(\"Proportion of null values in PostTypeId in R2\",((posts_nullvalues_rawsPostTypeIdR2[0]*100)/posts_rawsR2[0]),\"%\")\n",
    "print(\"Proportion of null values in ParentId in R2\",((posts_nullvalues_rawsParentIdR2[0]*100)/posts_rawsR2[0]),\"%\")\n",
    "print(\"Proportion of null values in AcceptedAnswerId in R2\",((posts_nullvalues_rawsAcceptedAnswerIdR2[0]*100)/posts_rawsR2[0]),\"%\")\n",
    "print(\"Proportion of null values in CreationDate in R2\",((posts_nullvalues_rawsCreationDateR2[0]*100)/posts_rawsR2[0]),\"%\")\n",
    "print(\"Proportion of null values in DeletionDate in R2\",((posts_nullvalues_rawsDeletionDateR2[0]*100)/posts_rawsR2[0]),\"%\")\n",
    "print(\"Proportion of null values in Score in R2\",((posts_nullvalues_rawsScoreR2[0]*100)/posts_rawsR2[0]),\"%\")\n",
    "print(\"Proportion of null values in ViewCount in R2\",((posts_nullvalues_rawsViewCountR2[0]*100)/posts_rawsR2[0]),\"%\")\n",
    "print(\"Proportion of null values in Body in R2\",((posts_nullvalues_rawsBodyR2[0]*100)/posts_rawsR2[0]),\"%\")\n",
    "print(\"Proportion of null values in OwnerUserId in R2\",((posts_nullvalues_rawsOwnerUserIdR2[0]*100)/posts_rawsR2[0]),\"%\")\n",
    "print(\"Proportion of null values in OwnerDisplayName in R2\",((posts_nullvalues_rawsOwnerDisplayNameR2[0]*100)/posts_rawsR2[0]),\"%\")\n",
    "print(\"Proportion of null values in LastEditorUserId in R2\",((posts_nullvalues_rawsLastEditorUserIdR2[0]*100)/posts_rawsR2[0]),\"%\")\n",
    "print(\"Proportion of null values in LastEditorDisplayName in R2\",((posts_nullvalues_rawsLastEditorDisplayNameR2[0]*100)/posts_rawsR2[0]),\"%\")\n",
    "print(\"Proportion of null values in LastEditDate in R2\",((posts_nullvalues_rawsLastEditDateR2[0]*100)/posts_rawsR2[0]),\"%\")\n",
    "print(\"Proportion of null values in LastActivityDate in R2\",((posts_nullvalues_rawsLastActivityDateR2[0]*100)/posts_rawsR2[0]),\"%\")\n",
    "print(\"Proportion of null values in Title in R2\",((posts_nullvalues_rawsTitleR2[0]*100)/posts_rawsR2[0]),\"%\")\n",
    "print(\"Proportion of null values in Tags in R2\",((posts_nullvalues_rawsTagsR2[0]*100)/posts_rawsR2[0]),\"%\")\n",
    "print(\"Proportion of null values in AnswerCount in R2\",((posts_nullvalues_rawsAnswerCountR2[0]*100)/posts_rawsR2[0]),\"%\")\n",
    "print(\"Proportion of null values in CommentCount in R2\",((posts_nullvalues_rawsCommentCountR2[0]*100)/posts_rawsR2[0]),\"%\")\n",
    "print(\"Proportion of null values in FavoriteCount in R2\",((posts_nullvalues_rawsFavoriteCountR2[0]*100)/posts_rawsR2[0]),\"%\")\n",
    "print(\"Proportion of null values in ClosedDate in R2\",((posts_nullvalues_rawsClosedDateR2[0]*100)/posts_rawsR2[0]),\"%\")\n",
    "print(\"Proportion of null values in CommunityOwnedDate in R2\",((posts_nullvalues_rawsCommunityOwnedDateR2[0]*100)/posts_rawsR2[0]),\"%\")\n",
    "print(\"\")\n",
    "\n",
    "print(\"Proportion of null values in Id in R3\",((posts_nullvalues_rawsIdR3[0]*100)/posts_rawsR3[0]),\"%\")\n",
    "print(\"Proportion of null values in PostTypeId in R3\",((posts_nullvalues_rawsPostTypeIdR3[0]*100)/posts_rawsR3[0]),\"%\")\n",
    "print(\"Proportion of null values in ParentId in R3\",((posts_nullvalues_rawsParentIdR3[0]*100)/posts_rawsR3[0]),\"%\")\n",
    "print(\"Proportion of null values in AcceptedAnswerId in R3\",((posts_nullvalues_rawsAcceptedAnswerIdR3[0]*100)/posts_rawsR3[0]),\"%\")\n",
    "print(\"Proportion of null values in CreationDate in R3\",((posts_nullvalues_rawsCreationDateR3[0]*100)/posts_rawsR3[0]),\"%\")\n",
    "print(\"Proportion of null values in DeletionDate in R3\",((posts_nullvalues_rawsDeletionDateR3[0]*100)/posts_rawsR3[0]),\"%\")\n",
    "print(\"Proportion of null values in Score in R3\",((posts_nullvalues_rawsScoreR3[0]*100)/posts_rawsR3[0]),\"%\")\n",
    "print(\"Proportion of null values in ViewCount in R3\",((posts_nullvalues_rawsViewCountR3[0]*100)/posts_rawsR3[0]),\"%\")\n",
    "print(\"Proportion of null values in Body in R3\",((posts_nullvalues_rawsBodyR3[0]*100)/posts_rawsR3[0]),\"%\")\n",
    "print(\"Proportion of null values in OwnerUserId in R3\",((posts_nullvalues_rawsOwnerUserIdR3[0]*100)/posts_rawsR3[0]),\"%\")\n",
    "print(\"Proportion of null values in OwnerDisplayName in R3\",((posts_nullvalues_rawsOwnerDisplayNameR3[0]*100)/posts_rawsR3[0]),\"%\")\n",
    "print(\"Proportion of null values in LastEditorUserId in R3\",((posts_nullvalues_rawsLastEditorUserIdR3[0]*100)/posts_rawsR3[0]),\"%\")\n",
    "print(\"Proportion of null values in LastEditorDisplayName in R3\",((posts_nullvalues_rawsLastEditorDisplayNameR3[0]*100)/posts_rawsR3[0]),\"%\")\n",
    "print(\"Proportion of null values in LastEditDate in R3\",((posts_nullvalues_rawsLastEditDateR3[0]*100)/posts_rawsR3[0]),\"%\")\n",
    "print(\"Proportion of null values in LastActivityDate in R3\",((posts_nullvalues_rawsLastActivityDateR3[0]*100)/posts_rawsR3[0]),\"%\")\n",
    "print(\"Proportion of null values in Title in R3\",((posts_nullvalues_rawsTitleR3[0]*100)/posts_rawsR3[0]),\"%\")\n",
    "print(\"Proportion of null values in Tags in R3\",((posts_nullvalues_rawsTagsR3[0]*100)/posts_rawsR3[0]),\"%\")\n",
    "print(\"Proportion of null values in AnswerCount in R3\",((posts_nullvalues_rawsAnswerCountR3[0]*100)/posts_rawsR3[0]),\"%\")\n",
    "print(\"Proportion of null values in CommentCount in R3\",((posts_nullvalues_rawsCommentCountR3[0]*100)/posts_rawsR3[0]),\"%\")\n",
    "print(\"Proportion of null values in FavoriteCount in R3\",((posts_nullvalues_rawsFavoriteCountR3[0]*100)/posts_rawsR3[0]),\"%\")\n",
    "print(\"Proportion of null values in ClosedDate in R3\",((posts_nullvalues_rawsClosedDateR3[0]*100)/posts_rawsR3[0]),\"%\")\n",
    "print(\"Proportion of null values in CommunityOwnedDate in R3\",((posts_nullvalues_rawsCommunityOwnedDateR3[0]*100)/posts_rawsR3[0]),\"%\")\n",
    "print(\"\")"
   ]
  },
  {
   "cell_type": "markdown",
   "metadata": {},
   "source": [
    "### Users R1, R2, R3"
   ]
  },
  {
   "cell_type": "code",
   "execution_count": 69,
   "metadata": {},
   "outputs": [],
   "source": [
    "null_IdusersR1= usersR1_df[usersR1_df['Id'].isnull()]\n",
    "null_ReputationusersR1= usersR1_df[usersR1_df['Reputation'].isnull()]\n",
    "null_CreationDateusersR1=  usersR1_df[usersR1_df['CreationDate'].isnull()]\n",
    "null_LastAccessDateusersR1 =  usersR1_df[usersR1_df['LastAccessDate'].isnull()]\n",
    "\n",
    "\n",
    "null_DisplayNameusersR1 = usersR1_df[usersR1_df['DisplayName'].isnull()]\n",
    "null_WebsiteUrlusersR1 =  usersR1_df[usersR1_df['WebsiteUrl'].isnull()]\n",
    "null_LocationusersR1 = usersR1_df[usersR1_df['Location'].isnull()]\n",
    "null_AboutMeusersR1 = usersR1_df[usersR1_df['AboutMe'].isnull()]\n",
    "null_ViewsusersR1= usersR1_df[usersR1_df['Views'].isnull()]\n",
    "null_UpVotesusersR1 = usersR1_df[usersR1_df['UpVotes'].isnull()]\n",
    "null_DownVotesusersR1 = usersR1_df[usersR1_df['DownVotes'].isnull()]\n",
    "null_ProfileImageUrlusersR1 = usersR1_df[usersR1_df['ProfileImageUrl'].isnull()]\n",
    "null_EmailHashusersR1 = usersR1_df[usersR1_df['EmailHash'].isnull()]\n",
    "null_AccountIdusersR1 = usersR1_df[usersR1_df['AccountId'].isnull()]\n",
    "\n",
    "null_usersR1 = pd.concat([null_IdusersR1, null_ReputationusersR1, null_CreationDateusersR1, null_LastAccessDateusersR1,\n",
    "                        null_DisplayNameusersR1, null_WebsiteUrlusersR1, null_LocationusersR1,\n",
    "                        null_AboutMeusersR1, null_ViewsusersR1, null_UpVotesusersR1,\n",
    "                        null_DownVotesusersR1, null_ProfileImageUrlusersR1, null_EmailHashusersR1,\n",
    "                        null_AccountIdusersR1], ignore_index=False)\n",
    "\n",
    "#null_usersR1"
   ]
  },
  {
   "cell_type": "code",
   "execution_count": 70,
   "metadata": {},
   "outputs": [],
   "source": [
    "null_IdusersR2= usersR2_df[usersR2_df['Id'].isnull()]\n",
    "null_ReputationusersR2= usersR2_df[usersR2_df['Reputation'].isnull()]\n",
    "null_CreationDateusersR2=  usersR2_df[usersR2_df['CreationDate'].isnull()]\n",
    "null_LastAccessDateusersR2 =  usersR2_df[usersR3_df['LastAccessDate'].isnull()]\n",
    "\n",
    "\n",
    "null_DisplayNameusersR2 = usersR2_df[usersR2_df['DisplayName'].isnull()]\n",
    "null_WebsiteUrlusersR2=  usersR2_df[usersR2_df['WebsiteUrl'].isnull()]\n",
    "null_LocationusersR2= usersR2_df[usersR2_df['Location'].isnull()]\n",
    "null_AboutMeusersR2= usersR2_df[usersR2_df['AboutMe'].isnull()]\n",
    "null_ViewsusersR2= usersR2_df[usersR2_df['Views'].isnull()]\n",
    "null_UpVotesusersR2= usersR2_df[usersR2_df['UpVotes'].isnull()]\n",
    "null_DownVotesusersR2= usersR2_df[usersR2_df['DownVotes'].isnull()]\n",
    "null_ProfileImageUrlusersR2= usersR2_df[usersR2_df['ProfileImageUrl'].isnull()]\n",
    "null_EmailHashusersR2= usersR2_df[usersR2_df['EmailHash'].isnull()]\n",
    "null_AccountIdusersR2= usersR2_df[usersR2_df['AccountId'].isnull()]\n",
    "\n",
    "null_usersR2= pd.concat([null_IdusersR2, null_ReputationusersR2, null_CreationDateusersR2, null_LastAccessDateusersR2,\n",
    "                        null_DisplayNameusersR2, null_WebsiteUrlusersR2, null_LocationusersR2,\n",
    "                        null_AboutMeusersR2, null_ViewsusersR2, null_UpVotesusersR2,\n",
    "                        null_DownVotesusersR2, null_ProfileImageUrlusersR2, null_EmailHashusersR2,\n",
    "                        null_AccountIdusersR2], ignore_index=False)\n",
    "\n",
    "#null_usersR2\n"
   ]
  },
  {
   "cell_type": "code",
   "execution_count": 71,
   "metadata": {},
   "outputs": [],
   "source": [
    "null_IdusersR3= usersR3_df[usersR3_df['Id'].isnull()]\n",
    "null_ReputationusersR3 = usersR3_df[usersR3_df['Reputation'].isnull()]\n",
    "null_CreationDateusersR3 =  usersR3_df[usersR3_df['CreationDate'].isnull()]\n",
    "null_LastAccessDateusersR3 =  usersR3_df[usersR3_df['LastAccessDate'].isnull()]\n",
    "null_DisplayNameusersR3 = usersR3_df[usersR3_df['DisplayName'].isnull()]\n",
    "null_WebsiteUrlusersR3 =  usersR3_df[usersR3_df['WebsiteUrl'].isnull()]\n",
    "null_LocationusersR3 = usersR3_df[usersR3_df['Location'].isnull()]\n",
    "null_AboutMeusersR3 = usersR3_df[usersR3_df['AboutMe'].isnull()]\n",
    "null_ViewsusersR3 = usersR3_df[usersR3_df['Views'].isnull()]\n",
    "null_UpVotesusersR3 = usersR3_df[usersR3_df['UpVotes'].isnull()]\n",
    "null_DownVotesusersR3 = usersR3_df[usersR3_df['DownVotes'].isnull()]\n",
    "null_ProfileImageUrlusersR3 = usersR3_df[usersR3_df['ProfileImageUrl'].isnull()]\n",
    "null_EmailHashusersR3= usersR3_df[usersR3_df['EmailHash'].isnull()]\n",
    "null_AccountIdusersR3= usersR3_df[usersR3_df['AccountId'].isnull()]\n",
    "\n",
    "null_usersR3= pd.concat([null_IdusersR3, null_ReputationusersR3, null_CreationDateusersR3, null_LastAccessDateusersR3,\n",
    "                        null_DisplayNameusersR3, null_WebsiteUrlusersR3, null_LocationusersR3,\n",
    "                        null_AboutMeusersR3, null_ViewsusersR3, null_UpVotesusersR3,\n",
    "                        null_DownVotesusersR3, null_ProfileImageUrlusersR3, null_EmailHashusersR3,\n",
    "                        null_AccountIdusersR3], ignore_index=False)\n",
    "\n",
    "#null_usersR3"
   ]
  },
  {
   "cell_type": "code",
   "execution_count": 72,
   "metadata": {},
   "outputs": [
    {
     "name": "stdout",
     "output_type": "stream",
     "text": [
      "------------------------ Data Quality in Users from releases R1, R2, R3 ---------------------\n",
      "\n",
      "Proportion of null values in Id in R1 0.0 %\n",
      "Proportion of null values in Reputation in R1 0.0 %\n",
      "Proportion of null values in CreationDate in R1 0.0 %\n",
      "Proportion of null values in DisplayName in R1 0.0 %\n",
      "Proportion of null values in LastAccessDate in R1 0.0 %\n",
      "Proportion of null values in WebsiteUrl in R1 97.06840390879479 %\n",
      "Proportion of null values in Location in R1 62.43213897937025 %\n",
      "Proportion of null values in AboutMe in R1 95.54831704668838 %\n",
      "Proportion of null values in Views in R1 0.0 %\n",
      "Proportion of null values in UpVotes in R1 0.0 %\n",
      "Proportion of null values in DownVotes in R1 0.0 %\n",
      "Proportion of null values in ProfileImageUrl in R1 2.2801302931596092 %\n",
      "Proportion of null values in EmailHash in R1 100.0 %\n",
      "Proportion of null values in AccountId in R1 0.0 %\n",
      "\n",
      "Proportion of null values in Id in R2 0.0 %\n",
      "Proportion of null values in Reputation in R2 0.0 %\n",
      "Proportion of null values in CreationDate in R2 0.0 %\n",
      "Proportion of null values in DisplayName in R2 0.0 %\n",
      "Proportion of null values in LastAccessDate in R2 0.0 %\n",
      "Proportion of null values in WebsiteUrl in R2 97.37704918032787 %\n",
      "Proportion of null values in Location in R2 60.98360655737705 %\n",
      "Proportion of null values in AboutMe in R2 95.62841530054645 %\n",
      "Proportion of null values in Views in R2 0.0 %\n",
      "Proportion of null values in UpVotes in R2 0.0 %\n",
      "Proportion of null values in DownVotes in R2 0.0 %\n",
      "Proportion of null values in ProfileImageUrl in R2 2.5136612021857925 %\n",
      "Proportion of null values in EmailHash in R2 100.0 %\n",
      "Proportion of null values in AccountId in R2 0.0 %\n",
      "\n",
      "Proportion of null values in Id in R3 0.0 %\n",
      "Proportion of null values in Reputation in R3 0.0 %\n",
      "Proportion of null values in CreationDate in R3 0.0 %\n",
      "Proportion of null values in DisplayName in R3 0.0 %\n",
      "Proportion of null values in LastAccessDate in R3 0.0 %\n",
      "Proportion of null values in WebsiteUrl in R3 97.6878612716763 %\n",
      "Proportion of null values in Location in R3 66.37764932562621 %\n",
      "Proportion of null values in AboutMe in R3 96.05009633911368 %\n",
      "Proportion of null values in Views in R3 0.0 %\n",
      "Proportion of null values in UpVotes in R3 0.0 %\n",
      "Proportion of null values in DownVotes in R3 0.0 %\n",
      "Proportion of null values in ProfileImageUrl in R3 3.371868978805395 %\n",
      "Proportion of null values in EmailHash in R3 100.0 %\n",
      "Proportion of null values in AccountId in R3 0.0 %\n",
      "\n"
     ]
    }
   ],
   "source": [
    "#Index([u'Id', u'Reputation', u'CreationDate', u'DisplayName',\n",
    "#       u'LastAccessDate', u'WebsiteUrl', u'Location', u'AboutMe', u'Views',\n",
    "#       u'UpVotes', u'DownVotes', u'ProfileImageUrl', u'EmailHash',\n",
    "#       u'AccountId']\n",
    "    \n",
    "users_rawsR1 = usersR1_df.shape\n",
    "users_rawsR2 = usersR2_df.shape\n",
    "users_rawsR3 = usersR3_df.shape\n",
    "\n",
    "\n",
    "users_nullvalues_rawsIdR1 = null_IdusersR1['Id'].shape\n",
    "users_nullvalues_rawsReputationR1 = null_ReputationusersR1['Reputation'].shape\n",
    "users_nullvalues_rawsCreationDateR1 = null_CreationDateusersR1['CreationDate'].shape\n",
    "users_nullvalues_rawsDisplayNameR1 = null_DisplayNameusersR1['DisplayName'].shape\n",
    "users_nullvalues_rawsLastAccessDateR1 = null_LastAccessDateusersR1['LastAccessDate'].shape\n",
    "users_nullvalues_rawsWebsiteUrlR1 = null_WebsiteUrlusersR1['WebsiteUrl'].shape\n",
    "users_nullvalues_rawsLocationR1 = null_LocationusersR1['Location'].shape\n",
    "users_nullvalues_rawsAboutMeR1 = null_AboutMeusersR1['AboutMe'].shape\n",
    "users_nullvalues_rawsViewsR1 = null_ViewsusersR1['Views'].shape\n",
    "users_nullvalues_rawsUpVotesR1 = null_UpVotesusersR1['UpVotes'].shape\n",
    "users_nullvalues_rawsDownVotesR1 = null_DownVotesusersR1['DownVotes'].shape\n",
    "users_nullvalues_rawsProfileImageUrlR1 = null_ProfileImageUrlusersR1['ProfileImageUrl'].shape\n",
    "users_nullvalues_rawsEmailHashR1 = null_EmailHashusersR1['EmailHash'].shape\n",
    "users_nullvalues_rawsAccountIdR1 = null_AccountIdusersR1['AccountId'].shape\n",
    "\n",
    "users_nullvalues_rawsIdR2 = null_IdusersR2['Id'].shape\n",
    "users_nullvalues_rawsReputationR2 = null_ReputationusersR2['Reputation'].shape\n",
    "users_nullvalues_rawsCreationDateR2 = null_CreationDateusersR2['CreationDate'].shape\n",
    "users_nullvalues_rawsDisplayNameR2 = null_DisplayNameusersR2['DisplayName'].shape\n",
    "users_nullvalues_rawsLastAccessDateR2 = null_LastAccessDateusersR2['LastAccessDate'].shape\n",
    "users_nullvalues_rawsWebsiteUrlR2 = null_WebsiteUrlusersR2['WebsiteUrl'].shape\n",
    "users_nullvalues_rawsLocationR2 = null_LocationusersR2['Location'].shape\n",
    "users_nullvalues_rawsAboutMeR2 = null_AboutMeusersR2['AboutMe'].shape\n",
    "users_nullvalues_rawsViewsR2 = null_ViewsusersR2['Views'].shape\n",
    "users_nullvalues_rawsUpVotesR2 = null_UpVotesusersR2['UpVotes'].shape\n",
    "users_nullvalues_rawsDownVotesR2 = null_DownVotesusersR2['DownVotes'].shape\n",
    "users_nullvalues_rawsProfileImageUrlR2 = null_ProfileImageUrlusersR2['ProfileImageUrl'].shape\n",
    "users_nullvalues_rawsEmailHashR2 = null_EmailHashusersR2['EmailHash'].shape\n",
    "users_nullvalues_rawsAccountIdR2 = null_AccountIdusersR2['AccountId'].shape\n",
    "\n",
    "users_nullvalues_rawsIdR3 = null_IdusersR3['Id'].shape\n",
    "users_nullvalues_rawsReputationR3 = null_ReputationusersR3['Reputation'].shape\n",
    "users_nullvalues_rawsCreationDateR3 = null_CreationDateusersR3['CreationDate'].shape\n",
    "users_nullvalues_rawsDisplayNameR3 = null_DisplayNameusersR3['DisplayName'].shape\n",
    "users_nullvalues_rawsLastAccessDateR3 = null_LastAccessDateusersR3['LastAccessDate'].shape\n",
    "users_nullvalues_rawsWebsiteUrlR3 = null_WebsiteUrlusersR3['WebsiteUrl'].shape\n",
    "users_nullvalues_rawsLocationR3 = null_LocationusersR3['Location'].shape\n",
    "users_nullvalues_rawsAboutMeR3 = null_AboutMeusersR3['AboutMe'].shape\n",
    "users_nullvalues_rawsViewsR3 = null_ViewsusersR3['Views'].shape\n",
    "users_nullvalues_rawsUpVotesR3 = null_UpVotesusersR3['UpVotes'].shape\n",
    "users_nullvalues_rawsDownVotesR3 = null_DownVotesusersR3['DownVotes'].shape\n",
    "users_nullvalues_rawsProfileImageUrlR3 = null_ProfileImageUrlusersR3['ProfileImageUrl'].shape\n",
    "users_nullvalues_rawsEmailHashR3 = null_EmailHashusersR3['EmailHash'].shape\n",
    "users_nullvalues_rawsAccountIdR3 = null_AccountIdusersR3['AccountId'].shape\n",
    "\n",
    "print(\"------------------------ Data Quality in Users from releases R1, R2, R3 ---------------------\")\n",
    "print(\"\")\n",
    "\n",
    "print(\"Proportion of null values in Id in R1\",((users_nullvalues_rawsIdR1[0]*100)/users_rawsR1[0]),\"%\")\n",
    "print(\"Proportion of null values in Reputation in R1\",((users_nullvalues_rawsReputationR1[0]*100)/users_rawsR1[0]),\"%\")\n",
    "print(\"Proportion of null values in CreationDate in R1\",((users_nullvalues_rawsCreationDateR1[0]*100)/users_rawsR1[0]),\"%\")\n",
    "print(\"Proportion of null values in DisplayName in R1\",((users_nullvalues_rawsDisplayNameR1[0]*100)/users_rawsR1[0]),\"%\")\n",
    "print(\"Proportion of null values in LastAccessDate in R1\",((users_nullvalues_rawsLastAccessDateR1[0]*100)/users_rawsR1[0]),\"%\")\n",
    "print(\"Proportion of null values in WebsiteUrl in R1\",((users_nullvalues_rawsWebsiteUrlR1[0]*100)/users_rawsR1[0]),\"%\")\n",
    "print(\"Proportion of null values in Location in R1\",((users_nullvalues_rawsLocationR1[0]*100)/users_rawsR1[0]),\"%\")\n",
    "print(\"Proportion of null values in AboutMe in R1\",((users_nullvalues_rawsAboutMeR1[0]*100)/users_rawsR1[0]),\"%\")\n",
    "print(\"Proportion of null values in Views in R1\",((users_nullvalues_rawsViewsR1[0]*100)/users_rawsR1[0]),\"%\")\n",
    "print(\"Proportion of null values in UpVotes in R1\",((users_nullvalues_rawsUpVotesR1[0]*100)/users_rawsR1[0]),\"%\")\n",
    "print(\"Proportion of null values in DownVotes in R1\",((users_nullvalues_rawsDownVotesR1[0]*100)/users_rawsR1[0]),\"%\")\n",
    "print(\"Proportion of null values in ProfileImageUrl in R1\",((users_nullvalues_rawsProfileImageUrlR1[0]*100)/users_rawsR1[0]),\"%\")\n",
    "print(\"Proportion of null values in EmailHash in R1\",((users_nullvalues_rawsEmailHashR1[0]*100)/users_rawsR1[0]),\"%\")\n",
    "print(\"Proportion of null values in AccountId in R1\",((users_nullvalues_rawsAccountIdR1[0]*100)/users_rawsR1[0]),\"%\")\n",
    "print(\"\")\n",
    "\n",
    "\n",
    "print(\"Proportion of null values in Id in R2\",((users_nullvalues_rawsIdR2[0]*100)/users_rawsR2[0]),\"%\")\n",
    "print(\"Proportion of null values in Reputation in R2\",((users_nullvalues_rawsReputationR2[0]*100)/users_rawsR2[0]),\"%\")\n",
    "print(\"Proportion of null values in CreationDate in R2\",((users_nullvalues_rawsCreationDateR2[0]*100)/users_rawsR2[0]),\"%\")\n",
    "print(\"Proportion of null values in DisplayName in R2\",((users_nullvalues_rawsDisplayNameR2[0]*100)/users_rawsR2[0]),\"%\")\n",
    "print(\"Proportion of null values in LastAccessDate in R2\",((users_nullvalues_rawsLastAccessDateR2[0]*100)/users_rawsR2[0]),\"%\")\n",
    "print(\"Proportion of null values in WebsiteUrl in R2\",((users_nullvalues_rawsWebsiteUrlR2[0]*100)/users_rawsR2[0]),\"%\")\n",
    "print(\"Proportion of null values in Location in R2\",((users_nullvalues_rawsLocationR2[0]*100)/users_rawsR2[0]),\"%\")\n",
    "print(\"Proportion of null values in AboutMe in R2\",((users_nullvalues_rawsAboutMeR2[0]*100)/users_rawsR2[0]),\"%\")\n",
    "print(\"Proportion of null values in Views in R2\",((users_nullvalues_rawsViewsR2[0]*100)/users_rawsR2[0]),\"%\")\n",
    "print(\"Proportion of null values in UpVotes in R2\",((users_nullvalues_rawsUpVotesR2[0]*100)/users_rawsR2[0]),\"%\")\n",
    "print(\"Proportion of null values in DownVotes in R2\",((users_nullvalues_rawsDownVotesR2[0]*100)/users_rawsR2[0]),\"%\")\n",
    "print(\"Proportion of null values in ProfileImageUrl in R2\",((users_nullvalues_rawsProfileImageUrlR2[0]*100)/users_rawsR2[0]),\"%\")\n",
    "print(\"Proportion of null values in EmailHash in R2\",((users_nullvalues_rawsEmailHashR2[0]*100)/users_rawsR2[0]),\"%\")\n",
    "print(\"Proportion of null values in AccountId in R2\",((users_nullvalues_rawsAccountIdR2[0]*100)/users_rawsR2[0]),\"%\")\n",
    "print(\"\")\n",
    "\n",
    "\n",
    "print(\"Proportion of null values in Id in R3\",((users_nullvalues_rawsIdR3[0]*100)/users_rawsR3[0]),\"%\")\n",
    "print(\"Proportion of null values in Reputation in R3\",((users_nullvalues_rawsReputationR3[0]*100)/users_rawsR3[0]),\"%\")\n",
    "print(\"Proportion of null values in CreationDate in R3\",((users_nullvalues_rawsCreationDateR3[0]*100)/users_rawsR3[0]),\"%\")\n",
    "print(\"Proportion of null values in DisplayName in R3\",((users_nullvalues_rawsDisplayNameR3[0]*100)/users_rawsR3[0]),\"%\")\n",
    "print(\"Proportion of null values in LastAccessDate in R3\",((users_nullvalues_rawsLastAccessDateR3[0]*100)/users_rawsR3[0]),\"%\")\n",
    "print(\"Proportion of null values in WebsiteUrl in R3\",((users_nullvalues_rawsWebsiteUrlR3[0]*100)/users_rawsR3[0]),\"%\")\n",
    "print(\"Proportion of null values in Location in R3\",((users_nullvalues_rawsLocationR3[0]*100)/users_rawsR3[0]),\"%\")\n",
    "print(\"Proportion of null values in AboutMe in R3\",((users_nullvalues_rawsAboutMeR3[0]*100)/users_rawsR3[0]),\"%\")\n",
    "print(\"Proportion of null values in Views in R3\",((users_nullvalues_rawsViewsR3[0]*100)/users_rawsR3[0]),\"%\")\n",
    "print(\"Proportion of null values in UpVotes in R3\",((users_nullvalues_rawsUpVotesR3[0]*100)/users_rawsR3[0]),\"%\")\n",
    "print(\"Proportion of null values in DownVotes in R3\",((users_nullvalues_rawsDownVotesR3[0]*100)/users_rawsR3[0]),\"%\")\n",
    "print(\"Proportion of null values in ProfileImageUrl in R3\",((users_nullvalues_rawsProfileImageUrlR3[0]*100)/users_rawsR3[0]),\"%\")\n",
    "print(\"Proportion of null values in EmailHash in R3\",((users_nullvalues_rawsEmailHashR3[0]*100)/users_rawsR3[0]),\"%\")\n",
    "print(\"Proportion of null values in AccountId in R3\",((users_nullvalues_rawsAccountIdR3[0]*100)/users_rawsR3[0]),\"%\")\n",
    "print(\"\")\n",
    "\n"
   ]
  },
  {
   "cell_type": "markdown",
   "metadata": {},
   "source": [
    "### Votes R1, R2, R3"
   ]
  },
  {
   "cell_type": "code",
   "execution_count": 73,
   "metadata": {},
   "outputs": [],
   "source": [
    "null_IdvotesR1= votesR1_df[votesR1_df['Id'].isnull()]\n",
    "null_PostIdvotesR1= votesR1_df[votesR1_df['PostId'].isnull()]\n",
    "null_VoteTypeIdvotesR1 =  votesR1_df[votesR1_df['VoteTypeId'].isnull()]\n",
    "null_UserIdvotesR1 = votesR1_df[votesR1_df['UserId'].isnull()]\n",
    "null_CreationDatevotesR1 =  votesR1_df[votesR1_df['CreationDate'].isnull()]\n",
    "null_BountyAmountvotesR1 = votesR1_df[votesR1_df['BountyAmount'].isnull()]\n",
    "\n",
    "null_votesR1= pd.concat([null_IdvotesR1, null_PostIdvotesR1, null_VoteTypeIdvotesR1, null_UserIdvotesR1, \n",
    "                            null_CreationDatevotesR1, null_BountyAmountvotesR1], ignore_index=False)\n",
    "#null_votesR1"
   ]
  },
  {
   "cell_type": "code",
   "execution_count": 74,
   "metadata": {},
   "outputs": [],
   "source": [
    "null_IdvotesR2= votesR2_df[votesR2_df['Id'].isnull()]\n",
    "null_PostIdvotesR2= votesR2_df[votesR2_df['PostId'].isnull()]\n",
    "null_VoteTypeIdvotesR2=  votesR2_df[votesR2_df['VoteTypeId'].isnull()]\n",
    "null_UserIdvotesR2 = votesR2_df[votesR2_df['UserId'].isnull()]\n",
    "null_CreationDatevotesR2=  votesR2_df[votesR2_df['CreationDate'].isnull()]\n",
    "null_BountyAmountvotesR2= votesR2_df[votesR2_df['BountyAmount'].isnull()]\n",
    "\n",
    "null_votesR2= pd.concat([null_IdvotesR2, null_PostIdvotesR2, null_VoteTypeIdvotesR2, null_UserIdvotesR2, null_CreationDatevotesR2, null_BountyAmountvotesR2], ignore_index=False)\n",
    "#null_votesR2"
   ]
  },
  {
   "cell_type": "code",
   "execution_count": 75,
   "metadata": {},
   "outputs": [],
   "source": [
    "null_IdvotesR3= votesR3_df[votesR3_df['Id'].isnull()]\n",
    "null_PostIdvotesR3 = votesR3_df[votesR3_df['PostId'].isnull()]\n",
    "null_VoteTypeIdvotesR3 =  votesR3_df[votesR3_df['VoteTypeId'].isnull()]\n",
    "null_UserIdvotesR3 = votesR3_df[votesR3_df['UserId'].isnull()]\n",
    "null_CreationDatevotesR3 =  votesR3_df[votesR3_df['CreationDate'].isnull()]\n",
    "null_BountyAmountvotesR3 = votesR3_df[votesR3_df['BountyAmount'].isnull()]\n",
    "\n",
    "null_votesR3 = pd.concat([null_IdvotesR3, null_PostIdvotesR3, null_VoteTypeIdvotesR3, null_UserIdvotesR3, \n",
    "                            null_CreationDatevotesR3, null_BountyAmountvotesR3], ignore_index=False)\n",
    "#null_votesR3"
   ]
  },
  {
   "cell_type": "code",
   "execution_count": 76,
   "metadata": {},
   "outputs": [
    {
     "name": "stdout",
     "output_type": "stream",
     "text": [
      "------------------------ Data Quality in Votes from releases R1, R2, R3 ---------------------\n",
      "\n",
      "Proportion of null values in UserId in R1 92.7663734115347 %\n",
      "Proportion of null values in BountyAmount in R1 100.0 %\n",
      "\n",
      "Proportion of null values in UserId in R2 93.26171875 %\n",
      "Proportion of null values in BountyAmount in R2 100.0 %\n",
      "\n",
      "Proportion of null values in UserId in R3 94.91884262526465 %\n",
      "Proportion of null values in BountyAmount in R3 99.71771347918137 %\n"
     ]
    }
   ],
   "source": [
    "# Index([u'Id', u'PostId', u'VoteTypeId', u'UserId', u'CreationDate', u'BountyAmount']\n",
    "\n",
    "votes_rawsR1 = votesR1_df.shape\n",
    "votes_rawsR2 = votesR2_df.shape\n",
    "votes_rawsR3 = votesR3_df.shape\n",
    "\n",
    "\n",
    "votes_nullvalues_rawsUserIdR1 = null_UserIdvotesR1['UserId'].shape\n",
    "votes_nullvalues_rawsBountyAmountR1 = null_BountyAmountvotesR1['BountyAmount'].shape\n",
    "\n",
    "\n",
    "votes_nullvalues_rawsUserIdR2 = null_UserIdvotesR2['UserId'].shape\n",
    "votes_nullvalues_rawsBountyAmountR2 = null_BountyAmountvotesR2['BountyAmount'].shape\n",
    "\n",
    "votes_nullvalues_rawsUserIdR3 = null_UserIdvotesR3['UserId'].shape\n",
    "votes_nullvalues_rawsBountyAmountR3 = null_BountyAmountvotesR3['BountyAmount'].shape\n",
    "\n",
    "print(\"------------------------ Data Quality in Votes from releases R1, R2, R3 ---------------------\")\n",
    "print(\"\")\n",
    "print(\"Proportion of null values in UserId in R1\",((votes_nullvalues_rawsUserIdR1[0]*100)/votes_rawsR1[0]),\"%\")\n",
    "print(\"Proportion of null values in BountyAmount in R1\",((votes_nullvalues_rawsBountyAmountR1[0]*100)/votes_rawsR1[0]),\"%\")\n",
    "print(\"\")\n",
    "\n",
    "print(\"Proportion of null values in UserId in R2\",((votes_nullvalues_rawsUserIdR2[0]*100)/votes_rawsR2[0]),\"%\")\n",
    "print(\"Proportion of null values in BountyAmount in R2\",((votes_nullvalues_rawsBountyAmountR2[0]*100)/votes_rawsR2[0]),\"%\")\n",
    "print(\"\")\n",
    "\n",
    "print(\"Proportion of null values in UserId in R3\",((votes_nullvalues_rawsUserIdR3[0]*100)/votes_rawsR3[0]),\"%\")\n",
    "print(\"Proportion of null values in BountyAmount in R3\",((votes_nullvalues_rawsBountyAmountR3[0]*100)/votes_rawsR3[0]),\"%\")"
   ]
  },
  {
   "cell_type": "markdown",
   "metadata": {},
   "source": [
    "## Users UpVotes attribute distribution across releases"
   ]
  },
  {
   "cell_type": "code",
   "execution_count": 77,
   "metadata": {},
   "outputs": [
    {
     "data": {
      "image/png": "[encoded data removed]",
      "text/plain": [
       "<Figure size 432x288 with 1 Axes>"
      ]
     },
     "metadata": {},
     "output_type": "display_data"
    }
   ],
   "source": [
    "import scipy.stats as stats\n",
    "usersR1_def_upvote = usersR1_df['UpVotes']\n",
    "usersR1_def_upvote.hist(normed=0, histtype='stepfilled', bins=5)\n",
    "\n",
    "\n",
    "plt.xlabel('UpVotes in Release 1',fontsize=15)\n",
    "plt.ylabel('Number of votes',fontsize=15)\n",
    "plt.show()"
   ]
  },
  {
   "cell_type": "code",
   "execution_count": 78,
   "metadata": {},
   "outputs": [
    {
     "data": {
      "image/png": "[encoded data removed]",
      "text/plain": [
       "<Figure size 432x288 with 1 Axes>"
      ]
     },
     "metadata": {},
     "output_type": "display_data"
    }
   ],
   "source": [
    "usersR2_def_upvote = usersR2_df['UpVotes']\n",
    "usersR2_def_upvote.hist(normed=0, histtype='stepfilled', bins=10)\n",
    "\n",
    "plt.xlabel('UpVotes in Release 2',fontsize=15)\n",
    "plt.ylabel('Number of votes',fontsize=15)\n",
    "plt.show()"
   ]
  },
  {
   "cell_type": "code",
   "execution_count": 79,
   "metadata": {},
   "outputs": [
    {
     "data": {
      "image/png": "[encoded data removed]",
      "text/plain": [
       "<Figure size 432x288 with 1 Axes>"
      ]
     },
     "metadata": {},
     "output_type": "display_data"
    }
   ],
   "source": [
    "usersR3_def_upvote = usersR3_df['UpVotes']\n",
    "usersR3_def_upvote.hist(normed=0, histtype='stepfilled', bins=10)\n",
    "\n",
    "plt.xlabel('UpVotes in Release 3',fontsize=15)\n",
    "plt.ylabel('Number of votes',fontsize=15)\n",
    "plt.show()"
   ]
  },
  {
   "cell_type": "markdown",
   "metadata": {},
   "source": [
    "## Sharding Release 1\n",
    "### Choosing the best sharding key for hash or interval based strategies"
   ]
  },
  {
   "cell_type": "code",
   "execution_count": 80,
   "metadata": {},
   "outputs": [
    {
     "data": {
      "image/png": "[encoded data removed]",
      "text/plain": [
       "<Figure size 432x288 with 4 Axes>"
      ]
     },
     "metadata": {},
     "output_type": "display_data"
    }
   ],
   "source": [
    "badgesR1_df.hist(normed=0, histtype='stepfilled', bins=10)\n",
    "plt.show()"
   ]
  },
  {
   "cell_type": "code",
   "execution_count": 81,
   "metadata": {},
   "outputs": [
    {
     "data": {
      "image/png": "[encoded data removed]",
      "text/plain": [
       "<Figure size 432x288 with 4 Axes>"
      ]
     },
     "metadata": {},
     "output_type": "display_data"
    }
   ],
   "source": [
    "commentsR1_df.hist(normed=0, histtype='stepfilled', bins=10)\n",
    "plt.show()"
   ]
  },
  {
   "cell_type": "code",
   "execution_count": 82,
   "metadata": {},
   "outputs": [
    {
     "data": {
      "image/png": "[encoded data removed]",
      "text/plain": [
       "<Figure size 432x288 with 16 Axes>"
      ]
     },
     "metadata": {},
     "output_type": "display_data"
    }
   ],
   "source": [
    "postsR1_df.hist(normed=0, histtype='stepfilled', bins=10)\n",
    "plt.show()"
   ]
  },
  {
   "cell_type": "code",
   "execution_count": 83,
   "metadata": {},
   "outputs": [
    {
     "data": {
      "image/png": "[encoded data removed]",
      "text/plain": [
       "<Figure size 432x288 with 9 Axes>"
      ]
     },
     "metadata": {},
     "output_type": "display_data"
    }
   ],
   "source": [
    "#import matplotlib.pyplot as plt\n",
    "usersR1_df.hist(normed=0, histtype='stepfilled', bins=10)\n",
    "plt.show()"
   ]
  },
  {
   "cell_type": "code",
   "execution_count": 84,
   "metadata": {},
   "outputs": [
    {
     "data": {
      "image/png": "[encoded data removed]",
      "text/plain": [
       "<Figure size 432x288 with 6 Axes>"
      ]
     },
     "metadata": {},
     "output_type": "display_data"
    }
   ],
   "source": [
    "votesR1_df.hist(normed=0, histtype='stepfilled', bins=10)\n",
    "plt.show()"
   ]
  },
  {
   "cell_type": "code",
   "execution_count": null,
   "metadata": {},
   "outputs": [],
   "source": []
  }
 ],
 "metadata": {
  "kernelspec": {
   "display_name": "Python 3",
   "language": "python",
   "name": "python3"
  },
  "language_info": {
   "codemirror_mode": {
    "name": "ipython",
    "version": 3
   },
   "file_extension": ".py",
   "mimetype": "text/x-python",
   "name": "python",
   "nbconvert_exporter": "python",
   "pygments_lexer": "ipython3",
   "version": "3.6.5"
  }
 },
 "nbformat": 4,
 "nbformat_minor": 2
}
