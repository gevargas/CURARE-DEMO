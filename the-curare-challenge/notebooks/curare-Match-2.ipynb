{
 "cells": [
  {
   "cell_type": "markdown",
   "metadata": {
    "collapsed": true
   },
   "source": [
    "# The CURARE challenge: Match2"
   ]
  },
  {
   "cell_type": "code",
   "execution_count": 49,
   "metadata": {},
   "outputs": [],
   "source": [
    "import pandas as pd\n",
    "import timeit\n",
    "import ipywidgets as widgets\n",
    "import time, threading\n",
    "import json\n",
    "import pymongo\n",
    "from pymongo import MongoClient\n",
    "import pprint\n",
    "import urllib.parse"
   ]
  },
  {
   "cell_type": "markdown",
   "metadata": {},
   "source": [
    "## Preparing the game environment"
   ]
  },
  {
   "cell_type": "code",
   "execution_count": 50,
   "metadata": {},
   "outputs": [],
   "source": [
    "start_time = timeit.default_timer()\n",
    "elapsed = timeit.default_timer() - start_time"
   ]
  },
  {
   "cell_type": "code",
   "execution_count": 51,
   "metadata": {},
   "outputs": [
    {
     "name": "stdout",
     "output_type": "stream",
     "text": [
      "execution time: 2.9749935492873192e-05 s\n"
     ]
    }
   ],
   "source": [
    "print (\"execution time: \" + str(elapsed) + \" s\")"
   ]
  },
  {
   "cell_type": "code",
   "execution_count": 52,
   "metadata": {},
   "outputs": [],
   "source": [
    "#------------------------------------------------------------------ Q1 --------------------------------------------------------------------#\n",
    "btn1=widgets.ToggleButton(value=False,description='Activate',disabled=False,button_style='info',tooltip='',icon='',visibility = 'visible')\n",
    "#timeLbl1=widgets.Text(value='0',description='',disabled=True)\n",
    "q1 = widgets.RadioButtons(options=['January 1rst 2018', 'January 2nd 2018', 'January 3rd 2018'],value=None,description='Release:',disabled=True)\n",
    "#------------------------------------------------------------------------------------------------------------------------------------------#\n",
    "#------------------------------------------------------------------ Q2 --------------------------------------------------------------------#\n",
    "btn2=widgets.ToggleButton(value=False,description='Activate',disabled=False,button_style='info',tooltip='',icon='',visibility = 'visible')\n",
    "#timeLbl2=widgets.Text(value='0',description='',disabled=True)\n",
    "q2 = widgets.RadioButtons(options=['January 1rst 2018', 'January 2nd 2018', 'January 3rd 2018'],value=None,description='Release:',disabled=True)\n",
    "#------------------------------------------------------------------------------------------------------------------------------------------#\n",
    "#------------------------------------------------------------------ Q3 --------------------------------------------------------------------#\n",
    "btn3=widgets.ToggleButton(value=False,description='Activate',disabled=False,button_style='info',tooltip='',icon='',visibility = 'visible')\n",
    "#timeLbl3=widgets.Text(value='0',description='',disabled=True)\n",
    "q3 = widgets.RadioButtons(options=['January 1rst 2018', 'January 2nd 2018', 'January 3rd 2018'],value=None,description='Release:',disabled=True)\n",
    "#------------------------------------------------------------------------------------------------------------------------------------------#\n",
    "#------------------------------------------------------------------ Q4 --------------------------------------------------------------------#\n",
    "btn4=widgets.ToggleButton(value=False,description='Activate',disabled=False,button_style='info',tooltip='',icon='',visibility = 'visible')\n",
    "#timeLbl4=widgets.Text(value='0',description='',disabled=True)\n",
    "q4 = widgets.Dropdown(options=['Id','PostTypeId','AcceptedAnswerId','ParentId','CreationDate','DeletionDate','Score','ViewCount','Body','OwnerUserId','OwnerDisplayName','LastEditorUserId','LastEditorDisplayName','LastEditDate','LastActivityDate','Title','Tags','AnswerCount','CommentCount','FavoriteCount','ClosedDate','CommunityOwnedDate'],\n",
    "    value=None,description='Attribute:',disabled=True,)\n",
    "#------------------------------------------------------------------------------------------------------------------------------------------#\n",
    "#------------------------------------------------------------------ Q5 --------------------------------------------------------------------#\n",
    "btn5=widgets.ToggleButton(value=False,description='Activate',disabled=False,button_style='info',tooltip='',icon='',visibility = 'visible')\n",
    "#timeLbl5=widgets.Text(value='0',description='',disabled=True)\n",
    "drop_options = [['--','Id','UserId','Name','Date','Class','TagBased'],\n",
    "                ['--','Id','PostId','Score','Text','CreationDate','UserDisplayName','UserId'],\n",
    "               ['--','Id','PostTypeId','AcceptedAnswerId','ParentId','CreationDate','DeletionDate','Score','ViewCount','Body','OwnerUserId','OwnerDisplayName','LastEditorUserId','LastEditorDisplayName','LastEditDate','LastActivityDate','Title','Tags','AnswerCount','CommentCount','FavoriteCount','ClosedDate','CommunityOwnedDate'],\n",
    "               ['--','Id','Reputation','CreationDate','DisplayName','LastAccessDate','WebsiteUrl','Location','AboutMe','Views','UpVotes','DownVotes','ProfileImageUrl','EmailHash','AccountId'],\n",
    "               ['--','Id','PostId','VoteTypeId','UserId','CreationDate','BountyAmount']]\n",
    "children = [widgets.Dropdown(options=name,description='',value=None) for name in drop_options]\n",
    "tab = widgets.Tab()\n",
    "tab.children = children\n",
    "items=['Badges', 'Comments', 'Posts', 'Users', 'Votes']\n",
    "for i in range(len(items)):\n",
    "    tab.set_title(i, items[i])\n",
    "q5=tab\n",
    "#------------------------------------------------------------------------------------------------------------------------------------------#\n",
    "#------------------------------------------------------------------ Q6 --------------------------------------------------------------------#\n",
    "btn6=widgets.ToggleButton(value=False,description='Activate',disabled=False,button_style='info',tooltip='',icon='',visibility = 'visible')\n",
    "#timeLbl6=widgets.Text(value='0',description='',disabled=True)\n",
    "q6= widgets.RadioButtons(options=['Yes', 'No'],value=None,description='',disabled=False)\n",
    "#------------------------------------------------------------------------------------------------------------------------------------------#\n",
    "#------------------------------------------------------------------ Q7 --------------------------------------------------------------------#\n",
    "btn7=widgets.ToggleButton(value=False,description='Activate',disabled=False,button_style='info',tooltip='',icon='',visibility = 'visible')\n",
    "#timeLbl7=widgets.Text(value='0',description='',disabled=True)\n",
    "children2 = [widgets.Dropdown(options=name,value=None) for name in drop_options]\n",
    "tab2 = widgets.Tab()\n",
    "tab2.children = children2\n",
    "for i in range(len(items)):\n",
    "    tab2.set_title(i, items[i])\n",
    "q7=tab2\n",
    "#------------------------------------------------------------------------------------------------------------------------------------------#\n",
    "\n",
    "#------------------------------------------------------- Effort questions -----------------------------------------------------------------#\n",
    "effortW = []\n",
    "for e in range(7):\n",
    "    effortW.append(widgets.ToggleButtons(options=['Low', 'Regular', 'High'],description='Select Effort:',disabled=False,value=None))  \n",
    "\n",
    "timeLblW = []\n",
    "for t in range(7):\n",
    "    timeLblW.append(widgets.Text(value='0',description='',disabled=True))  \n",
    "    \n",
    "# Timer function    \n",
    "# btn - receive a button object\n",
    "# lbl - receive a label object\n",
    "#    we use lbl.value to get timer value\n",
    "# q - receive a multiple option object\n",
    "#    we use q.value to get answered value\n",
    "def timer(btn,lbl,q):        \n",
    "\n",
    "    cnt =int(lbl.value)   \n",
    "    on=btn.value \n",
    "    desc=q.description\n",
    "\n",
    "    if desc!='Submitted':\n",
    "        if on==True:      \n",
    "            threading.Timer(1, timer, [btn,lbl,q]).start()\n",
    "            cnt = cnt+1                        \n",
    "            lbl.value = str(cnt)\n",
    "            btn.description='Submit answer'\n",
    "            q.disabled=False\n",
    "\n",
    "        elif on==False:\n",
    "            threading.Timer(1, timer, [btn,lbl,q]).start()\n",
    "            btn.description='Activate'\n",
    "            q.disabled=True\n",
    "\n",
    "        else:\n",
    "            None\n",
    "\n",
    "    if cnt!=0 and btn.description=='Activate':\n",
    "        threading.Timer(1, timer, [btn,lbl,q]).start()\n",
    "        q.description='Submitted'\n",
    "        btn.visibility='hidden'\n",
    "        btn.description='--'\n",
    "        btn.disbled=True  \n",
    "\n",
    "def timerTab(btn,lbl,q):        \n",
    "\n",
    "    cnt=int(lbl.value)   \n",
    "    on=btn.value \n",
    "    desc=q.children[0].description\n",
    "\n",
    "    if desc!='Submitted':\n",
    "        if on==True:      \n",
    "            threading.Timer(1, timerTab, [btn,lbl,q]).start()\n",
    "            cnt = cnt+1                        \n",
    "            lbl.value = str(cnt)\n",
    "            btn.description='Submit answer'\n",
    "            for i in range(len(q.children)):\n",
    "                q.children[i].disabled=False\n",
    "\n",
    "        elif on==False:\n",
    "            threading.Timer(1, timerTab, [btn,lbl,q]).start()\n",
    "            btn.description='Activate'\n",
    "            for i in range(len(q.children)):\n",
    "                q.children[i].disabled=True\n",
    "\n",
    "        else:\n",
    "            None\n",
    "\n",
    "    if cnt!=0 and btn.description=='Activate':\n",
    "        threading.Timer(1, timerTab, [btn,lbl,q]).start()\n",
    "        for i in range(len(q.children)):\n",
    "            q.children[i].description='Submitted'\n",
    "        btn.visibility='hidden'\n",
    "        btn.description='--'\n",
    "        btn.disbled=True                        "
   ]
  },
  {
   "cell_type": "markdown",
   "metadata": {},
   "source": [
    "## Q1. Which is the release with best quality? (less missing, nulls and default values)"
   ]
  },
  {
   "cell_type": "code",
   "execution_count": 53,
   "metadata": {},
   "outputs": [
    {
     "data": {
      "application/vnd.jupyter.widget-view+json": {
       "model_id": "93ab031ca4b94538ac0e7412bf7d7915",
       "version_major": 2,
       "version_minor": 0
      },
      "text/plain": [
       "Text(value='0', disabled=True)"
      ]
     },
     "metadata": {},
     "output_type": "display_data"
    }
   ],
   "source": [
    "timeLblW[0]"
   ]
  },
  {
   "cell_type": "code",
   "execution_count": 54,
   "metadata": {},
   "outputs": [
    {
     "data": {
      "application/vnd.jupyter.widget-view+json": {
       "model_id": "5485996ff31b4d9da4311320c9ae869b",
       "version_major": 2,
       "version_minor": 0
      },
      "text/plain": [
       "ToggleButton(value=False, button_style='info', description='Activate')"
      ]
     },
     "metadata": {},
     "output_type": "display_data"
    }
   ],
   "source": [
    "btn1"
   ]
  },
  {
   "cell_type": "code",
   "execution_count": 55,
   "metadata": {},
   "outputs": [
    {
     "data": {
      "application/vnd.jupyter.widget-view+json": {
       "model_id": "1261c6e945f04d4e97342fe9890f4ca7",
       "version_major": 2,
       "version_minor": 0
      },
      "text/plain": [
       "RadioButtons(description='Release:', disabled=True, options=('January 1rst 2018', 'January 2nd 2018', 'January…"
      ]
     },
     "metadata": {},
     "output_type": "display_data"
    }
   ],
   "source": [
    "q1"
   ]
  },
  {
   "cell_type": "code",
   "execution_count": 56,
   "metadata": {},
   "outputs": [],
   "source": [
    "timer(btn1,timeLblW[0],q1)"
   ]
  },
  {
   "cell_type": "markdown",
   "metadata": {},
   "source": [
    "### Q1.1 Effort to answer the question"
   ]
  },
  {
   "cell_type": "code",
   "execution_count": 57,
   "metadata": {},
   "outputs": [
    {
     "data": {
      "application/vnd.jupyter.widget-view+json": {
       "model_id": "96ad2c88ec4e4473832fc9c4db04dabf",
       "version_major": 2,
       "version_minor": 0
      },
      "text/plain": [
       "ToggleButtons(description='Select Effort:', options=('Low', 'Regular', 'High'), value=None)"
      ]
     },
     "metadata": {},
     "output_type": "display_data"
    }
   ],
   "source": [
    "effortW[0]"
   ]
  },
  {
   "cell_type": "markdown",
   "metadata": {},
   "source": [
    "## Q2. Which release has the most number of records?"
   ]
  },
  {
   "cell_type": "code",
   "execution_count": 58,
   "metadata": {},
   "outputs": [
    {
     "data": {
      "application/vnd.jupyter.widget-view+json": {
       "model_id": "13c8b6377e7b43249e49f851cb810c81",
       "version_major": 2,
       "version_minor": 0
      },
      "text/plain": [
       "Text(value='0', disabled=True)"
      ]
     },
     "metadata": {},
     "output_type": "display_data"
    }
   ],
   "source": [
    "timeLblW[1]"
   ]
  },
  {
   "cell_type": "code",
   "execution_count": 59,
   "metadata": {},
   "outputs": [
    {
     "data": {
      "application/vnd.jupyter.widget-view+json": {
       "model_id": "fe91773d3ccf4496bff6e1c23e1f127d",
       "version_major": 2,
       "version_minor": 0
      },
      "text/plain": [
       "ToggleButton(value=False, button_style='info', description='Activate')"
      ]
     },
     "metadata": {},
     "output_type": "display_data"
    }
   ],
   "source": [
    "btn2"
   ]
  },
  {
   "cell_type": "code",
   "execution_count": 60,
   "metadata": {},
   "outputs": [
    {
     "data": {
      "application/vnd.jupyter.widget-view+json": {
       "model_id": "96eec29c515f4fef87d71cd66ea951ab",
       "version_major": 2,
       "version_minor": 0
      },
      "text/plain": [
       "RadioButtons(description='Release:', disabled=True, options=('January 1rst 2018', 'January 2nd 2018', 'January…"
      ]
     },
     "metadata": {},
     "output_type": "display_data"
    }
   ],
   "source": [
    "q2"
   ]
  },
  {
   "cell_type": "code",
   "execution_count": 61,
   "metadata": {},
   "outputs": [],
   "source": [
    "timer(btn2,timeLblW[1],q2)"
   ]
  },
  {
   "cell_type": "markdown",
   "metadata": {},
   "source": [
    "### Q2.1 Effort to answer the question"
   ]
  },
  {
   "cell_type": "code",
   "execution_count": 62,
   "metadata": {},
   "outputs": [
    {
     "data": {
      "application/vnd.jupyter.widget-view+json": {
       "model_id": "b8585c72fbeb4dab834d23d6a23fea69",
       "version_major": 2,
       "version_minor": 0
      },
      "text/plain": [
       "ToggleButtons(description='Select Effort:', options=('Low', 'Regular', 'High'), value=None)"
      ]
     },
     "metadata": {},
     "output_type": "display_data"
    }
   ],
   "source": [
    "effortW[1]"
   ]
  },
  {
   "cell_type": "markdown",
   "metadata": {},
   "source": [
    "## Q3. Which is the release where _UpVote_ attribute from _Users_ item is more spread?"
   ]
  },
  {
   "cell_type": "code",
   "execution_count": 63,
   "metadata": {},
   "outputs": [
    {
     "data": {
      "application/vnd.jupyter.widget-view+json": {
       "model_id": "50604d7c00214b9e84161360db4d5832",
       "version_major": 2,
       "version_minor": 0
      },
      "text/plain": [
       "Text(value='0', disabled=True)"
      ]
     },
     "metadata": {},
     "output_type": "display_data"
    }
   ],
   "source": [
    "timeLblW[2]"
   ]
  },
  {
   "cell_type": "code",
   "execution_count": 64,
   "metadata": {},
   "outputs": [
    {
     "data": {
      "application/vnd.jupyter.widget-view+json": {
       "model_id": "76fd82ea020443b3959c392db4fbf01a",
       "version_major": 2,
       "version_minor": 0
      },
      "text/plain": [
       "ToggleButton(value=False, button_style='info', description='Activate')"
      ]
     },
     "metadata": {},
     "output_type": "display_data"
    }
   ],
   "source": [
    "btn3"
   ]
  },
  {
   "cell_type": "code",
   "execution_count": 65,
   "metadata": {},
   "outputs": [
    {
     "data": {
      "application/vnd.jupyter.widget-view+json": {
       "model_id": "b9773697b9d34ff9b2b1fa686f88e367",
       "version_major": 2,
       "version_minor": 0
      },
      "text/plain": [
       "RadioButtons(description='Release:', disabled=True, options=('January 1rst 2018', 'January 2nd 2018', 'January…"
      ]
     },
     "metadata": {},
     "output_type": "display_data"
    }
   ],
   "source": [
    "q3"
   ]
  },
  {
   "cell_type": "code",
   "execution_count": 66,
   "metadata": {},
   "outputs": [],
   "source": [
    "timer(btn3,timeLblW[2],q3)"
   ]
  },
  {
   "cell_type": "markdown",
   "metadata": {},
   "source": [
    "### Q3.1 Effort to answer the question"
   ]
  },
  {
   "cell_type": "code",
   "execution_count": 67,
   "metadata": {},
   "outputs": [
    {
     "data": {
      "application/vnd.jupyter.widget-view+json": {
       "model_id": "0eb49dd9b9a948269c27112c8e5d23f6",
       "version_major": 2,
       "version_minor": 0
      },
      "text/plain": [
       "ToggleButtons(description='Select Effort:', options=('Low', 'Regular', 'High'), value=None)"
      ]
     },
     "metadata": {},
     "output_type": "display_data"
    }
   ],
   "source": [
    "effortW[2]"
   ]
  },
  {
   "cell_type": "markdown",
   "metadata": {},
   "source": [
    "## Q4. Which attribute from _Posts_ item can be used to compute answers' popularity and author's reputation (started answered and authors)"
   ]
  },
  {
   "cell_type": "code",
   "execution_count": 68,
   "metadata": {},
   "outputs": [
    {
     "data": {
      "application/vnd.jupyter.widget-view+json": {
       "model_id": "e8d7f7e8371f4987a262d872cd6e7f6e",
       "version_major": 2,
       "version_minor": 0
      },
      "text/plain": [
       "Text(value='0', disabled=True)"
      ]
     },
     "metadata": {},
     "output_type": "display_data"
    }
   ],
   "source": [
    "timeLblW[3]"
   ]
  },
  {
   "cell_type": "code",
   "execution_count": 69,
   "metadata": {},
   "outputs": [
    {
     "data": {
      "application/vnd.jupyter.widget-view+json": {
       "model_id": "0a7ca4c220c84fab847c17969b2a2ca6",
       "version_major": 2,
       "version_minor": 0
      },
      "text/plain": [
       "ToggleButton(value=False, button_style='info', description='Activate')"
      ]
     },
     "metadata": {},
     "output_type": "display_data"
    }
   ],
   "source": [
    "btn4"
   ]
  },
  {
   "cell_type": "code",
   "execution_count": 70,
   "metadata": {},
   "outputs": [
    {
     "data": {
      "application/vnd.jupyter.widget-view+json": {
       "model_id": "2ad9afe6419f4b0e96587e558f838d8b",
       "version_major": 2,
       "version_minor": 0
      },
      "text/plain": [
       "Dropdown(description='Attribute:', disabled=True, options=('Id', 'PostTypeId', 'AcceptedAnswerId', 'ParentId',…"
      ]
     },
     "metadata": {},
     "output_type": "display_data"
    }
   ],
   "source": [
    "q4"
   ]
  },
  {
   "cell_type": "code",
   "execution_count": 71,
   "metadata": {},
   "outputs": [],
   "source": [
    "timer(btn4,timeLblW[3],q4)"
   ]
  },
  {
   "cell_type": "markdown",
   "metadata": {},
   "source": [
    "### Q4.1 Effort to answer the question"
   ]
  },
  {
   "cell_type": "code",
   "execution_count": 72,
   "metadata": {},
   "outputs": [
    {
     "data": {
      "application/vnd.jupyter.widget-view+json": {
       "model_id": "2a4c2676ea5a42dc8902a2e184d2d07c",
       "version_major": 2,
       "version_minor": 0
      },
      "text/plain": [
       "ToggleButtons(description='Select Effort:', options=('Low', 'Regular', 'High'), value=None)"
      ]
     },
     "metadata": {},
     "output_type": "display_data"
    }
   ],
   "source": [
    "effortW[3]"
   ]
  },
  {
   "cell_type": "markdown",
   "metadata": {},
   "source": [
    "## Q5. Which is/are the attribute(s) that can be used to identify the most trendy topic addressed in the release?"
   ]
  },
  {
   "cell_type": "code",
   "execution_count": 73,
   "metadata": {},
   "outputs": [
    {
     "data": {
      "application/vnd.jupyter.widget-view+json": {
       "model_id": "892db7342acf400b930ed96ea11b1169",
       "version_major": 2,
       "version_minor": 0
      },
      "text/plain": [
       "Text(value='0', disabled=True)"
      ]
     },
     "metadata": {},
     "output_type": "display_data"
    }
   ],
   "source": [
    "timeLblW[4]"
   ]
  },
  {
   "cell_type": "code",
   "execution_count": 74,
   "metadata": {},
   "outputs": [
    {
     "data": {
      "application/vnd.jupyter.widget-view+json": {
       "model_id": "417a9278f25346bc948a2933ff3a1168",
       "version_major": 2,
       "version_minor": 0
      },
      "text/plain": [
       "ToggleButton(value=False, button_style='info', description='Activate')"
      ]
     },
     "metadata": {},
     "output_type": "display_data"
    }
   ],
   "source": [
    "btn5"
   ]
  },
  {
   "cell_type": "code",
   "execution_count": 75,
   "metadata": {
    "scrolled": true
   },
   "outputs": [
    {
     "data": {
      "application/vnd.jupyter.widget-view+json": {
       "model_id": "8601e5e4c37d461994efead0f190366b",
       "version_major": 2,
       "version_minor": 0
      },
      "text/plain": [
       "Tab(children=(Dropdown(options=('--', 'Id', 'UserId', 'Name', 'Date', 'Class', 'TagBased'), value=None), Dropd…"
      ]
     },
     "metadata": {},
     "output_type": "display_data"
    }
   ],
   "source": [
    "q5"
   ]
  },
  {
   "cell_type": "code",
   "execution_count": 76,
   "metadata": {},
   "outputs": [],
   "source": [
    "timerTab(btn5,timeLblW[4],q5)"
   ]
  },
  {
   "cell_type": "markdown",
   "metadata": {},
   "source": [
    "### Q5.1 Effort to answer the question"
   ]
  },
  {
   "cell_type": "code",
   "execution_count": 77,
   "metadata": {},
   "outputs": [
    {
     "data": {
      "application/vnd.jupyter.widget-view+json": {
       "model_id": "eea8dc08893e4a0e8c8610a583c7159e",
       "version_major": 2,
       "version_minor": 0
      },
      "text/plain": [
       "ToggleButtons(description='Select Effort:', options=('Low', 'Regular', 'High'), value=None)"
      ]
     },
     "metadata": {},
     "output_type": "display_data"
    }
   ],
   "source": [
    "effortW[4]"
   ]
  },
  {
   "cell_type": "markdown",
   "metadata": {},
   "source": [
    "## Q6 Will missing, null, and default values bias observation of trends?"
   ]
  },
  {
   "cell_type": "code",
   "execution_count": 78,
   "metadata": {},
   "outputs": [
    {
     "data": {
      "application/vnd.jupyter.widget-view+json": {
       "model_id": "90db65421ef84ac299b67cd013d14d13",
       "version_major": 2,
       "version_minor": 0
      },
      "text/plain": [
       "Text(value='0', disabled=True)"
      ]
     },
     "metadata": {},
     "output_type": "display_data"
    }
   ],
   "source": [
    "timeLblW[5]"
   ]
  },
  {
   "cell_type": "code",
   "execution_count": 79,
   "metadata": {},
   "outputs": [
    {
     "data": {
      "application/vnd.jupyter.widget-view+json": {
       "model_id": "828cf86a035b41aeacb34cd354d00398",
       "version_major": 2,
       "version_minor": 0
      },
      "text/plain": [
       "ToggleButton(value=False, button_style='info', description='Activate')"
      ]
     },
     "metadata": {},
     "output_type": "display_data"
    }
   ],
   "source": [
    "btn6"
   ]
  },
  {
   "cell_type": "code",
   "execution_count": 80,
   "metadata": {},
   "outputs": [
    {
     "data": {
      "application/vnd.jupyter.widget-view+json": {
       "model_id": "ac94b225346844c2853640374f99b16f",
       "version_major": 2,
       "version_minor": 0
      },
      "text/plain": [
       "RadioButtons(options=('Yes', 'No'), value=None)"
      ]
     },
     "metadata": {},
     "output_type": "display_data"
    }
   ],
   "source": [
    "q6"
   ]
  },
  {
   "cell_type": "code",
   "execution_count": 81,
   "metadata": {},
   "outputs": [],
   "source": [
    "timer(btn6,timeLblW[5],q6)"
   ]
  },
  {
   "cell_type": "markdown",
   "metadata": {},
   "source": [
    "### Q6.1 Effort to answer the question"
   ]
  },
  {
   "cell_type": "code",
   "execution_count": 82,
   "metadata": {},
   "outputs": [
    {
     "data": {
      "application/vnd.jupyter.widget-view+json": {
       "model_id": "3dd902cbd6244d26bc3bde05e71168e0",
       "version_major": 2,
       "version_minor": 0
      },
      "text/plain": [
       "ToggleButtons(description='Select Effort:', options=('Low', 'Regular', 'High'), value=None)"
      ]
     },
     "metadata": {},
     "output_type": "display_data"
    }
   ],
   "source": [
    "effortW[5]"
   ]
  },
  {
   "cell_type": "markdown",
   "metadata": {},
   "source": [
    "## Q7. Choose the attributes that can be used as sharging keys to fragment the release using a hash based and an interval based strategy"
   ]
  },
  {
   "cell_type": "code",
   "execution_count": 83,
   "metadata": {},
   "outputs": [
    {
     "data": {
      "application/vnd.jupyter.widget-view+json": {
       "model_id": "6df8830921d8409abf2e06ec17490f85",
       "version_major": 2,
       "version_minor": 0
      },
      "text/plain": [
       "Text(value='0', disabled=True)"
      ]
     },
     "metadata": {},
     "output_type": "display_data"
    }
   ],
   "source": [
    "timeLblW[6]"
   ]
  },
  {
   "cell_type": "code",
   "execution_count": 84,
   "metadata": {},
   "outputs": [
    {
     "data": {
      "application/vnd.jupyter.widget-view+json": {
       "model_id": "c61e2f2c693749db874f704288391335",
       "version_major": 2,
       "version_minor": 0
      },
      "text/plain": [
       "ToggleButton(value=False, button_style='info', description='Activate')"
      ]
     },
     "metadata": {},
     "output_type": "display_data"
    }
   ],
   "source": [
    "btn7"
   ]
  },
  {
   "cell_type": "code",
   "execution_count": 85,
   "metadata": {},
   "outputs": [],
   "source": [
    "timerTab(btn7,timeLblW[6],q7)"
   ]
  },
  {
   "cell_type": "code",
   "execution_count": 86,
   "metadata": {},
   "outputs": [
    {
     "data": {
      "application/vnd.jupyter.widget-view+json": {
       "model_id": "38a198c4b39746be96a7f865134455c1",
       "version_major": 2,
       "version_minor": 0
      },
      "text/plain": [
       "Tab(children=(Dropdown(disabled=True, options=('--', 'Id', 'UserId', 'Name', 'Date', 'Class', 'TagBased'), val…"
      ]
     },
     "metadata": {},
     "output_type": "display_data"
    }
   ],
   "source": [
    "q7"
   ]
  },
  {
   "cell_type": "markdown",
   "metadata": {},
   "source": [
    "### Q7.1 Effort to answer the question"
   ]
  },
  {
   "cell_type": "code",
   "execution_count": 87,
   "metadata": {},
   "outputs": [
    {
     "data": {
      "application/vnd.jupyter.widget-view+json": {
       "model_id": "af324c8c97de4ff88c5684368f91c661",
       "version_major": 2,
       "version_minor": 0
      },
      "text/plain": [
       "ToggleButtons(description='Select Effort:', options=('Low', 'Regular', 'High'), value=None)"
      ]
     },
     "metadata": {},
     "output_type": "display_data"
    }
   ],
   "source": [
    "effortW[6]"
   ]
  },
  {
   "cell_type": "markdown",
   "metadata": {},
   "source": [
    "## Get Match Results"
   ]
  },
  {
   "cell_type": "code",
   "execution_count": 90,
   "metadata": {},
   "outputs": [],
   "source": [
    "# collect user effort \n",
    "userEffortL = []\n",
    "for e in effortW:\n",
    "    userEffortL.append(e.value) \n",
    "        \n",
    "# collect time from answers\n",
    "qtimeL=[]\n",
    "for t in timeLblW:\n",
    "    qtimeL.append(int(t.value))\n",
    "\n",
    "# tuple for answers\n",
    "qans1=q1.options[2]\n",
    "qans2=q2.options[0]\n",
    "qans3=q3.options[1]\n",
    "qans4=q4.options[3]\n",
    "qans5=[q5.children[0].options[3],q5.children[1].options[0],q5.children[2].options[5],q5.children[3].options[5],q5.children[4].options[0]]\n",
    "qans6=q6.options[0]\n",
    "qans7=[q7.children[0].options[3],q7.children[1].options[0],q7.children[2].options[5],q7.children[3].options[5],q7.children[4].options[0]]\n",
    "qans = [qans1,qans2,qans3,qans4,qans5,qans6,qans7]\n",
    "\n",
    "scoreL = [0.0]*7\n",
    "\n",
    "if q1.value == qans1: scoreL[0]=1 \n",
    "if q2.value == qans2: scoreL[1]=1 \n",
    "if q3.value == qans3: scoreL[2]=1 \n",
    "if q4.value == qans4: scoreL[3]=1 \n",
    "\n",
    "if qans5[0] == q5.children[0].value: scoreL[4]=scoreL[4] + 0.2\n",
    "if qans5[1] == q5.children[1].value: scoreL[4]=scoreL[4] + 0.2\n",
    "if qans5[2] == q5.children[2].value: scoreL[4]=scoreL[4] + 0.2\n",
    "if qans5[3] == q5.children[3].value: scoreL[4]=scoreL[4] + 0.2\n",
    "if qans5[4] == q5.children[4].value: scoreL[4]=scoreL[4] + 0.2\n",
    "\n",
    "if q6.value ==qans6: scoreL[5]=1\n",
    "\n",
    "if qans7[0] == q7.children[0].value: scoreL[6]=scoreL[6] + 0.2\n",
    "if qans7[1] == q7.children[1].value: scoreL[6]=scoreL[6] + 0.2\n",
    "if qans7[2] == q7.children[2].value: scoreL[6]=scoreL[6] + 0.2\n",
    "if qans7[3] == q7.children[3].value: scoreL[6]=scoreL[6] + 0.2\n",
    "if qans7[4] == q7.children[4].value: scoreL[6]=scoreL[6] + 0.2\n",
    "        \n",
    "# calculated effort\n",
    "calcEffortL = []\n",
    "maxcEffort = 100\n",
    "for i in range(0,len(scoreL)):\n",
    "    if scoreL[i] == 0: \n",
    "        calcEffortL.append(maxcEffort)\n",
    "    else:\n",
    "        if int(qtimeL[i]) > 300: qtimeL[i] = 300 # 5 min limit\n",
    "        tmp=int(qtimeL[i])/scoreL[i]\n",
    "        calcEffortL.append((tmp*100)/1800)            "
   ]
  },
  {
   "cell_type": "code",
   "execution_count": 91,
   "metadata": {},
   "outputs": [],
   "source": [
    "import csv\n",
    "# qid | time | score | user_effort | calculated_effort | execution_time (cpu)\n",
    "header=['qid', 'score', 'time', 'user_effort', 'calculated_effort', 'execution_time'] \n",
    "qid=list(range(1,8))\n",
    "elapsedL = [elapsed]*7\n",
    "\n",
    "rows = zip(qid,scoreL,qtimeL,userEffortL,calcEffortL,elapsedL)\n",
    "\n",
    "with open(\"../results/match2.csv\", mode=\"w\") as f:\n",
    "    #writer = csv.writer(f, delimiter=',', quotechar='\"', quoting=csv.QUOTE_MINIMAL)\n",
    "    writer = csv.writer(f, delimiter=',')\n",
    "    writer.writerow(header)\n",
    "    for row in rows:\n",
    "        writer.writerow(row)"
   ]
  },
  {
   "cell_type": "code",
   "execution_count": null,
   "metadata": {},
   "outputs": [],
   "source": []
  }
 ],
 "metadata": {
  "kernelspec": {
   "display_name": "Python 3",
   "language": "python",
   "name": "python3"
  },
  "language_info": {
   "codemirror_mode": {
    "name": "ipython",
    "version": 3
   },
   "file_extension": ".py",
   "mimetype": "text/x-python",
   "name": "python",
   "nbconvert_exporter": "python",
   "pygments_lexer": "ipython3",
   "version": "3.6.5"
  }
 },
 "nbformat": 4,
 "nbformat_minor": 2
}
