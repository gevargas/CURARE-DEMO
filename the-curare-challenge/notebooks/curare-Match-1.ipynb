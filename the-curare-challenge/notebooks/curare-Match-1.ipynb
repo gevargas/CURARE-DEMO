{
 "cells": [
  {
   "cell_type": "markdown",
   "metadata": {
    "collapsed": true
   },
   "source": [
    "# The CURARE challenge: Match 1"
   ]
  },
  {
   "cell_type": "code",
   "execution_count": 1,
   "metadata": {},
   "outputs": [],
   "source": [
    "import pandas as pd\n",
    "import timeit\n",
    "import ipywidgets as widgets\n",
    "import csv\n",
    "import buttons_CurareGrame as b_curaregame"
   ]
  },
  {
   "cell_type": "markdown",
   "metadata": {},
   "source": [
    "### Preparing the game environment"
   ]
  },
  {
   "cell_type": "code",
   "execution_count": 2,
   "metadata": {},
   "outputs": [],
   "source": [
    "start_time = timeit.default_timer()\n",
    "elapsed = timeit.default_timer() - start_time"
   ]
  },
  {
   "cell_type": "code",
   "execution_count": 4,
   "metadata": {},
   "outputs": [],
   "source": [
    "#------------------------------------------------------------------------------------------------------------------------------------------#\n",
    "#------------------------------------------------------------------ Q1 --------------------------------------------------------------------#\n",
    "btn1=widgets.ToggleButton(value=False,description='Activate',disabled=False,button_style='info',tooltip='',icon='',visibility = 'visible')\n",
    "q1 = b_curaregame.define_question(['January 1rst 2018', 'January 2nd 2018', 'January 3rd 2018'], 'Release', 'Radio')\n",
    "\n",
    "#------------------------------------------------------------------ Q2 --------------------------------------------------------------------#\n",
    "btn2=widgets.ToggleButton(value=False,description='Activate',disabled=False,button_style='info',\n",
    "                          tooltip='',icon='',visibility = 'visible')\n",
    "q2 = b_curaregame.define_question(['January 1rst 2018', 'January 2nd 2018', 'January 3rd 2018'], 'Release','Radio')\n",
    "\n",
    "#------------------------------------------------------------------------------------------------------------------------------------------#\n",
    "#------------------------------------------------------------------ Q3 --------------------------------------------------------------------#\n",
    "btn3=widgets.ToggleButton(value=False,description='Activate',disabled=False,button_style='info',tooltip='',icon='',visibility = 'visible')\n",
    "timeLbl3=widgets.Text(value='0',description='',disabled=True)\n",
    "q3 = b_curaregame.define_question(['Id','PostTypeId','AcceptedAnswerId','ParentId','CreationDate',\n",
    "                     'DeletionDate','Score','ViewCount','Body','OwnerUserId','OwnerDisplayName',\n",
    "                      'LastEditorUserId','LastEditorDisplayName','LastEditDate','LastActivityDate',\n",
    "                      'Title','Tags','AnswerCount','CommentCount','FavoriteCount','ClosedDate',\n",
    "                      'CommunityOwnedDate'], 'Attribute:','Dropdown')\n",
    "\n",
    "#------------------------------------------------------------------------------------------------------------------------------------------#\n",
    "#------------------------------------------------------------------ Q4 --------------------------------------------------------------------#\n",
    "btn4=widgets.ToggleButton(value=False,description='Activate',disabled=False,button_style='info',\n",
    "                          tooltip='',icon='',visibility = 'visible')\n",
    "q4 = b_curaregame.define_question(['January 1rst 2018', 'January 2nd 2018', 'January 3rd 2018'], 'Release','Radio')\n",
    "\n",
    "#------------------------------------------------------------------------------------------------------------------------------------------#\n",
    "#------------------------------------------------------------------ Q5 --------------------------------------------------------------------#\n",
    "btn5=widgets.ToggleButton(value=False,description='Activate',disabled=False,button_style='info',tooltip='',icon='',visibility = 'visible')\n",
    "drop_options = [['--','Id','UserId','Name','Date','Class','TagBased'],\n",
    "                ['--','Id','PostId','Score','Text','CreationDate','UserDisplayName','UserId'],\n",
    "               ['--','Id','PostTypeId','AcceptedAnswerId','ParentId','CreationDate','DeletionDate','Score','ViewCount','Body','OwnerUserId','OwnerDisplayName','LastEditorUserId','LastEditorDisplayName','LastEditDate','LastActivityDate','Title','Tags','AnswerCount','CommentCount','FavoriteCount','ClosedDate','CommunityOwnedDate'],\n",
    "               ['--','Id','Reputation','CreationDate','DisplayName','LastAccessDate','WebsiteUrl','Location','AboutMe','Views','UpVotes','DownVotes','ProfileImageUrl','EmailHash','AccountId'],\n",
    "               ['--','Id','PostId','VoteTypeId','UserId','CreationDate','BountyAmount']]\n",
    "q5 = b_curaregame.drop_down_question(drop_options, '', ['Badges', 'Comments', 'Posts', 'Users', 'Votes'])\n",
    "    \n",
    "#------------------------------------------------------------------------------------------------------------------------------------------#\n",
    "#------------------------------------------------------------------ Q7 --------------------------------------------------------------------#\n",
    "btn7=widgets.ToggleButton(value=False,description='Activate',disabled=False,\n",
    "                          button_style='info',tooltip='',icon='',visibility = 'visible')\n",
    "q7 = b_curaregame.drop_down_question(drop_options, '', ['Badges', 'Comments', 'Posts', 'Users', 'Votes'])\n",
    "\n",
    "#------------------------------------------------------------------------------------------------------------------------------------------#\n",
    "#------------------------------------------------------- Effort questions -----------------------------------------------------------------#\n",
    "effortW = b_curaregame.collect_QuestionEffort()\n",
    "timeLblW = b_curaregame.collect_ResponseTime()"
   ]
  },
  {
   "cell_type": "markdown",
   "metadata": {},
   "source": [
    "# Explore the Stack overflow releases & solve the enigma "
   ]
  },
  {
   "cell_type": "markdown",
   "metadata": {},
   "source": [
    "## Q1. Which release has the most number of records?"
   ]
  },
  {
   "cell_type": "code",
   "execution_count": 5,
   "metadata": {},
   "outputs": [
    {
     "data": {
      "application/vnd.jupyter.widget-view+json": {
       "model_id": "aa30585b39ab4b418a2ec2ce4c111e31",
       "version_major": 2,
       "version_minor": 0
      },
      "text/plain": [
       "Text(value='0', disabled=True)"
      ]
     },
     "metadata": {},
     "output_type": "display_data"
    }
   ],
   "source": [
    "timeLblW[0]"
   ]
  },
  {
   "cell_type": "code",
   "execution_count": 6,
   "metadata": {},
   "outputs": [
    {
     "data": {
      "application/vnd.jupyter.widget-view+json": {
       "model_id": "ade12450d75f42eda648025b5c5af94e",
       "version_major": 2,
       "version_minor": 0
      },
      "text/plain": [
       "ToggleButton(value=False, button_style='info', description='Activate')"
      ]
     },
     "metadata": {},
     "output_type": "display_data"
    }
   ],
   "source": [
    "btn1"
   ]
  },
  {
   "cell_type": "code",
   "execution_count": 7,
   "metadata": {},
   "outputs": [
    {
     "data": {
      "application/vnd.jupyter.widget-view+json": {
       "model_id": "0ef1e1ea889245bcbf0458eb5cf2862c",
       "version_major": 2,
       "version_minor": 0
      },
      "text/plain": [
       "RadioButtons(description='Release', disabled=True, options=('January 1rst 2018', 'January 2nd 2018', 'January …"
      ]
     },
     "metadata": {},
     "output_type": "display_data"
    }
   ],
   "source": [
    "q1"
   ]
  },
  {
   "cell_type": "code",
   "execution_count": 37,
   "metadata": {},
   "outputs": [],
   "source": [
    "b_curaregame.timer(btn1, timeLblW[0], q1)"
   ]
  },
  {
   "cell_type": "markdown",
   "metadata": {},
   "source": [
    "### Q1.1 Effort to answer the question"
   ]
  },
  {
   "cell_type": "code",
   "execution_count": 38,
   "metadata": {},
   "outputs": [
    {
     "data": {
      "application/vnd.jupyter.widget-view+json": {
       "model_id": "23fd4b3c955445258390822e2e80cafe",
       "version_major": 2,
       "version_minor": 0
      },
      "text/plain": [
       "ToggleButtons(description='Select Effort:', index=1, options=('Low', 'Regular', 'High'), value='Regular')"
      ]
     },
     "metadata": {},
     "output_type": "display_data"
    }
   ],
   "source": [
    "effortW[0]"
   ]
  },
  {
   "cell_type": "markdown",
   "metadata": {},
   "source": [
    "## Q2. Which is the release with best quality? (fewest null values)"
   ]
  },
  {
   "cell_type": "code",
   "execution_count": 10,
   "metadata": {},
   "outputs": [
    {
     "data": {
      "application/vnd.jupyter.widget-view+json": {
       "model_id": "322a0e778c6e4218aec72a5e6d2db8e1",
       "version_major": 2,
       "version_minor": 0
      },
      "text/plain": [
       "Text(value='0', disabled=True)"
      ]
     },
     "metadata": {},
     "output_type": "display_data"
    }
   ],
   "source": [
    "timeLblW[1]"
   ]
  },
  {
   "cell_type": "code",
   "execution_count": 11,
   "metadata": {},
   "outputs": [
    {
     "data": {
      "application/vnd.jupyter.widget-view+json": {
       "model_id": "5445733ed8b14e9eb765abab29c38ba4",
       "version_major": 2,
       "version_minor": 0
      },
      "text/plain": [
       "ToggleButton(value=False, button_style='info', description='Activate')"
      ]
     },
     "metadata": {},
     "output_type": "display_data"
    }
   ],
   "source": [
    "#b_curaregame.btn2\n",
    "btn2"
   ]
  },
  {
   "cell_type": "code",
   "execution_count": 12,
   "metadata": {},
   "outputs": [
    {
     "data": {
      "application/vnd.jupyter.widget-view+json": {
       "model_id": "59e1c183ad8e45a99887e7a774bb9499",
       "version_major": 2,
       "version_minor": 0
      },
      "text/plain": [
       "RadioButtons(description='Release', disabled=True, options=('January 1rst 2018', 'January 2nd 2018', 'January …"
      ]
     },
     "metadata": {},
     "output_type": "display_data"
    }
   ],
   "source": [
    "q2"
   ]
  },
  {
   "cell_type": "code",
   "execution_count": 39,
   "metadata": {},
   "outputs": [],
   "source": [
    "b_curaregame.timer(btn2,timeLblW[1],q2)"
   ]
  },
  {
   "cell_type": "markdown",
   "metadata": {},
   "source": [
    "### Q2.1 Effort to answer the question"
   ]
  },
  {
   "cell_type": "code",
   "execution_count": 40,
   "metadata": {},
   "outputs": [
    {
     "data": {
      "application/vnd.jupyter.widget-view+json": {
       "model_id": "af882d2203604e1698c02e1632536d0c",
       "version_major": 2,
       "version_minor": 0
      },
      "text/plain": [
       "ToggleButtons(description='Select Effort:', index=1, options=('Low', 'Regular', 'High'), value='Regular')"
      ]
     },
     "metadata": {},
     "output_type": "display_data"
    }
   ],
   "source": [
    "effortW[1]"
   ]
  },
  {
   "cell_type": "markdown",
   "metadata": {},
   "source": [
    "## Q3 Which is/are the attribute(s) in Posts that can be used to identify the most trendy topic addressed in a release?"
   ]
  },
  {
   "cell_type": "code",
   "execution_count": 15,
   "metadata": {},
   "outputs": [
    {
     "data": {
      "application/vnd.jupyter.widget-view+json": {
       "model_id": "6f833fc4b15d47169bd8021f476cbb05",
       "version_major": 2,
       "version_minor": 0
      },
      "text/plain": [
       "Text(value='0', disabled=True)"
      ]
     },
     "metadata": {},
     "output_type": "display_data"
    }
   ],
   "source": [
    "timeLblW[2]"
   ]
  },
  {
   "cell_type": "code",
   "execution_count": 16,
   "metadata": {},
   "outputs": [
    {
     "data": {
      "application/vnd.jupyter.widget-view+json": {
       "model_id": "0017884901eb4d7ea5a2b4e46590a575",
       "version_major": 2,
       "version_minor": 0
      },
      "text/plain": [
       "ToggleButton(value=False, button_style='info', description='Activate')"
      ]
     },
     "metadata": {},
     "output_type": "display_data"
    }
   ],
   "source": [
    "btn3"
   ]
  },
  {
   "cell_type": "code",
   "execution_count": 17,
   "metadata": {},
   "outputs": [
    {
     "data": {
      "application/vnd.jupyter.widget-view+json": {
       "model_id": "6ce6203e7af34bab81229edb86fe0ab5",
       "version_major": 2,
       "version_minor": 0
      },
      "text/plain": [
       "Dropdown(description='Attribute:', disabled=True, options=('Id', 'PostTypeId', 'AcceptedAnswerId', 'ParentId',…"
      ]
     },
     "metadata": {},
     "output_type": "display_data"
    }
   ],
   "source": [
    "q3"
   ]
  },
  {
   "cell_type": "code",
   "execution_count": 41,
   "metadata": {},
   "outputs": [],
   "source": [
    "b_curaregame.timer(btn3, timeLblW[2], q3)"
   ]
  },
  {
   "cell_type": "markdown",
   "metadata": {},
   "source": [
    "### Q3.1 Effort to answer the question"
   ]
  },
  {
   "cell_type": "code",
   "execution_count": 42,
   "metadata": {},
   "outputs": [
    {
     "data": {
      "application/vnd.jupyter.widget-view+json": {
       "model_id": "8e4044b653ca43aea4d76a7a6a2f2468",
       "version_major": 2,
       "version_minor": 0
      },
      "text/plain": [
       "ToggleButtons(description='Select Effort:', index=2, options=('Low', 'Regular', 'High'), value='High')"
      ]
     },
     "metadata": {},
     "output_type": "display_data"
    }
   ],
   "source": [
    "effortW[3]"
   ]
  },
  {
   "cell_type": "markdown",
   "metadata": {},
   "source": [
    "## Q4. Which is the release where the attribute _UpVote_  from _Users_  is most evenly distributed?"
   ]
  },
  {
   "cell_type": "code",
   "execution_count": 20,
   "metadata": {},
   "outputs": [
    {
     "data": {
      "application/vnd.jupyter.widget-view+json": {
       "model_id": "bcd9ee1d0c554c1eb89fc544a1691df8",
       "version_major": 2,
       "version_minor": 0
      },
      "text/plain": [
       "Text(value='0', disabled=True)"
      ]
     },
     "metadata": {},
     "output_type": "display_data"
    }
   ],
   "source": [
    "timeLblW[3]"
   ]
  },
  {
   "cell_type": "code",
   "execution_count": 21,
   "metadata": {},
   "outputs": [
    {
     "data": {
      "application/vnd.jupyter.widget-view+json": {
       "model_id": "07f6e7c368c042079e18e89b9955e505",
       "version_major": 2,
       "version_minor": 0
      },
      "text/plain": [
       "ToggleButton(value=False, button_style='info', description='Activate')"
      ]
     },
     "metadata": {},
     "output_type": "display_data"
    }
   ],
   "source": [
    "btn4"
   ]
  },
  {
   "cell_type": "code",
   "execution_count": 22,
   "metadata": {},
   "outputs": [
    {
     "data": {
      "application/vnd.jupyter.widget-view+json": {
       "model_id": "2d5b71c9b7ba42a38891426174d92e9e",
       "version_major": 2,
       "version_minor": 0
      },
      "text/plain": [
       "RadioButtons(description='Release', disabled=True, options=('January 1rst 2018', 'January 2nd 2018', 'January …"
      ]
     },
     "metadata": {},
     "output_type": "display_data"
    }
   ],
   "source": [
    "q4"
   ]
  },
  {
   "cell_type": "code",
   "execution_count": 43,
   "metadata": {},
   "outputs": [],
   "source": [
    "b_curaregame.timer(btn4,timeLblW[3],q4)"
   ]
  },
  {
   "cell_type": "markdown",
   "metadata": {},
   "source": [
    "### Q4.1 Effort to answer the question"
   ]
  },
  {
   "cell_type": "code",
   "execution_count": 44,
   "metadata": {},
   "outputs": [
    {
     "data": {
      "application/vnd.jupyter.widget-view+json": {
       "model_id": "8e4044b653ca43aea4d76a7a6a2f2468",
       "version_major": 2,
       "version_minor": 0
      },
      "text/plain": [
       "ToggleButtons(description='Select Effort:', index=2, options=('Low', 'Regular', 'High'), value='High')"
      ]
     },
     "metadata": {},
     "output_type": "display_data"
    }
   ],
   "source": [
    "effortW[3]"
   ]
  },
  {
   "cell_type": "markdown",
   "metadata": {},
   "source": [
    "## Q5. Which is/are the attribute(s) that can be used to identify the most trendy topic addressed in the release?"
   ]
  },
  {
   "cell_type": "code",
   "execution_count": 25,
   "metadata": {},
   "outputs": [
    {
     "data": {
      "application/vnd.jupyter.widget-view+json": {
       "model_id": "c86f2151a7d34a42890605619c01206c",
       "version_major": 2,
       "version_minor": 0
      },
      "text/plain": [
       "Text(value='0', disabled=True)"
      ]
     },
     "metadata": {},
     "output_type": "display_data"
    }
   ],
   "source": [
    "timeLblW[4]"
   ]
  },
  {
   "cell_type": "code",
   "execution_count": 26,
   "metadata": {},
   "outputs": [
    {
     "data": {
      "application/vnd.jupyter.widget-view+json": {
       "model_id": "4806fe427bf04c4f88139a2c99fe4e64",
       "version_major": 2,
       "version_minor": 0
      },
      "text/plain": [
       "ToggleButton(value=False, button_style='info', description='Activate')"
      ]
     },
     "metadata": {},
     "output_type": "display_data"
    }
   ],
   "source": [
    "btn5"
   ]
  },
  {
   "cell_type": "code",
   "execution_count": 27,
   "metadata": {
    "scrolled": true
   },
   "outputs": [
    {
     "data": {
      "application/vnd.jupyter.widget-view+json": {
       "model_id": "db99581126be4995846f914166592a57",
       "version_major": 2,
       "version_minor": 0
      },
      "text/plain": [
       "Tab(children=(Dropdown(options=('--', 'Id', 'UserId', 'Name', 'Date', 'Class', 'TagBased'), value=None), Dropd…"
      ]
     },
     "metadata": {},
     "output_type": "display_data"
    }
   ],
   "source": [
    "q5"
   ]
  },
  {
   "cell_type": "code",
   "execution_count": 45,
   "metadata": {},
   "outputs": [],
   "source": [
    "b_curaregame.timerTab(btn5,timeLblW[4],q5)"
   ]
  },
  {
   "cell_type": "markdown",
   "metadata": {},
   "source": [
    "### Q5.1 Effort to answer the question"
   ]
  },
  {
   "cell_type": "code",
   "execution_count": 46,
   "metadata": {},
   "outputs": [
    {
     "data": {
      "application/vnd.jupyter.widget-view+json": {
       "model_id": "90870d95929146e8a0babe56641bc8ca",
       "version_major": 2,
       "version_minor": 0
      },
      "text/plain": [
       "ToggleButtons(description='Select Effort:', index=2, options=('Low', 'Regular', 'High'), value='High')"
      ]
     },
     "metadata": {},
     "output_type": "display_data"
    }
   ],
   "source": [
    "effortW[4]"
   ]
  },
  {
   "cell_type": "markdown",
   "metadata": {},
   "source": [
    "## Q6. Choose the attributes that can be used as sharging keys to fragment the release using a hash based strategy"
   ]
  },
  {
   "cell_type": "code",
   "execution_count": 30,
   "metadata": {},
   "outputs": [
    {
     "data": {
      "application/vnd.jupyter.widget-view+json": {
       "model_id": "d883cc20b19a4f4482dc14dd7c4523d9",
       "version_major": 2,
       "version_minor": 0
      },
      "text/plain": [
       "Text(value='0', disabled=True)"
      ]
     },
     "metadata": {},
     "output_type": "display_data"
    }
   ],
   "source": [
    "timeLblW[6]"
   ]
  },
  {
   "cell_type": "code",
   "execution_count": 31,
   "metadata": {},
   "outputs": [
    {
     "data": {
      "application/vnd.jupyter.widget-view+json": {
       "model_id": "2078776ac3014ae8a1b704ae250db9ac",
       "version_major": 2,
       "version_minor": 0
      },
      "text/plain": [
       "ToggleButton(value=False, button_style='info', description='Activate')"
      ]
     },
     "metadata": {},
     "output_type": "display_data"
    }
   ],
   "source": [
    "btn7"
   ]
  },
  {
   "cell_type": "code",
   "execution_count": 32,
   "metadata": {},
   "outputs": [],
   "source": [
    "b_curaregame.timerTab(btn7, timeLblW[6], q7)"
   ]
  },
  {
   "cell_type": "code",
   "execution_count": 33,
   "metadata": {},
   "outputs": [
    {
     "data": {
      "application/vnd.jupyter.widget-view+json": {
       "model_id": "0762e54e05f940a78fccc7bd24c56764",
       "version_major": 2,
       "version_minor": 0
      },
      "text/plain": [
       "Tab(children=(Dropdown(disabled=True, options=('--', 'Id', 'UserId', 'Name', 'Date', 'Class', 'TagBased'), val…"
      ]
     },
     "metadata": {},
     "output_type": "display_data"
    }
   ],
   "source": [
    "q7"
   ]
  },
  {
   "cell_type": "markdown",
   "metadata": {},
   "source": [
    "### Q6.1 Effort to answer the question"
   ]
  },
  {
   "cell_type": "code",
   "execution_count": 47,
   "metadata": {},
   "outputs": [
    {
     "data": {
      "application/vnd.jupyter.widget-view+json": {
       "model_id": "fad28730910d4e9f9274a2815c042299",
       "version_major": 2,
       "version_minor": 0
      },
      "text/plain": [
       "ToggleButtons(description='Select Effort:', index=2, options=('Low', 'Regular', 'High'), value='High')"
      ]
     },
     "metadata": {},
     "output_type": "display_data"
    }
   ],
   "source": [
    "effortW[6]"
   ]
  },
  {
   "cell_type": "markdown",
   "metadata": {},
   "source": [
    "## Get  & Store Match Results"
   ]
  },
  {
   "cell_type": "code",
   "execution_count": 48,
   "metadata": {},
   "outputs": [],
   "source": [
    "userEffortL = b_curaregame.collect_UserEffort_answers(effortW)\n",
    "\n",
    "qtimeL = b_curaregame.collect_TimeResponse_answers(timeLblW)\n",
    "\n",
    "qans = b_curaregame.collect_Questions_answers(q1, q2, q3, q4, q5, q7)\n",
    "\n",
    "scoreL = b_curaregame.compute_Score(q1, q2, q3, q4, q5, q7, qans)\n",
    "        \n",
    "calcEffortL = b_curaregame.estimate_Effort(scoreL, qtimeL)      "
   ]
  },
  {
   "cell_type": "code",
   "execution_count": 49,
   "metadata": {},
   "outputs": [],
   "source": [
    "b_curaregame.store_Game_Results(scoreL, qtimeL, userEffortL, calcEffortL, elapsed)"
   ]
  },
  {
   "cell_type": "code",
   "execution_count": null,
   "metadata": {},
   "outputs": [],
   "source": []
  }
 ],
 "metadata": {
  "kernelspec": {
   "display_name": "Python 3",
   "language": "python",
   "name": "python3"
  },
  "language_info": {
   "codemirror_mode": {
    "name": "ipython",
    "version": 3
   },
   "file_extension": ".py",
   "mimetype": "text/x-python",
   "name": "python",
   "nbconvert_exporter": "python",
   "pygments_lexer": "ipython3",
   "version": "3.6.5"
  }
 },
 "nbformat": 4,
 "nbformat_minor": 2
}
